{
  "nbformat": 4,
  "nbformat_minor": 0,
  "metadata": {
    "colab": {
      "name": "Untitled3.ipynb",
      "provenance": [],
      "collapsed_sections": []
    },
    "kernelspec": {
      "name": "python3",
      "display_name": "Python 3"
    },
    "language_info": {
      "name": "python"
    }
  },
  "cells": [
    {
      "cell_type": "markdown",
      "metadata": {
        "id": "QZHDGiyRWlpA"
      },
      "source": [
        "Caravan Insurance "
      ]
    },
    {
      "cell_type": "code",
      "metadata": {
        "colab": {
          "base_uri": "https://localhost:8080/"
        },
        "id": "IvsPvetsZSAu",
        "outputId": "1d33d1f9-9fee-4e6a-df94-5a5cf8aa7e50"
      },
      "source": [
        "from google.colab import drive\n",
        "drive.mount('/content/drive')"
      ],
      "execution_count": null,
      "outputs": [
        {
          "output_type": "stream",
          "name": "stdout",
          "text": [
            "Mounted at /content/drive\n"
          ]
        }
      ]
    },
    {
      "cell_type": "code",
      "metadata": {
        "id": "UHsKTH8qYeEJ"
      },
      "source": [
        "import numpy as np \n",
        "import pandas as pd \n",
        "import os\n",
        "%matplotlib inline\n",
        "import matplotlib\n",
        "import matplotlib.pyplot as plt\n",
        "plt.rcParams['axes.labelsize'] = 14\n",
        "plt.rcParams['xtick.labelsize'] = 12\n",
        "plt.rcParams['ytick.labelsize'] = 12"
      ],
      "execution_count": 2,
      "outputs": []
    },
    {
      "cell_type": "code",
      "metadata": {
        "id": "2HW3LTaeYg24"
      },
      "source": [
        "PROJECT_ROOT_DIR = \"/content/drive/MyDrive\"\n",
        "datafile_path = \"/content/drive/MyDrive/Google Colab/BDDA data set mid term/caravan-insurance-challenge.csv\"\n",
        "output_path = \"/content/drive/MyDrive/Google Colab/BDDA data set mid term/image new\"\n",
        "TP_amount = 90\n",
        "FN_amount = 0\n",
        "FP_amount = -10\n",
        "TN_amount = 0"
      ],
      "execution_count": 72,
      "outputs": []
    },
    {
      "cell_type": "code",
      "metadata": {
        "id": "KaRiQ77Jc9yC"
      },
      "source": [
        "def save_fig(fig_id, tight_layout=True):\n",
        "    path = os.path.join(PROJECT_ROOT_DIR, output_path, fig_id + \".png\")\n",
        "    print(\"Saving figure\", fig_id)\n",
        "    if tight_layout:\n",
        "        plt.tight_layout()\n",
        "    plt.savefig(path, format='png', dpi=300)"
      ],
      "execution_count": 4,
      "outputs": []
    },
    {
      "cell_type": "code",
      "metadata": {
        "colab": {
          "base_uri": "https://localhost:8080/",
          "height": 255
        },
        "id": "JyFNbQV6c_fS",
        "outputId": "675de938-eb29-4673-c58f-d36d2d90131c"
      },
      "source": [
        "data_all = pd.read_csv(datafile_path)\n",
        "data_all.head()"
      ],
      "execution_count": 5,
      "outputs": [
        {
          "output_type": "execute_result",
          "data": {
            "text/html": [
              "<div>\n",
              "<style scoped>\n",
              "    .dataframe tbody tr th:only-of-type {\n",
              "        vertical-align: middle;\n",
              "    }\n",
              "\n",
              "    .dataframe tbody tr th {\n",
              "        vertical-align: top;\n",
              "    }\n",
              "\n",
              "    .dataframe thead th {\n",
              "        text-align: right;\n",
              "    }\n",
              "</style>\n",
              "<table border=\"1\" class=\"dataframe\">\n",
              "  <thead>\n",
              "    <tr style=\"text-align: right;\">\n",
              "      <th></th>\n",
              "      <th>ORIGIN</th>\n",
              "      <th>MOSTYPE</th>\n",
              "      <th>MAANTHUI</th>\n",
              "      <th>MGEMOMV</th>\n",
              "      <th>MGEMLEEF</th>\n",
              "      <th>MOSHOOFD</th>\n",
              "      <th>MGODRK</th>\n",
              "      <th>MGODPR</th>\n",
              "      <th>MGODOV</th>\n",
              "      <th>MGODGE</th>\n",
              "      <th>MRELGE</th>\n",
              "      <th>MRELSA</th>\n",
              "      <th>MRELOV</th>\n",
              "      <th>MFALLEEN</th>\n",
              "      <th>MFGEKIND</th>\n",
              "      <th>MFWEKIND</th>\n",
              "      <th>MOPLHOOG</th>\n",
              "      <th>MOPLMIDD</th>\n",
              "      <th>MOPLLAAG</th>\n",
              "      <th>MBERHOOG</th>\n",
              "      <th>MBERZELF</th>\n",
              "      <th>MBERBOER</th>\n",
              "      <th>MBERMIDD</th>\n",
              "      <th>MBERARBG</th>\n",
              "      <th>MBERARBO</th>\n",
              "      <th>MSKA</th>\n",
              "      <th>MSKB1</th>\n",
              "      <th>MSKB2</th>\n",
              "      <th>MSKC</th>\n",
              "      <th>MSKD</th>\n",
              "      <th>MHHUUR</th>\n",
              "      <th>MHKOOP</th>\n",
              "      <th>MAUT1</th>\n",
              "      <th>MAUT2</th>\n",
              "      <th>MAUT0</th>\n",
              "      <th>MZFONDS</th>\n",
              "      <th>MZPART</th>\n",
              "      <th>MINKM30</th>\n",
              "      <th>MINK3045</th>\n",
              "      <th>MINK4575</th>\n",
              "      <th>...</th>\n",
              "      <th>PPERSAUT</th>\n",
              "      <th>PBESAUT</th>\n",
              "      <th>PMOTSCO</th>\n",
              "      <th>PVRAAUT</th>\n",
              "      <th>PAANHANG</th>\n",
              "      <th>PTRACTOR</th>\n",
              "      <th>PWERKT</th>\n",
              "      <th>PBROM</th>\n",
              "      <th>PLEVEN</th>\n",
              "      <th>PPERSONG</th>\n",
              "      <th>PGEZONG</th>\n",
              "      <th>PWAOREG</th>\n",
              "      <th>PBRAND</th>\n",
              "      <th>PZEILPL</th>\n",
              "      <th>PPLEZIER</th>\n",
              "      <th>PFIETS</th>\n",
              "      <th>PINBOED</th>\n",
              "      <th>PBYSTAND</th>\n",
              "      <th>AWAPART</th>\n",
              "      <th>AWABEDR</th>\n",
              "      <th>AWALAND</th>\n",
              "      <th>APERSAUT</th>\n",
              "      <th>ABESAUT</th>\n",
              "      <th>AMOTSCO</th>\n",
              "      <th>AVRAAUT</th>\n",
              "      <th>AAANHANG</th>\n",
              "      <th>ATRACTOR</th>\n",
              "      <th>AWERKT</th>\n",
              "      <th>ABROM</th>\n",
              "      <th>ALEVEN</th>\n",
              "      <th>APERSONG</th>\n",
              "      <th>AGEZONG</th>\n",
              "      <th>AWAOREG</th>\n",
              "      <th>ABRAND</th>\n",
              "      <th>AZEILPL</th>\n",
              "      <th>APLEZIER</th>\n",
              "      <th>AFIETS</th>\n",
              "      <th>AINBOED</th>\n",
              "      <th>ABYSTAND</th>\n",
              "      <th>CARAVAN</th>\n",
              "    </tr>\n",
              "  </thead>\n",
              "  <tbody>\n",
              "    <tr>\n",
              "      <th>0</th>\n",
              "      <td>train</td>\n",
              "      <td>33</td>\n",
              "      <td>1</td>\n",
              "      <td>3</td>\n",
              "      <td>2</td>\n",
              "      <td>8</td>\n",
              "      <td>0</td>\n",
              "      <td>5</td>\n",
              "      <td>1</td>\n",
              "      <td>3</td>\n",
              "      <td>7</td>\n",
              "      <td>0</td>\n",
              "      <td>2</td>\n",
              "      <td>1</td>\n",
              "      <td>2</td>\n",
              "      <td>6</td>\n",
              "      <td>1</td>\n",
              "      <td>2</td>\n",
              "      <td>7</td>\n",
              "      <td>1</td>\n",
              "      <td>0</td>\n",
              "      <td>1</td>\n",
              "      <td>2</td>\n",
              "      <td>5</td>\n",
              "      <td>2</td>\n",
              "      <td>1</td>\n",
              "      <td>1</td>\n",
              "      <td>2</td>\n",
              "      <td>6</td>\n",
              "      <td>1</td>\n",
              "      <td>1</td>\n",
              "      <td>8</td>\n",
              "      <td>8</td>\n",
              "      <td>0</td>\n",
              "      <td>1</td>\n",
              "      <td>8</td>\n",
              "      <td>1</td>\n",
              "      <td>0</td>\n",
              "      <td>4</td>\n",
              "      <td>5</td>\n",
              "      <td>...</td>\n",
              "      <td>6</td>\n",
              "      <td>0</td>\n",
              "      <td>0</td>\n",
              "      <td>0</td>\n",
              "      <td>0</td>\n",
              "      <td>0</td>\n",
              "      <td>0</td>\n",
              "      <td>0</td>\n",
              "      <td>0</td>\n",
              "      <td>0</td>\n",
              "      <td>0</td>\n",
              "      <td>0</td>\n",
              "      <td>5</td>\n",
              "      <td>0</td>\n",
              "      <td>0</td>\n",
              "      <td>0</td>\n",
              "      <td>0</td>\n",
              "      <td>0</td>\n",
              "      <td>0</td>\n",
              "      <td>0</td>\n",
              "      <td>0</td>\n",
              "      <td>1</td>\n",
              "      <td>0</td>\n",
              "      <td>0</td>\n",
              "      <td>0</td>\n",
              "      <td>0</td>\n",
              "      <td>0</td>\n",
              "      <td>0</td>\n",
              "      <td>0</td>\n",
              "      <td>0</td>\n",
              "      <td>0</td>\n",
              "      <td>0</td>\n",
              "      <td>0</td>\n",
              "      <td>1</td>\n",
              "      <td>0</td>\n",
              "      <td>0</td>\n",
              "      <td>0</td>\n",
              "      <td>0</td>\n",
              "      <td>0</td>\n",
              "      <td>0</td>\n",
              "    </tr>\n",
              "    <tr>\n",
              "      <th>1</th>\n",
              "      <td>train</td>\n",
              "      <td>37</td>\n",
              "      <td>1</td>\n",
              "      <td>2</td>\n",
              "      <td>2</td>\n",
              "      <td>8</td>\n",
              "      <td>1</td>\n",
              "      <td>4</td>\n",
              "      <td>1</td>\n",
              "      <td>4</td>\n",
              "      <td>6</td>\n",
              "      <td>2</td>\n",
              "      <td>2</td>\n",
              "      <td>0</td>\n",
              "      <td>4</td>\n",
              "      <td>5</td>\n",
              "      <td>0</td>\n",
              "      <td>5</td>\n",
              "      <td>4</td>\n",
              "      <td>0</td>\n",
              "      <td>0</td>\n",
              "      <td>0</td>\n",
              "      <td>5</td>\n",
              "      <td>0</td>\n",
              "      <td>4</td>\n",
              "      <td>0</td>\n",
              "      <td>2</td>\n",
              "      <td>3</td>\n",
              "      <td>5</td>\n",
              "      <td>0</td>\n",
              "      <td>2</td>\n",
              "      <td>7</td>\n",
              "      <td>7</td>\n",
              "      <td>1</td>\n",
              "      <td>2</td>\n",
              "      <td>6</td>\n",
              "      <td>3</td>\n",
              "      <td>2</td>\n",
              "      <td>0</td>\n",
              "      <td>5</td>\n",
              "      <td>...</td>\n",
              "      <td>0</td>\n",
              "      <td>0</td>\n",
              "      <td>0</td>\n",
              "      <td>0</td>\n",
              "      <td>0</td>\n",
              "      <td>0</td>\n",
              "      <td>0</td>\n",
              "      <td>0</td>\n",
              "      <td>0</td>\n",
              "      <td>0</td>\n",
              "      <td>0</td>\n",
              "      <td>0</td>\n",
              "      <td>2</td>\n",
              "      <td>0</td>\n",
              "      <td>0</td>\n",
              "      <td>0</td>\n",
              "      <td>0</td>\n",
              "      <td>0</td>\n",
              "      <td>2</td>\n",
              "      <td>0</td>\n",
              "      <td>0</td>\n",
              "      <td>0</td>\n",
              "      <td>0</td>\n",
              "      <td>0</td>\n",
              "      <td>0</td>\n",
              "      <td>0</td>\n",
              "      <td>0</td>\n",
              "      <td>0</td>\n",
              "      <td>0</td>\n",
              "      <td>0</td>\n",
              "      <td>0</td>\n",
              "      <td>0</td>\n",
              "      <td>0</td>\n",
              "      <td>1</td>\n",
              "      <td>0</td>\n",
              "      <td>0</td>\n",
              "      <td>0</td>\n",
              "      <td>0</td>\n",
              "      <td>0</td>\n",
              "      <td>0</td>\n",
              "    </tr>\n",
              "    <tr>\n",
              "      <th>2</th>\n",
              "      <td>train</td>\n",
              "      <td>37</td>\n",
              "      <td>1</td>\n",
              "      <td>2</td>\n",
              "      <td>2</td>\n",
              "      <td>8</td>\n",
              "      <td>0</td>\n",
              "      <td>4</td>\n",
              "      <td>2</td>\n",
              "      <td>4</td>\n",
              "      <td>3</td>\n",
              "      <td>2</td>\n",
              "      <td>4</td>\n",
              "      <td>4</td>\n",
              "      <td>4</td>\n",
              "      <td>2</td>\n",
              "      <td>0</td>\n",
              "      <td>5</td>\n",
              "      <td>4</td>\n",
              "      <td>0</td>\n",
              "      <td>0</td>\n",
              "      <td>0</td>\n",
              "      <td>7</td>\n",
              "      <td>0</td>\n",
              "      <td>2</td>\n",
              "      <td>0</td>\n",
              "      <td>5</td>\n",
              "      <td>0</td>\n",
              "      <td>4</td>\n",
              "      <td>0</td>\n",
              "      <td>7</td>\n",
              "      <td>2</td>\n",
              "      <td>7</td>\n",
              "      <td>0</td>\n",
              "      <td>2</td>\n",
              "      <td>9</td>\n",
              "      <td>0</td>\n",
              "      <td>4</td>\n",
              "      <td>5</td>\n",
              "      <td>0</td>\n",
              "      <td>...</td>\n",
              "      <td>6</td>\n",
              "      <td>0</td>\n",
              "      <td>0</td>\n",
              "      <td>0</td>\n",
              "      <td>0</td>\n",
              "      <td>0</td>\n",
              "      <td>0</td>\n",
              "      <td>0</td>\n",
              "      <td>0</td>\n",
              "      <td>0</td>\n",
              "      <td>0</td>\n",
              "      <td>0</td>\n",
              "      <td>2</td>\n",
              "      <td>0</td>\n",
              "      <td>0</td>\n",
              "      <td>0</td>\n",
              "      <td>0</td>\n",
              "      <td>0</td>\n",
              "      <td>1</td>\n",
              "      <td>0</td>\n",
              "      <td>0</td>\n",
              "      <td>1</td>\n",
              "      <td>0</td>\n",
              "      <td>0</td>\n",
              "      <td>0</td>\n",
              "      <td>0</td>\n",
              "      <td>0</td>\n",
              "      <td>0</td>\n",
              "      <td>0</td>\n",
              "      <td>0</td>\n",
              "      <td>0</td>\n",
              "      <td>0</td>\n",
              "      <td>0</td>\n",
              "      <td>1</td>\n",
              "      <td>0</td>\n",
              "      <td>0</td>\n",
              "      <td>0</td>\n",
              "      <td>0</td>\n",
              "      <td>0</td>\n",
              "      <td>0</td>\n",
              "    </tr>\n",
              "    <tr>\n",
              "      <th>3</th>\n",
              "      <td>train</td>\n",
              "      <td>9</td>\n",
              "      <td>1</td>\n",
              "      <td>3</td>\n",
              "      <td>3</td>\n",
              "      <td>3</td>\n",
              "      <td>2</td>\n",
              "      <td>3</td>\n",
              "      <td>2</td>\n",
              "      <td>4</td>\n",
              "      <td>5</td>\n",
              "      <td>2</td>\n",
              "      <td>2</td>\n",
              "      <td>2</td>\n",
              "      <td>3</td>\n",
              "      <td>4</td>\n",
              "      <td>3</td>\n",
              "      <td>4</td>\n",
              "      <td>2</td>\n",
              "      <td>4</td>\n",
              "      <td>0</td>\n",
              "      <td>0</td>\n",
              "      <td>3</td>\n",
              "      <td>1</td>\n",
              "      <td>2</td>\n",
              "      <td>3</td>\n",
              "      <td>2</td>\n",
              "      <td>1</td>\n",
              "      <td>4</td>\n",
              "      <td>0</td>\n",
              "      <td>5</td>\n",
              "      <td>4</td>\n",
              "      <td>9</td>\n",
              "      <td>0</td>\n",
              "      <td>0</td>\n",
              "      <td>7</td>\n",
              "      <td>2</td>\n",
              "      <td>1</td>\n",
              "      <td>5</td>\n",
              "      <td>3</td>\n",
              "      <td>...</td>\n",
              "      <td>6</td>\n",
              "      <td>0</td>\n",
              "      <td>0</td>\n",
              "      <td>0</td>\n",
              "      <td>0</td>\n",
              "      <td>0</td>\n",
              "      <td>0</td>\n",
              "      <td>0</td>\n",
              "      <td>0</td>\n",
              "      <td>0</td>\n",
              "      <td>0</td>\n",
              "      <td>0</td>\n",
              "      <td>2</td>\n",
              "      <td>0</td>\n",
              "      <td>0</td>\n",
              "      <td>0</td>\n",
              "      <td>0</td>\n",
              "      <td>0</td>\n",
              "      <td>0</td>\n",
              "      <td>0</td>\n",
              "      <td>0</td>\n",
              "      <td>1</td>\n",
              "      <td>0</td>\n",
              "      <td>0</td>\n",
              "      <td>0</td>\n",
              "      <td>0</td>\n",
              "      <td>0</td>\n",
              "      <td>0</td>\n",
              "      <td>0</td>\n",
              "      <td>0</td>\n",
              "      <td>0</td>\n",
              "      <td>0</td>\n",
              "      <td>0</td>\n",
              "      <td>1</td>\n",
              "      <td>0</td>\n",
              "      <td>0</td>\n",
              "      <td>0</td>\n",
              "      <td>0</td>\n",
              "      <td>0</td>\n",
              "      <td>0</td>\n",
              "    </tr>\n",
              "    <tr>\n",
              "      <th>4</th>\n",
              "      <td>train</td>\n",
              "      <td>40</td>\n",
              "      <td>1</td>\n",
              "      <td>4</td>\n",
              "      <td>2</td>\n",
              "      <td>10</td>\n",
              "      <td>1</td>\n",
              "      <td>4</td>\n",
              "      <td>1</td>\n",
              "      <td>4</td>\n",
              "      <td>7</td>\n",
              "      <td>1</td>\n",
              "      <td>2</td>\n",
              "      <td>2</td>\n",
              "      <td>4</td>\n",
              "      <td>4</td>\n",
              "      <td>5</td>\n",
              "      <td>4</td>\n",
              "      <td>0</td>\n",
              "      <td>0</td>\n",
              "      <td>5</td>\n",
              "      <td>4</td>\n",
              "      <td>0</td>\n",
              "      <td>0</td>\n",
              "      <td>0</td>\n",
              "      <td>9</td>\n",
              "      <td>0</td>\n",
              "      <td>0</td>\n",
              "      <td>0</td>\n",
              "      <td>0</td>\n",
              "      <td>4</td>\n",
              "      <td>5</td>\n",
              "      <td>6</td>\n",
              "      <td>2</td>\n",
              "      <td>1</td>\n",
              "      <td>5</td>\n",
              "      <td>4</td>\n",
              "      <td>0</td>\n",
              "      <td>0</td>\n",
              "      <td>9</td>\n",
              "      <td>...</td>\n",
              "      <td>0</td>\n",
              "      <td>0</td>\n",
              "      <td>0</td>\n",
              "      <td>0</td>\n",
              "      <td>0</td>\n",
              "      <td>0</td>\n",
              "      <td>0</td>\n",
              "      <td>0</td>\n",
              "      <td>0</td>\n",
              "      <td>0</td>\n",
              "      <td>0</td>\n",
              "      <td>0</td>\n",
              "      <td>6</td>\n",
              "      <td>0</td>\n",
              "      <td>0</td>\n",
              "      <td>0</td>\n",
              "      <td>0</td>\n",
              "      <td>0</td>\n",
              "      <td>0</td>\n",
              "      <td>0</td>\n",
              "      <td>0</td>\n",
              "      <td>0</td>\n",
              "      <td>0</td>\n",
              "      <td>0</td>\n",
              "      <td>0</td>\n",
              "      <td>0</td>\n",
              "      <td>0</td>\n",
              "      <td>0</td>\n",
              "      <td>0</td>\n",
              "      <td>0</td>\n",
              "      <td>0</td>\n",
              "      <td>0</td>\n",
              "      <td>0</td>\n",
              "      <td>1</td>\n",
              "      <td>0</td>\n",
              "      <td>0</td>\n",
              "      <td>0</td>\n",
              "      <td>0</td>\n",
              "      <td>0</td>\n",
              "      <td>0</td>\n",
              "    </tr>\n",
              "  </tbody>\n",
              "</table>\n",
              "<p>5 rows × 87 columns</p>\n",
              "</div>"
            ],
            "text/plain": [
              "  ORIGIN  MOSTYPE  MAANTHUI  MGEMOMV  ...  AFIETS  AINBOED  ABYSTAND  CARAVAN\n",
              "0  train       33         1        3  ...       0        0         0        0\n",
              "1  train       37         1        2  ...       0        0         0        0\n",
              "2  train       37         1        2  ...       0        0         0        0\n",
              "3  train        9         1        3  ...       0        0         0        0\n",
              "4  train       40         1        4  ...       0        0         0        0\n",
              "\n",
              "[5 rows x 87 columns]"
            ]
          },
          "metadata": {},
          "execution_count": 5
        }
      ]
    },
    {
      "cell_type": "code",
      "metadata": {
        "colab": {
          "base_uri": "https://localhost:8080/"
        },
        "id": "St3a1mvbdHro",
        "outputId": "3753bd5a-79ed-4e17-9edb-0d191b0261e0"
      },
      "source": [
        "data_all.info()"
      ],
      "execution_count": 6,
      "outputs": [
        {
          "output_type": "stream",
          "name": "stdout",
          "text": [
            "<class 'pandas.core.frame.DataFrame'>\n",
            "RangeIndex: 9822 entries, 0 to 9821\n",
            "Data columns (total 87 columns):\n",
            " #   Column    Non-Null Count  Dtype \n",
            "---  ------    --------------  ----- \n",
            " 0   ORIGIN    9822 non-null   object\n",
            " 1   MOSTYPE   9822 non-null   int64 \n",
            " 2   MAANTHUI  9822 non-null   int64 \n",
            " 3   MGEMOMV   9822 non-null   int64 \n",
            " 4   MGEMLEEF  9822 non-null   int64 \n",
            " 5   MOSHOOFD  9822 non-null   int64 \n",
            " 6   MGODRK    9822 non-null   int64 \n",
            " 7   MGODPR    9822 non-null   int64 \n",
            " 8   MGODOV    9822 non-null   int64 \n",
            " 9   MGODGE    9822 non-null   int64 \n",
            " 10  MRELGE    9822 non-null   int64 \n",
            " 11  MRELSA    9822 non-null   int64 \n",
            " 12  MRELOV    9822 non-null   int64 \n",
            " 13  MFALLEEN  9822 non-null   int64 \n",
            " 14  MFGEKIND  9822 non-null   int64 \n",
            " 15  MFWEKIND  9822 non-null   int64 \n",
            " 16  MOPLHOOG  9822 non-null   int64 \n",
            " 17  MOPLMIDD  9822 non-null   int64 \n",
            " 18  MOPLLAAG  9822 non-null   int64 \n",
            " 19  MBERHOOG  9822 non-null   int64 \n",
            " 20  MBERZELF  9822 non-null   int64 \n",
            " 21  MBERBOER  9822 non-null   int64 \n",
            " 22  MBERMIDD  9822 non-null   int64 \n",
            " 23  MBERARBG  9822 non-null   int64 \n",
            " 24  MBERARBO  9822 non-null   int64 \n",
            " 25  MSKA      9822 non-null   int64 \n",
            " 26  MSKB1     9822 non-null   int64 \n",
            " 27  MSKB2     9822 non-null   int64 \n",
            " 28  MSKC      9822 non-null   int64 \n",
            " 29  MSKD      9822 non-null   int64 \n",
            " 30  MHHUUR    9822 non-null   int64 \n",
            " 31  MHKOOP    9822 non-null   int64 \n",
            " 32  MAUT1     9822 non-null   int64 \n",
            " 33  MAUT2     9822 non-null   int64 \n",
            " 34  MAUT0     9822 non-null   int64 \n",
            " 35  MZFONDS   9822 non-null   int64 \n",
            " 36  MZPART    9822 non-null   int64 \n",
            " 37  MINKM30   9822 non-null   int64 \n",
            " 38  MINK3045  9822 non-null   int64 \n",
            " 39  MINK4575  9822 non-null   int64 \n",
            " 40  MINK7512  9822 non-null   int64 \n",
            " 41  MINK123M  9822 non-null   int64 \n",
            " 42  MINKGEM   9822 non-null   int64 \n",
            " 43  MKOOPKLA  9822 non-null   int64 \n",
            " 44  PWAPART   9822 non-null   int64 \n",
            " 45  PWABEDR   9822 non-null   int64 \n",
            " 46  PWALAND   9822 non-null   int64 \n",
            " 47  PPERSAUT  9822 non-null   int64 \n",
            " 48  PBESAUT   9822 non-null   int64 \n",
            " 49  PMOTSCO   9822 non-null   int64 \n",
            " 50  PVRAAUT   9822 non-null   int64 \n",
            " 51  PAANHANG  9822 non-null   int64 \n",
            " 52  PTRACTOR  9822 non-null   int64 \n",
            " 53  PWERKT    9822 non-null   int64 \n",
            " 54  PBROM     9822 non-null   int64 \n",
            " 55  PLEVEN    9822 non-null   int64 \n",
            " 56  PPERSONG  9822 non-null   int64 \n",
            " 57  PGEZONG   9822 non-null   int64 \n",
            " 58  PWAOREG   9822 non-null   int64 \n",
            " 59  PBRAND    9822 non-null   int64 \n",
            " 60  PZEILPL   9822 non-null   int64 \n",
            " 61  PPLEZIER  9822 non-null   int64 \n",
            " 62  PFIETS    9822 non-null   int64 \n",
            " 63  PINBOED   9822 non-null   int64 \n",
            " 64  PBYSTAND  9822 non-null   int64 \n",
            " 65  AWAPART   9822 non-null   int64 \n",
            " 66  AWABEDR   9822 non-null   int64 \n",
            " 67  AWALAND   9822 non-null   int64 \n",
            " 68  APERSAUT  9822 non-null   int64 \n",
            " 69  ABESAUT   9822 non-null   int64 \n",
            " 70  AMOTSCO   9822 non-null   int64 \n",
            " 71  AVRAAUT   9822 non-null   int64 \n",
            " 72  AAANHANG  9822 non-null   int64 \n",
            " 73  ATRACTOR  9822 non-null   int64 \n",
            " 74  AWERKT    9822 non-null   int64 \n",
            " 75  ABROM     9822 non-null   int64 \n",
            " 76  ALEVEN    9822 non-null   int64 \n",
            " 77  APERSONG  9822 non-null   int64 \n",
            " 78  AGEZONG   9822 non-null   int64 \n",
            " 79  AWAOREG   9822 non-null   int64 \n",
            " 80  ABRAND    9822 non-null   int64 \n",
            " 81  AZEILPL   9822 non-null   int64 \n",
            " 82  APLEZIER  9822 non-null   int64 \n",
            " 83  AFIETS    9822 non-null   int64 \n",
            " 84  AINBOED   9822 non-null   int64 \n",
            " 85  ABYSTAND  9822 non-null   int64 \n",
            " 86  CARAVAN   9822 non-null   int64 \n",
            "dtypes: int64(86), object(1)\n",
            "memory usage: 6.5+ MB\n"
          ]
        }
      ]
    },
    {
      "cell_type": "code",
      "metadata": {
        "colab": {
          "base_uri": "https://localhost:8080/"
        },
        "id": "dD-XkDB-dHpG",
        "outputId": "95a12590-7c90-405f-b2ed-4fffea779307"
      },
      "source": [
        "data_all[\"ORIGIN\"].value_counts()"
      ],
      "execution_count": 7,
      "outputs": [
        {
          "output_type": "execute_result",
          "data": {
            "text/plain": [
              "train    5822\n",
              "test     4000\n",
              "Name: ORIGIN, dtype: int64"
            ]
          },
          "metadata": {},
          "execution_count": 7
        }
      ]
    },
    {
      "cell_type": "code",
      "metadata": {
        "colab": {
          "base_uri": "https://localhost:8080/",
          "height": 349
        },
        "id": "LejDC5KDdHlv",
        "outputId": "b6162a7f-2731-4261-a8bc-e7c53a507833"
      },
      "source": [
        "data_all.describe()"
      ],
      "execution_count": 8,
      "outputs": [
        {
          "output_type": "execute_result",
          "data": {
            "text/html": [
              "<div>\n",
              "<style scoped>\n",
              "    .dataframe tbody tr th:only-of-type {\n",
              "        vertical-align: middle;\n",
              "    }\n",
              "\n",
              "    .dataframe tbody tr th {\n",
              "        vertical-align: top;\n",
              "    }\n",
              "\n",
              "    .dataframe thead th {\n",
              "        text-align: right;\n",
              "    }\n",
              "</style>\n",
              "<table border=\"1\" class=\"dataframe\">\n",
              "  <thead>\n",
              "    <tr style=\"text-align: right;\">\n",
              "      <th></th>\n",
              "      <th>MOSTYPE</th>\n",
              "      <th>MAANTHUI</th>\n",
              "      <th>MGEMOMV</th>\n",
              "      <th>MGEMLEEF</th>\n",
              "      <th>MOSHOOFD</th>\n",
              "      <th>MGODRK</th>\n",
              "      <th>MGODPR</th>\n",
              "      <th>MGODOV</th>\n",
              "      <th>MGODGE</th>\n",
              "      <th>MRELGE</th>\n",
              "      <th>MRELSA</th>\n",
              "      <th>MRELOV</th>\n",
              "      <th>MFALLEEN</th>\n",
              "      <th>MFGEKIND</th>\n",
              "      <th>MFWEKIND</th>\n",
              "      <th>MOPLHOOG</th>\n",
              "      <th>MOPLMIDD</th>\n",
              "      <th>MOPLLAAG</th>\n",
              "      <th>MBERHOOG</th>\n",
              "      <th>MBERZELF</th>\n",
              "      <th>MBERBOER</th>\n",
              "      <th>MBERMIDD</th>\n",
              "      <th>MBERARBG</th>\n",
              "      <th>MBERARBO</th>\n",
              "      <th>MSKA</th>\n",
              "      <th>MSKB1</th>\n",
              "      <th>MSKB2</th>\n",
              "      <th>MSKC</th>\n",
              "      <th>MSKD</th>\n",
              "      <th>MHHUUR</th>\n",
              "      <th>MHKOOP</th>\n",
              "      <th>MAUT1</th>\n",
              "      <th>MAUT2</th>\n",
              "      <th>MAUT0</th>\n",
              "      <th>MZFONDS</th>\n",
              "      <th>MZPART</th>\n",
              "      <th>MINKM30</th>\n",
              "      <th>MINK3045</th>\n",
              "      <th>MINK4575</th>\n",
              "      <th>MINK7512</th>\n",
              "      <th>...</th>\n",
              "      <th>PPERSAUT</th>\n",
              "      <th>PBESAUT</th>\n",
              "      <th>PMOTSCO</th>\n",
              "      <th>PVRAAUT</th>\n",
              "      <th>PAANHANG</th>\n",
              "      <th>PTRACTOR</th>\n",
              "      <th>PWERKT</th>\n",
              "      <th>PBROM</th>\n",
              "      <th>PLEVEN</th>\n",
              "      <th>PPERSONG</th>\n",
              "      <th>PGEZONG</th>\n",
              "      <th>PWAOREG</th>\n",
              "      <th>PBRAND</th>\n",
              "      <th>PZEILPL</th>\n",
              "      <th>PPLEZIER</th>\n",
              "      <th>PFIETS</th>\n",
              "      <th>PINBOED</th>\n",
              "      <th>PBYSTAND</th>\n",
              "      <th>AWAPART</th>\n",
              "      <th>AWABEDR</th>\n",
              "      <th>AWALAND</th>\n",
              "      <th>APERSAUT</th>\n",
              "      <th>ABESAUT</th>\n",
              "      <th>AMOTSCO</th>\n",
              "      <th>AVRAAUT</th>\n",
              "      <th>AAANHANG</th>\n",
              "      <th>ATRACTOR</th>\n",
              "      <th>AWERKT</th>\n",
              "      <th>ABROM</th>\n",
              "      <th>ALEVEN</th>\n",
              "      <th>APERSONG</th>\n",
              "      <th>AGEZONG</th>\n",
              "      <th>AWAOREG</th>\n",
              "      <th>ABRAND</th>\n",
              "      <th>AZEILPL</th>\n",
              "      <th>APLEZIER</th>\n",
              "      <th>AFIETS</th>\n",
              "      <th>AINBOED</th>\n",
              "      <th>ABYSTAND</th>\n",
              "      <th>CARAVAN</th>\n",
              "    </tr>\n",
              "  </thead>\n",
              "  <tbody>\n",
              "    <tr>\n",
              "      <th>count</th>\n",
              "      <td>9822.000000</td>\n",
              "      <td>9822.000000</td>\n",
              "      <td>9822.000000</td>\n",
              "      <td>9822.000000</td>\n",
              "      <td>9822.000000</td>\n",
              "      <td>9822.000000</td>\n",
              "      <td>9822.000000</td>\n",
              "      <td>9822.000000</td>\n",
              "      <td>9822.000000</td>\n",
              "      <td>9822.000000</td>\n",
              "      <td>9822.000000</td>\n",
              "      <td>9822.000000</td>\n",
              "      <td>9822.000000</td>\n",
              "      <td>9822.000000</td>\n",
              "      <td>9822.000000</td>\n",
              "      <td>9822.000000</td>\n",
              "      <td>9822.000000</td>\n",
              "      <td>9822.000000</td>\n",
              "      <td>9822.000000</td>\n",
              "      <td>9822.000000</td>\n",
              "      <td>9822.000000</td>\n",
              "      <td>9822.000000</td>\n",
              "      <td>9822.000000</td>\n",
              "      <td>9822.000000</td>\n",
              "      <td>9822.000000</td>\n",
              "      <td>9822.000000</td>\n",
              "      <td>9822.000000</td>\n",
              "      <td>9822.000000</td>\n",
              "      <td>9822.000000</td>\n",
              "      <td>9822.000000</td>\n",
              "      <td>9822.000000</td>\n",
              "      <td>9822.000000</td>\n",
              "      <td>9822.000000</td>\n",
              "      <td>9822.000000</td>\n",
              "      <td>9822.000000</td>\n",
              "      <td>9822.000000</td>\n",
              "      <td>9822.000000</td>\n",
              "      <td>9822.000000</td>\n",
              "      <td>9822.000000</td>\n",
              "      <td>9822.000000</td>\n",
              "      <td>...</td>\n",
              "      <td>9822.000000</td>\n",
              "      <td>9822.000000</td>\n",
              "      <td>9822.000000</td>\n",
              "      <td>9822.000000</td>\n",
              "      <td>9822.000000</td>\n",
              "      <td>9822.000000</td>\n",
              "      <td>9822.000000</td>\n",
              "      <td>9822.000000</td>\n",
              "      <td>9822.000000</td>\n",
              "      <td>9822.000000</td>\n",
              "      <td>9822.000000</td>\n",
              "      <td>9822.000000</td>\n",
              "      <td>9822.000000</td>\n",
              "      <td>9822.000000</td>\n",
              "      <td>9822.000000</td>\n",
              "      <td>9822.000000</td>\n",
              "      <td>9822.000000</td>\n",
              "      <td>9822.000000</td>\n",
              "      <td>9822.000000</td>\n",
              "      <td>9822.000000</td>\n",
              "      <td>9822.000000</td>\n",
              "      <td>9822.000000</td>\n",
              "      <td>9822.000000</td>\n",
              "      <td>9822.000000</td>\n",
              "      <td>9822.000000</td>\n",
              "      <td>9822.000000</td>\n",
              "      <td>9822.000000</td>\n",
              "      <td>9822.000000</td>\n",
              "      <td>9822.000000</td>\n",
              "      <td>9822.000000</td>\n",
              "      <td>9822.000000</td>\n",
              "      <td>9822.000000</td>\n",
              "      <td>9822.000000</td>\n",
              "      <td>9822.000000</td>\n",
              "      <td>9822.000000</td>\n",
              "      <td>9822.000000</td>\n",
              "      <td>9822.00000</td>\n",
              "      <td>9822.000000</td>\n",
              "      <td>9822.000000</td>\n",
              "      <td>9822.000000</td>\n",
              "    </tr>\n",
              "    <tr>\n",
              "      <th>mean</th>\n",
              "      <td>24.253207</td>\n",
              "      <td>1.108735</td>\n",
              "      <td>2.677561</td>\n",
              "      <td>2.996437</td>\n",
              "      <td>5.779067</td>\n",
              "      <td>0.700672</td>\n",
              "      <td>4.637650</td>\n",
              "      <td>1.050092</td>\n",
              "      <td>3.262981</td>\n",
              "      <td>6.188964</td>\n",
              "      <td>0.873142</td>\n",
              "      <td>2.286602</td>\n",
              "      <td>1.887294</td>\n",
              "      <td>3.237324</td>\n",
              "      <td>4.302891</td>\n",
              "      <td>1.484525</td>\n",
              "      <td>3.307269</td>\n",
              "      <td>4.592038</td>\n",
              "      <td>1.898799</td>\n",
              "      <td>0.403278</td>\n",
              "      <td>0.545714</td>\n",
              "      <td>2.877113</td>\n",
              "      <td>2.226532</td>\n",
              "      <td>2.291183</td>\n",
              "      <td>1.650682</td>\n",
              "      <td>1.595093</td>\n",
              "      <td>2.204744</td>\n",
              "      <td>3.742211</td>\n",
              "      <td>1.068214</td>\n",
              "      <td>4.187742</td>\n",
              "      <td>4.819487</td>\n",
              "      <td>6.022501</td>\n",
              "      <td>1.335980</td>\n",
              "      <td>1.956730</td>\n",
              "      <td>6.254327</td>\n",
              "      <td>2.750662</td>\n",
              "      <td>2.577072</td>\n",
              "      <td>3.505498</td>\n",
              "      <td>2.739462</td>\n",
              "      <td>0.808491</td>\n",
              "      <td>...</td>\n",
              "      <td>2.956424</td>\n",
              "      <td>0.054877</td>\n",
              "      <td>0.170841</td>\n",
              "      <td>0.008858</td>\n",
              "      <td>0.019344</td>\n",
              "      <td>0.093565</td>\n",
              "      <td>0.011505</td>\n",
              "      <td>0.215027</td>\n",
              "      <td>0.202301</td>\n",
              "      <td>0.011505</td>\n",
              "      <td>0.018733</td>\n",
              "      <td>0.023315</td>\n",
              "      <td>1.849420</td>\n",
              "      <td>0.001629</td>\n",
              "      <td>0.015272</td>\n",
              "      <td>0.025351</td>\n",
              "      <td>0.016697</td>\n",
              "      <td>0.045408</td>\n",
              "      <td>0.400020</td>\n",
              "      <td>0.014050</td>\n",
              "      <td>0.021279</td>\n",
              "      <td>0.557218</td>\n",
              "      <td>0.011098</td>\n",
              "      <td>0.040216</td>\n",
              "      <td>0.002240</td>\n",
              "      <td>0.011403</td>\n",
              "      <td>0.034413</td>\n",
              "      <td>0.005192</td>\n",
              "      <td>0.071065</td>\n",
              "      <td>0.079821</td>\n",
              "      <td>0.004582</td>\n",
              "      <td>0.007941</td>\n",
              "      <td>0.004276</td>\n",
              "      <td>0.574018</td>\n",
              "      <td>0.000916</td>\n",
              "      <td>0.005091</td>\n",
              "      <td>0.03146</td>\n",
              "      <td>0.008450</td>\n",
              "      <td>0.013846</td>\n",
              "      <td>0.059662</td>\n",
              "    </tr>\n",
              "    <tr>\n",
              "      <th>std</th>\n",
              "      <td>12.918058</td>\n",
              "      <td>0.412101</td>\n",
              "      <td>0.780701</td>\n",
              "      <td>0.804660</td>\n",
              "      <td>2.874148</td>\n",
              "      <td>1.015107</td>\n",
              "      <td>1.721212</td>\n",
              "      <td>1.011156</td>\n",
              "      <td>1.606287</td>\n",
              "      <td>1.896070</td>\n",
              "      <td>0.961955</td>\n",
              "      <td>1.710674</td>\n",
              "      <td>1.779238</td>\n",
              "      <td>1.609139</td>\n",
              "      <td>1.984152</td>\n",
              "      <td>1.645968</td>\n",
              "      <td>1.723377</td>\n",
              "      <td>2.279839</td>\n",
              "      <td>1.814406</td>\n",
              "      <td>0.786792</td>\n",
              "      <td>1.106349</td>\n",
              "      <td>1.846703</td>\n",
              "      <td>1.748025</td>\n",
              "      <td>1.684008</td>\n",
              "      <td>1.742410</td>\n",
              "      <td>1.321487</td>\n",
              "      <td>1.534163</td>\n",
              "      <td>1.944900</td>\n",
              "      <td>1.298229</td>\n",
              "      <td>3.093127</td>\n",
              "      <td>3.093541</td>\n",
              "      <td>1.543980</td>\n",
              "      <td>1.213627</td>\n",
              "      <td>1.596842</td>\n",
              "      <td>2.000374</td>\n",
              "      <td>2.002960</td>\n",
              "      <td>2.073125</td>\n",
              "      <td>1.871365</td>\n",
              "      <td>1.950625</td>\n",
              "      <td>1.173771</td>\n",
              "      <td>...</td>\n",
              "      <td>2.921736</td>\n",
              "      <td>0.566108</td>\n",
              "      <td>0.888518</td>\n",
              "      <td>0.237556</td>\n",
              "      <td>0.200885</td>\n",
              "      <td>0.604350</td>\n",
              "      <td>0.215408</td>\n",
              "      <td>0.810899</td>\n",
              "      <td>0.910574</td>\n",
              "      <td>0.188699</td>\n",
              "      <td>0.213712</td>\n",
              "      <td>0.375350</td>\n",
              "      <td>1.881271</td>\n",
              "      <td>0.057058</td>\n",
              "      <td>0.244210</td>\n",
              "      <td>0.157198</td>\n",
              "      <td>0.211487</td>\n",
              "      <td>0.396983</td>\n",
              "      <td>0.492001</td>\n",
              "      <td>0.126058</td>\n",
              "      <td>0.144319</td>\n",
              "      <td>0.608575</td>\n",
              "      <td>0.129928</td>\n",
              "      <td>0.223622</td>\n",
              "      <td>0.068402</td>\n",
              "      <td>0.116251</td>\n",
              "      <td>0.249706</td>\n",
              "      <td>0.109954</td>\n",
              "      <td>0.267432</td>\n",
              "      <td>0.384431</td>\n",
              "      <td>0.067535</td>\n",
              "      <td>0.088764</td>\n",
              "      <td>0.071224</td>\n",
              "      <td>0.561255</td>\n",
              "      <td>0.030258</td>\n",
              "      <td>0.077996</td>\n",
              "      <td>0.20907</td>\n",
              "      <td>0.092647</td>\n",
              "      <td>0.117728</td>\n",
              "      <td>0.236872</td>\n",
              "    </tr>\n",
              "    <tr>\n",
              "      <th>min</th>\n",
              "      <td>1.000000</td>\n",
              "      <td>1.000000</td>\n",
              "      <td>1.000000</td>\n",
              "      <td>1.000000</td>\n",
              "      <td>1.000000</td>\n",
              "      <td>0.000000</td>\n",
              "      <td>0.000000</td>\n",
              "      <td>0.000000</td>\n",
              "      <td>0.000000</td>\n",
              "      <td>0.000000</td>\n",
              "      <td>0.000000</td>\n",
              "      <td>0.000000</td>\n",
              "      <td>0.000000</td>\n",
              "      <td>0.000000</td>\n",
              "      <td>0.000000</td>\n",
              "      <td>0.000000</td>\n",
              "      <td>0.000000</td>\n",
              "      <td>0.000000</td>\n",
              "      <td>0.000000</td>\n",
              "      <td>0.000000</td>\n",
              "      <td>0.000000</td>\n",
              "      <td>0.000000</td>\n",
              "      <td>0.000000</td>\n",
              "      <td>0.000000</td>\n",
              "      <td>0.000000</td>\n",
              "      <td>0.000000</td>\n",
              "      <td>0.000000</td>\n",
              "      <td>0.000000</td>\n",
              "      <td>0.000000</td>\n",
              "      <td>0.000000</td>\n",
              "      <td>0.000000</td>\n",
              "      <td>0.000000</td>\n",
              "      <td>0.000000</td>\n",
              "      <td>0.000000</td>\n",
              "      <td>0.000000</td>\n",
              "      <td>0.000000</td>\n",
              "      <td>0.000000</td>\n",
              "      <td>0.000000</td>\n",
              "      <td>0.000000</td>\n",
              "      <td>0.000000</td>\n",
              "      <td>...</td>\n",
              "      <td>0.000000</td>\n",
              "      <td>0.000000</td>\n",
              "      <td>0.000000</td>\n",
              "      <td>0.000000</td>\n",
              "      <td>0.000000</td>\n",
              "      <td>0.000000</td>\n",
              "      <td>0.000000</td>\n",
              "      <td>0.000000</td>\n",
              "      <td>0.000000</td>\n",
              "      <td>0.000000</td>\n",
              "      <td>0.000000</td>\n",
              "      <td>0.000000</td>\n",
              "      <td>0.000000</td>\n",
              "      <td>0.000000</td>\n",
              "      <td>0.000000</td>\n",
              "      <td>0.000000</td>\n",
              "      <td>0.000000</td>\n",
              "      <td>0.000000</td>\n",
              "      <td>0.000000</td>\n",
              "      <td>0.000000</td>\n",
              "      <td>0.000000</td>\n",
              "      <td>0.000000</td>\n",
              "      <td>0.000000</td>\n",
              "      <td>0.000000</td>\n",
              "      <td>0.000000</td>\n",
              "      <td>0.000000</td>\n",
              "      <td>0.000000</td>\n",
              "      <td>0.000000</td>\n",
              "      <td>0.000000</td>\n",
              "      <td>0.000000</td>\n",
              "      <td>0.000000</td>\n",
              "      <td>0.000000</td>\n",
              "      <td>0.000000</td>\n",
              "      <td>0.000000</td>\n",
              "      <td>0.000000</td>\n",
              "      <td>0.000000</td>\n",
              "      <td>0.00000</td>\n",
              "      <td>0.000000</td>\n",
              "      <td>0.000000</td>\n",
              "      <td>0.000000</td>\n",
              "    </tr>\n",
              "    <tr>\n",
              "      <th>25%</th>\n",
              "      <td>10.000000</td>\n",
              "      <td>1.000000</td>\n",
              "      <td>2.000000</td>\n",
              "      <td>2.000000</td>\n",
              "      <td>3.000000</td>\n",
              "      <td>0.000000</td>\n",
              "      <td>4.000000</td>\n",
              "      <td>0.000000</td>\n",
              "      <td>2.000000</td>\n",
              "      <td>5.000000</td>\n",
              "      <td>0.000000</td>\n",
              "      <td>1.000000</td>\n",
              "      <td>0.000000</td>\n",
              "      <td>2.000000</td>\n",
              "      <td>3.000000</td>\n",
              "      <td>0.000000</td>\n",
              "      <td>2.000000</td>\n",
              "      <td>3.000000</td>\n",
              "      <td>0.000000</td>\n",
              "      <td>0.000000</td>\n",
              "      <td>0.000000</td>\n",
              "      <td>2.000000</td>\n",
              "      <td>1.000000</td>\n",
              "      <td>1.000000</td>\n",
              "      <td>0.000000</td>\n",
              "      <td>1.000000</td>\n",
              "      <td>1.000000</td>\n",
              "      <td>2.000000</td>\n",
              "      <td>0.000000</td>\n",
              "      <td>2.000000</td>\n",
              "      <td>2.000000</td>\n",
              "      <td>5.000000</td>\n",
              "      <td>0.000000</td>\n",
              "      <td>0.000000</td>\n",
              "      <td>5.000000</td>\n",
              "      <td>1.000000</td>\n",
              "      <td>1.000000</td>\n",
              "      <td>2.000000</td>\n",
              "      <td>1.000000</td>\n",
              "      <td>0.000000</td>\n",
              "      <td>...</td>\n",
              "      <td>0.000000</td>\n",
              "      <td>0.000000</td>\n",
              "      <td>0.000000</td>\n",
              "      <td>0.000000</td>\n",
              "      <td>0.000000</td>\n",
              "      <td>0.000000</td>\n",
              "      <td>0.000000</td>\n",
              "      <td>0.000000</td>\n",
              "      <td>0.000000</td>\n",
              "      <td>0.000000</td>\n",
              "      <td>0.000000</td>\n",
              "      <td>0.000000</td>\n",
              "      <td>0.000000</td>\n",
              "      <td>0.000000</td>\n",
              "      <td>0.000000</td>\n",
              "      <td>0.000000</td>\n",
              "      <td>0.000000</td>\n",
              "      <td>0.000000</td>\n",
              "      <td>0.000000</td>\n",
              "      <td>0.000000</td>\n",
              "      <td>0.000000</td>\n",
              "      <td>0.000000</td>\n",
              "      <td>0.000000</td>\n",
              "      <td>0.000000</td>\n",
              "      <td>0.000000</td>\n",
              "      <td>0.000000</td>\n",
              "      <td>0.000000</td>\n",
              "      <td>0.000000</td>\n",
              "      <td>0.000000</td>\n",
              "      <td>0.000000</td>\n",
              "      <td>0.000000</td>\n",
              "      <td>0.000000</td>\n",
              "      <td>0.000000</td>\n",
              "      <td>0.000000</td>\n",
              "      <td>0.000000</td>\n",
              "      <td>0.000000</td>\n",
              "      <td>0.00000</td>\n",
              "      <td>0.000000</td>\n",
              "      <td>0.000000</td>\n",
              "      <td>0.000000</td>\n",
              "    </tr>\n",
              "    <tr>\n",
              "      <th>50%</th>\n",
              "      <td>30.000000</td>\n",
              "      <td>1.000000</td>\n",
              "      <td>3.000000</td>\n",
              "      <td>3.000000</td>\n",
              "      <td>7.000000</td>\n",
              "      <td>0.000000</td>\n",
              "      <td>5.000000</td>\n",
              "      <td>1.000000</td>\n",
              "      <td>3.000000</td>\n",
              "      <td>6.000000</td>\n",
              "      <td>1.000000</td>\n",
              "      <td>2.000000</td>\n",
              "      <td>2.000000</td>\n",
              "      <td>3.000000</td>\n",
              "      <td>4.000000</td>\n",
              "      <td>1.000000</td>\n",
              "      <td>3.000000</td>\n",
              "      <td>5.000000</td>\n",
              "      <td>2.000000</td>\n",
              "      <td>0.000000</td>\n",
              "      <td>0.000000</td>\n",
              "      <td>3.000000</td>\n",
              "      <td>2.000000</td>\n",
              "      <td>2.000000</td>\n",
              "      <td>1.000000</td>\n",
              "      <td>2.000000</td>\n",
              "      <td>2.000000</td>\n",
              "      <td>4.000000</td>\n",
              "      <td>1.000000</td>\n",
              "      <td>4.000000</td>\n",
              "      <td>5.000000</td>\n",
              "      <td>6.000000</td>\n",
              "      <td>1.000000</td>\n",
              "      <td>2.000000</td>\n",
              "      <td>7.000000</td>\n",
              "      <td>2.000000</td>\n",
              "      <td>2.000000</td>\n",
              "      <td>4.000000</td>\n",
              "      <td>3.000000</td>\n",
              "      <td>0.000000</td>\n",
              "      <td>...</td>\n",
              "      <td>5.000000</td>\n",
              "      <td>0.000000</td>\n",
              "      <td>0.000000</td>\n",
              "      <td>0.000000</td>\n",
              "      <td>0.000000</td>\n",
              "      <td>0.000000</td>\n",
              "      <td>0.000000</td>\n",
              "      <td>0.000000</td>\n",
              "      <td>0.000000</td>\n",
              "      <td>0.000000</td>\n",
              "      <td>0.000000</td>\n",
              "      <td>0.000000</td>\n",
              "      <td>2.000000</td>\n",
              "      <td>0.000000</td>\n",
              "      <td>0.000000</td>\n",
              "      <td>0.000000</td>\n",
              "      <td>0.000000</td>\n",
              "      <td>0.000000</td>\n",
              "      <td>0.000000</td>\n",
              "      <td>0.000000</td>\n",
              "      <td>0.000000</td>\n",
              "      <td>1.000000</td>\n",
              "      <td>0.000000</td>\n",
              "      <td>0.000000</td>\n",
              "      <td>0.000000</td>\n",
              "      <td>0.000000</td>\n",
              "      <td>0.000000</td>\n",
              "      <td>0.000000</td>\n",
              "      <td>0.000000</td>\n",
              "      <td>0.000000</td>\n",
              "      <td>0.000000</td>\n",
              "      <td>0.000000</td>\n",
              "      <td>0.000000</td>\n",
              "      <td>1.000000</td>\n",
              "      <td>0.000000</td>\n",
              "      <td>0.000000</td>\n",
              "      <td>0.00000</td>\n",
              "      <td>0.000000</td>\n",
              "      <td>0.000000</td>\n",
              "      <td>0.000000</td>\n",
              "    </tr>\n",
              "    <tr>\n",
              "      <th>75%</th>\n",
              "      <td>35.000000</td>\n",
              "      <td>1.000000</td>\n",
              "      <td>3.000000</td>\n",
              "      <td>3.000000</td>\n",
              "      <td>8.000000</td>\n",
              "      <td>1.000000</td>\n",
              "      <td>6.000000</td>\n",
              "      <td>2.000000</td>\n",
              "      <td>4.000000</td>\n",
              "      <td>7.000000</td>\n",
              "      <td>1.000000</td>\n",
              "      <td>3.000000</td>\n",
              "      <td>3.000000</td>\n",
              "      <td>4.000000</td>\n",
              "      <td>6.000000</td>\n",
              "      <td>2.000000</td>\n",
              "      <td>4.000000</td>\n",
              "      <td>6.000000</td>\n",
              "      <td>3.000000</td>\n",
              "      <td>1.000000</td>\n",
              "      <td>1.000000</td>\n",
              "      <td>4.000000</td>\n",
              "      <td>3.000000</td>\n",
              "      <td>3.000000</td>\n",
              "      <td>2.000000</td>\n",
              "      <td>2.000000</td>\n",
              "      <td>3.000000</td>\n",
              "      <td>5.000000</td>\n",
              "      <td>2.000000</td>\n",
              "      <td>7.000000</td>\n",
              "      <td>7.000000</td>\n",
              "      <td>7.000000</td>\n",
              "      <td>2.000000</td>\n",
              "      <td>3.000000</td>\n",
              "      <td>8.000000</td>\n",
              "      <td>4.000000</td>\n",
              "      <td>4.000000</td>\n",
              "      <td>5.000000</td>\n",
              "      <td>4.000000</td>\n",
              "      <td>1.000000</td>\n",
              "      <td>...</td>\n",
              "      <td>6.000000</td>\n",
              "      <td>0.000000</td>\n",
              "      <td>0.000000</td>\n",
              "      <td>0.000000</td>\n",
              "      <td>0.000000</td>\n",
              "      <td>0.000000</td>\n",
              "      <td>0.000000</td>\n",
              "      <td>0.000000</td>\n",
              "      <td>0.000000</td>\n",
              "      <td>0.000000</td>\n",
              "      <td>0.000000</td>\n",
              "      <td>0.000000</td>\n",
              "      <td>4.000000</td>\n",
              "      <td>0.000000</td>\n",
              "      <td>0.000000</td>\n",
              "      <td>0.000000</td>\n",
              "      <td>0.000000</td>\n",
              "      <td>0.000000</td>\n",
              "      <td>1.000000</td>\n",
              "      <td>0.000000</td>\n",
              "      <td>0.000000</td>\n",
              "      <td>1.000000</td>\n",
              "      <td>0.000000</td>\n",
              "      <td>0.000000</td>\n",
              "      <td>0.000000</td>\n",
              "      <td>0.000000</td>\n",
              "      <td>0.000000</td>\n",
              "      <td>0.000000</td>\n",
              "      <td>0.000000</td>\n",
              "      <td>0.000000</td>\n",
              "      <td>0.000000</td>\n",
              "      <td>0.000000</td>\n",
              "      <td>0.000000</td>\n",
              "      <td>1.000000</td>\n",
              "      <td>0.000000</td>\n",
              "      <td>0.000000</td>\n",
              "      <td>0.00000</td>\n",
              "      <td>0.000000</td>\n",
              "      <td>0.000000</td>\n",
              "      <td>0.000000</td>\n",
              "    </tr>\n",
              "    <tr>\n",
              "      <th>max</th>\n",
              "      <td>41.000000</td>\n",
              "      <td>10.000000</td>\n",
              "      <td>6.000000</td>\n",
              "      <td>6.000000</td>\n",
              "      <td>10.000000</td>\n",
              "      <td>9.000000</td>\n",
              "      <td>9.000000</td>\n",
              "      <td>5.000000</td>\n",
              "      <td>9.000000</td>\n",
              "      <td>9.000000</td>\n",
              "      <td>7.000000</td>\n",
              "      <td>9.000000</td>\n",
              "      <td>9.000000</td>\n",
              "      <td>9.000000</td>\n",
              "      <td>9.000000</td>\n",
              "      <td>9.000000</td>\n",
              "      <td>9.000000</td>\n",
              "      <td>9.000000</td>\n",
              "      <td>9.000000</td>\n",
              "      <td>5.000000</td>\n",
              "      <td>9.000000</td>\n",
              "      <td>9.000000</td>\n",
              "      <td>9.000000</td>\n",
              "      <td>9.000000</td>\n",
              "      <td>9.000000</td>\n",
              "      <td>9.000000</td>\n",
              "      <td>9.000000</td>\n",
              "      <td>9.000000</td>\n",
              "      <td>9.000000</td>\n",
              "      <td>9.000000</td>\n",
              "      <td>9.000000</td>\n",
              "      <td>9.000000</td>\n",
              "      <td>9.000000</td>\n",
              "      <td>9.000000</td>\n",
              "      <td>9.000000</td>\n",
              "      <td>9.000000</td>\n",
              "      <td>9.000000</td>\n",
              "      <td>9.000000</td>\n",
              "      <td>9.000000</td>\n",
              "      <td>9.000000</td>\n",
              "      <td>...</td>\n",
              "      <td>9.000000</td>\n",
              "      <td>7.000000</td>\n",
              "      <td>7.000000</td>\n",
              "      <td>9.000000</td>\n",
              "      <td>5.000000</td>\n",
              "      <td>7.000000</td>\n",
              "      <td>6.000000</td>\n",
              "      <td>6.000000</td>\n",
              "      <td>9.000000</td>\n",
              "      <td>6.000000</td>\n",
              "      <td>3.000000</td>\n",
              "      <td>7.000000</td>\n",
              "      <td>8.000000</td>\n",
              "      <td>3.000000</td>\n",
              "      <td>6.000000</td>\n",
              "      <td>1.000000</td>\n",
              "      <td>6.000000</td>\n",
              "      <td>5.000000</td>\n",
              "      <td>2.000000</td>\n",
              "      <td>5.000000</td>\n",
              "      <td>1.000000</td>\n",
              "      <td>12.000000</td>\n",
              "      <td>5.000000</td>\n",
              "      <td>8.000000</td>\n",
              "      <td>4.000000</td>\n",
              "      <td>3.000000</td>\n",
              "      <td>6.000000</td>\n",
              "      <td>6.000000</td>\n",
              "      <td>3.000000</td>\n",
              "      <td>8.000000</td>\n",
              "      <td>1.000000</td>\n",
              "      <td>1.000000</td>\n",
              "      <td>2.000000</td>\n",
              "      <td>7.000000</td>\n",
              "      <td>1.000000</td>\n",
              "      <td>2.000000</td>\n",
              "      <td>4.00000</td>\n",
              "      <td>2.000000</td>\n",
              "      <td>2.000000</td>\n",
              "      <td>1.000000</td>\n",
              "    </tr>\n",
              "  </tbody>\n",
              "</table>\n",
              "<p>8 rows × 86 columns</p>\n",
              "</div>"
            ],
            "text/plain": [
              "           MOSTYPE     MAANTHUI  ...     ABYSTAND      CARAVAN\n",
              "count  9822.000000  9822.000000  ...  9822.000000  9822.000000\n",
              "mean     24.253207     1.108735  ...     0.013846     0.059662\n",
              "std      12.918058     0.412101  ...     0.117728     0.236872\n",
              "min       1.000000     1.000000  ...     0.000000     0.000000\n",
              "25%      10.000000     1.000000  ...     0.000000     0.000000\n",
              "50%      30.000000     1.000000  ...     0.000000     0.000000\n",
              "75%      35.000000     1.000000  ...     0.000000     0.000000\n",
              "max      41.000000    10.000000  ...     2.000000     1.000000\n",
              "\n",
              "[8 rows x 86 columns]"
            ]
          },
          "metadata": {},
          "execution_count": 8
        }
      ]
    },
    {
      "cell_type": "code",
      "metadata": {
        "colab": {
          "base_uri": "https://localhost:8080/"
        },
        "id": "MxEBxA55dHiz",
        "outputId": "e56c2ef9-455a-445e-eb53-3b7144337fd2"
      },
      "source": [
        "data_train = data_all.loc[data_all['ORIGIN'] == 'train']\n",
        "data_test = data_all.loc[data_all['ORIGIN'] != 'train']\n",
        "print(len(data_train), \"train +\", len(data_test), \"test\")"
      ],
      "execution_count": 9,
      "outputs": [
        {
          "output_type": "stream",
          "name": "stdout",
          "text": [
            "5822 train + 4000 test\n"
          ]
        }
      ]
    },
    {
      "cell_type": "code",
      "metadata": {
        "id": "XyMgpxe8dHgN"
      },
      "source": [
        "data_train = data_train.drop(\"ORIGIN\", axis=1)\n",
        "data_test = data_test.drop(\"ORIGIN\", axis=1)"
      ],
      "execution_count": 10,
      "outputs": []
    },
    {
      "cell_type": "code",
      "metadata": {
        "id": "Gx-oJ4qQdHdx"
      },
      "source": [
        "data = data_train.copy()"
      ],
      "execution_count": 11,
      "outputs": []
    },
    {
      "cell_type": "code",
      "metadata": {
        "colab": {
          "base_uri": "https://localhost:8080/"
        },
        "id": "OaH9s8sudHaJ",
        "outputId": "db53a630-530f-4f44-86e0-2219e1e7ab28"
      },
      "source": [
        "data['CARAVAN'].value_counts()"
      ],
      "execution_count": 12,
      "outputs": [
        {
          "output_type": "execute_result",
          "data": {
            "text/plain": [
              "0    5474\n",
              "1     348\n",
              "Name: CARAVAN, dtype: int64"
            ]
          },
          "metadata": {},
          "execution_count": 12
        }
      ]
    },
    {
      "cell_type": "code",
      "metadata": {
        "colab": {
          "base_uri": "https://localhost:8080/",
          "height": 1000
        },
        "id": "6zN8NBs_dHYT",
        "outputId": "6a4f4ad8-25fb-4063-915b-93ba9ca79883"
      },
      "source": [
        "from pandas.plotting import scatter_matrix\n",
        "\n",
        "attributes = [\"CARAVAN\", \"PPERSAUT\", \"APERSAUT\", \"APLEZIER\", \"PWAPART\", \"MKOOPKLA\", \"PBRAND\", \"PPLEZIER\", \"MINKGEM\", \"MOPLLAAG\"]\n",
        "scatter_matrix(data[attributes], figsize=(20, 20))\n",
        "save_fig(\"scatter_matrix_plot\")"
      ],
      "execution_count": 13,
      "outputs": [
        {
          "output_type": "stream",
          "name": "stdout",
          "text": [
            "Saving figure scatter_matrix_plot\n"
          ]
        },
        {
          "output_type": "display_data",
          "data": {
            "image/png": "[encoded data removed]",
            "text/plain": [
              "<Figure size 1440x1440 with 100 Axes>"
            ]
          },
          "metadata": {
            "needs_background": "light"
          }
        }
      ]
    },
    {
      "cell_type": "code",
      "metadata": {
        "id": "94nLCYHHdHVH"
      },
      "source": [
        "from pandas.plotting import parallel_coordinates\n"
      ],
      "execution_count": 14,
      "outputs": []
    },
    {
      "cell_type": "code",
      "metadata": {
        "id": "UsR9aUSmdHTN"
      },
      "source": [
        "%matplotlib inline\n",
        "import matplotlib.pyplot as plt"
      ],
      "execution_count": 15,
      "outputs": []
    },
    {
      "cell_type": "code",
      "metadata": {
        "id": "PrEZsAEZdHQA"
      },
      "source": [
        "target_name = [\"NO_INS\", \"HAS_INS\"]\n",
        "target_columns = [\"CARAVAN\"]\n",
        "# y_train = data_train[target_name].copy().values # to convert the dataframe to a NumPy array\n",
        "y_train = data_train[target_columns].copy()\n",
        "data = data_train.drop(target_columns, axis=1)"
      ],
      "execution_count": 16,
      "outputs": []
    },
    {
      "cell_type": "code",
      "metadata": {
        "id": "VlOYhSTsdHN4"
      },
      "source": [
        "y_test = data_test[target_columns].copy()\n",
        "data_test = data_test.drop(target_columns, axis=1)"
      ],
      "execution_count": 17,
      "outputs": []
    },
    {
      "cell_type": "code",
      "metadata": {
        "id": "uyyRHsQ4dHK7"
      },
      "source": [
        "from sklearn.base import BaseEstimator, TransformerMixin\n",
        "\n",
        "# Creating class to select numerical or categorical columns \n",
        "class DataFrameSelector(BaseEstimator, TransformerMixin):\n",
        "    def __init__(self, attribute_names):\n",
        "        self.attribute_names = attribute_names\n",
        "    def fit(self, X, y=None):\n",
        "        return self\n",
        "    def transform(self, X):\n",
        "        return X[self.attribute_names].values"
      ],
      "execution_count": 18,
      "outputs": []
    },
    {
      "cell_type": "code",
      "metadata": {
        "id": "Otb7sxTWdHIS"
      },
      "source": [
        "cat_attributes = [\"MOSTYPE\", \"MOSHOOFD\"]"
      ],
      "execution_count": 19,
      "outputs": []
    },
    {
      "cell_type": "code",
      "metadata": {
        "id": "3jPwycpOdHFk"
      },
      "source": [
        "from sklearn.pipeline import Pipeline\n",
        "from sklearn.preprocessing import LabelBinarizer\n",
        "cat_pipeline = Pipeline([\n",
        "        ('selector', DataFrameSelector(cat_attributes)),\n",
        "        ('label_binarizer', LabelBinarizer()),\n",
        "    ])"
      ],
      "execution_count": 20,
      "outputs": []
    },
    {
      "cell_type": "code",
      "metadata": {
        "id": "iYs80iqXdHC-"
      },
      "source": [
        "data_num = data.drop(cat_attributes, axis=1)\n",
        "num_attributes = list(data_num)"
      ],
      "execution_count": 21,
      "outputs": []
    },
    {
      "cell_type": "code",
      "metadata": {
        "id": "SnNzkxKldHAv"
      },
      "source": [
        "from sklearn.pipeline import Pipeline\n",
        "from sklearn.impute import SimpleImputer\n",
        "from sklearn.preprocessing import MinMaxScaler\n",
        "num_pipeline = Pipeline([\n",
        "        ('selector', DataFrameSelector(num_attributes)),\n",
        "        ('imputer', SimpleImputer(strategy=\"median\")),\n",
        "        ('std_scaler', MinMaxScaler())\n",
        "    ])\n"
      ],
      "execution_count": 22,
      "outputs": []
    },
    {
      "cell_type": "code",
      "metadata": {
        "id": "NVrzmFcZdG9U"
      },
      "source": [
        "from sklearn.pipeline import Pipeline\n",
        "\n",
        "from sklearn.pipeline import FeatureUnion\n",
        "\n",
        "full_pipeline = FeatureUnion(transformer_list=[\n",
        "        (\"num_pipeline\", num_pipeline),\n",
        "        (\"cat_pipeline\", cat_pipeline),\n",
        "    ])\n",
        "full_pipeline = num_pipeline"
      ],
      "execution_count": 23,
      "outputs": []
    },
    {
      "cell_type": "code",
      "metadata": {
        "id": "gzfSNlmNdG6s"
      },
      "source": [
        "X_train = full_pipeline.fit_transform(data)"
      ],
      "execution_count": 24,
      "outputs": []
    },
    {
      "cell_type": "code",
      "metadata": {
        "id": "YHx0p3_CdG33"
      },
      "source": [
        "features_name = num_attributes"
      ],
      "execution_count": 25,
      "outputs": []
    },
    {
      "cell_type": "code",
      "metadata": {
        "colab": {
          "base_uri": "https://localhost:8080/"
        },
        "id": "MWUVxFD1dG1q",
        "outputId": "ef46a365-fd2d-4561-b59c-e7791d104853"
      },
      "source": [
        "X_train.shape"
      ],
      "execution_count": 26,
      "outputs": [
        {
          "output_type": "execute_result",
          "data": {
            "text/plain": [
              "(5822, 83)"
            ]
          },
          "metadata": {},
          "execution_count": 26
        }
      ]
    },
    {
      "cell_type": "code",
      "metadata": {
        "colab": {
          "base_uri": "https://localhost:8080/"
        },
        "id": "B4Dp4bFbdGyg",
        "outputId": "497da685-cdc9-49be-abf0-92b7957069f9"
      },
      "source": [
        "c, r = y_train.values.shape\n",
        "print(c, r)\n",
        "y_train_old = y_train\n",
        "y_train = y_train.values.reshape(c,)"
      ],
      "execution_count": 27,
      "outputs": [
        {
          "output_type": "stream",
          "name": "stdout",
          "text": [
            "5822 1\n"
          ]
        }
      ]
    },
    {
      "cell_type": "code",
      "metadata": {
        "colab": {
          "base_uri": "https://localhost:8080/"
        },
        "id": "SdocF8ZtdGvr",
        "outputId": "a92549cb-987a-444f-9076-01b13ef60121"
      },
      "source": [
        "X_test = full_pipeline.transform(data_test)\n",
        "X_test.shape"
      ],
      "execution_count": 28,
      "outputs": [
        {
          "output_type": "execute_result",
          "data": {
            "text/plain": [
              "(4000, 83)"
            ]
          },
          "metadata": {},
          "execution_count": 28
        }
      ]
    },
    {
      "cell_type": "code",
      "metadata": {
        "colab": {
          "base_uri": "https://localhost:8080/"
        },
        "id": "d1zhnDpJdGlP",
        "outputId": "2369e355-5752-4505-c3df-599c92287ade"
      },
      "source": [
        "c, r = y_test.values.shape\n",
        "print(c, r)\n",
        "y_test = y_test.values.reshape(c,)"
      ],
      "execution_count": 30,
      "outputs": [
        {
          "output_type": "stream",
          "name": "stdout",
          "text": [
            "4000 1\n"
          ]
        }
      ]
    },
    {
      "cell_type": "code",
      "metadata": {
        "colab": {
          "base_uri": "https://localhost:8080/"
        },
        "id": "ymdAx2iBg17_",
        "outputId": "b5c2a7ee-7542-4e89-bc90-9ea0fb3f0b73"
      },
      "source": [
        "from sklearn.ensemble import ExtraTreesClassifier\n",
        "from sklearn.feature_selection import SelectFromModel\n",
        "\n",
        "print(\"Initial shape: \", X_train.shape)\n",
        "\n",
        "clf = ExtraTreesClassifier()\n",
        "clf = clf.fit(X_train, y_train)\n",
        "\n",
        "model = SelectFromModel(clf, prefit=True)\n",
        "X_new = model.transform(X_train)\n",
        "print(\"New shape: \", X_new.shape)\n",
        "\n",
        "sorted(zip(clf.feature_importances_, features_name), reverse=True)"
      ],
      "execution_count": 29,
      "outputs": [
        {
          "output_type": "stream",
          "name": "stdout",
          "text": [
            "Initial shape:  (5822, 83)\n",
            "New shape:  (5822, 42)\n"
          ]
        },
        {
          "output_type": "execute_result",
          "data": {
            "text/plain": [
              "[(0.0703075798391243, 'PBRAND'),\n",
              " (0.05700233864172671, 'PPERSAUT'),\n",
              " (0.04521100499626801, 'APERSAUT'),\n",
              " (0.040857985465948, 'MKOOPKLA'),\n",
              " (0.02938085390023693, 'ABRAND'),\n",
              " (0.028972061847882053, 'PWAPART'),\n",
              " (0.020473601886175478, 'AWAPART'),\n",
              " (0.017129029010702405, 'MBERMIDD'),\n",
              " (0.016779141207349985, 'MGODGE'),\n",
              " (0.0164929386646779, 'MOPLLAAG'),\n",
              " (0.01645658070418927, 'MOPLMIDD'),\n",
              " (0.016061426332687347, 'MOPLHOOG'),\n",
              " (0.015919498302797538, 'MSKC'),\n",
              " (0.015849929061877887, 'MBERARBG'),\n",
              " (0.01553197512900342, 'MINK3045'),\n",
              " (0.015520492997187276, 'MFWEKIND'),\n",
              " (0.015262559852851415, 'MFGEKIND'),\n",
              " (0.015186412685626278, 'MINKM30'),\n",
              " (0.015178654355338241, 'MSKB1'),\n",
              " (0.015134484622570898, 'MGODOV'),\n",
              " (0.014907359368043905, 'MINK4575'),\n",
              " (0.014832692886422312, 'MHHUUR'),\n",
              " (0.014729901813824766, 'MINK7512'),\n",
              " (0.01465400755280217, 'MBERARBO'),\n",
              " (0.014633715130495323, 'MGEMLEEF'),\n",
              " (0.01453999537691374, 'MSKB2'),\n",
              " (0.014465119368027655, 'MSKA'),\n",
              " (0.014426772998573542, 'MBERHOOG'),\n",
              " (0.014398361365250894, 'MGODPR'),\n",
              " (0.014333966387775385, 'ALEVEN'),\n",
              " (0.014314354348334163, 'MAUT1'),\n",
              " (0.014296193127738232, 'MRELGE'),\n",
              " (0.013910858984919878, 'MHKOOP'),\n",
              " (0.013432287708806154, 'MINKGEM'),\n",
              " (0.013424928087998294, 'MFALLEEN'),\n",
              " (0.013351954138063584, 'PLEVEN'),\n",
              " (0.013325803185638418, 'MZFONDS'),\n",
              " (0.013302937159317005, 'MZPART'),\n",
              " (0.013053686303366568, 'MAUT0'),\n",
              " (0.0129431926306056, 'MAUT2'),\n",
              " (0.01259642531755244, 'MGEMOMV'),\n",
              " (0.01237181804291626, 'MRELOV'),\n",
              " (0.011839456679251324, 'MSKD'),\n",
              " (0.011663390336010859, 'APLEZIER'),\n",
              " (0.010659710653509251, 'MBERZELF'),\n",
              " (0.010411433111951035, 'MRELSA'),\n",
              " (0.010361045124625844, 'MGODRK'),\n",
              " (0.01017514909672467, 'AFIETS'),\n",
              " (0.00992253111455954, 'AMOTSCO'),\n",
              " (0.009581689339839898, 'PMOTSCO'),\n",
              " (0.009215673338406696, 'MBERBOER'),\n",
              " (0.008201310602821012, 'PBROM'),\n",
              " (0.008056141782751101, 'PPLEZIER'),\n",
              " (0.008039802227012772, 'PFIETS'),\n",
              " (0.007729472838044077, 'MAANTHUI'),\n",
              " (0.007163236706002051, 'ABYSTAND'),\n",
              " (0.0070272647158229765, 'ABROM'),\n",
              " (0.006940978261206881, 'PBYSTAND'),\n",
              " (0.006663810831420644, 'MINK123M'),\n",
              " (0.004294199732210924, 'PGEZONG'),\n",
              " (0.0032477376342473553, 'AGEZONG'),\n",
              " (0.003128837410260204, 'PWAOREG'),\n",
              " (0.003058276884848638, 'AINBOED'),\n",
              " (0.003007501270891725, 'PAANHANG'),\n",
              " (0.0029896374249453197, 'PINBOED'),\n",
              " (0.002958095593926951, 'PWABEDR'),\n",
              " (0.002793644138486555, 'AAANHANG'),\n",
              " (0.002782997204111213, 'PTRACTOR'),\n",
              " (0.002713564774436604, 'AWAOREG'),\n",
              " (0.0026196296081745455, 'AWABEDR'),\n",
              " (0.002218468703160553, 'ATRACTOR'),\n",
              " (0.0013556522480269503, 'PBESAUT'),\n",
              " (0.0010245635634646526, 'ABESAUT'),\n",
              " (0.0008765454599935197, 'PWALAND'),\n",
              " (0.0007604432884737766, 'AWALAND'),\n",
              " (0.00042035146385765196, 'PPERSONG'),\n",
              " (0.0003633657923472685, 'AZEILPL'),\n",
              " (0.00034705508086838694, 'PZEILPL'),\n",
              " (0.0003061448829012339, 'APERSONG'),\n",
              " (5.09160128320036e-05, 'AWERKT'),\n",
              " (5.009370997054589e-05, 'PWERKT'),\n",
              " (2.5190764789560557e-05, 'PVRAAUT'),\n",
              " (1.0980520558415373e-07, 'AVRAAUT')]"
            ]
          },
          "metadata": {},
          "execution_count": 29
        }
      ]
    },
    {
      "cell_type": "code",
      "metadata": {
        "colab": {
          "base_uri": "https://localhost:8080/",
          "height": 1000
        },
        "id": "KWKAYjnxg136",
        "outputId": "88555f7c-4d97-46a6-d854-7eb836e7ef61"
      },
      "source": [
        "import matplotlib.pyplot as plt\n",
        "from sklearn.svm import SVC\n",
        "from sklearn.model_selection import StratifiedKFold\n",
        "from sklearn.feature_selection import RFECV\n",
        "from sklearn.tree import DecisionTreeClassifier\n",
        "\n",
        "# Create the RFE object and compute a cross-validated score.\n",
        "#clf_dt = DecisionTreeClassifier()\n",
        "svc = SVC(kernel=\"linear\")\n",
        "dt = DecisionTreeClassifier(class_weight=None, criterion='gini', max_depth=10, max_leaf_nodes=None, min_impurity_decrease=0, min_impurity_split=None, min_samples_leaf=0.1, min_samples_split=2, min_weight_fraction_leaf=0.0, presort=False, random_state=None, splitter='best')\n",
        "\n",
        "# The \"accuracy\" scoring is proportional to the number of correct\n",
        "# classifications\n",
        "rfecv = RFECV(estimator=dt, step=1, cv=StratifiedKFold(3),\n",
        "              scoring='roc_auc', verbose = 0)\n",
        "rfecv.fit(X_train, y_train)\n",
        "\n",
        "# print(rfecv.ranking_)\n",
        "\n",
        "print(\"Optimal number of features : %d\" % rfecv.n_features_)\n",
        "\n",
        "# Plot number of features VS. cross-validation scores\n",
        "plt.figure()\n",
        "plt.xlabel(\"Number of features selected\")\n",
        "plt.ylabel(\"Cross validation score (nb of correct classifications)\")\n",
        "plt.plot(range(1, len(rfecv.grid_scores_) + 1), rfecv.grid_scores_)\n",
        "plt.show()"
      ],
      "execution_count": 31,
      "outputs": [
        {
          "output_type": "stream",
          "name": "stderr",
          "text": [
            "/usr/local/lib/python3.7/dist-packages/sklearn/tree/_classes.py:319: FutureWarning: The parameter 'presort' is deprecated and has no effect. It will be removed in v0.24. You can suppress this warning by not passing any value to the 'presort' parameter.\n",
            "  FutureWarning)\n",
            "/usr/local/lib/python3.7/dist-packages/sklearn/tree/_classes.py:319: FutureWarning: The parameter 'presort' is deprecated and has no effect. It will be removed in v0.24. You can suppress this warning by not passing any value to the 'presort' parameter.\n",
            "  FutureWarning)\n",
            "/usr/local/lib/python3.7/dist-packages/sklearn/tree/_classes.py:319: FutureWarning: The parameter 'presort' is deprecated and has no effect. It will be removed in v0.24. You can suppress this warning by not passing any value to the 'presort' parameter.\n",
            "  FutureWarning)\n",
            "/usr/local/lib/python3.7/dist-packages/sklearn/tree/_classes.py:319: FutureWarning: The parameter 'presort' is deprecated and has no effect. It will be removed in v0.24. You can suppress this warning by not passing any value to the 'presort' parameter.\n",
            "  FutureWarning)\n",
            "/usr/local/lib/python3.7/dist-packages/sklearn/tree/_classes.py:319: FutureWarning: The parameter 'presort' is deprecated and has no effect. It will be removed in v0.24. You can suppress this warning by not passing any value to the 'presort' parameter.\n",
            "  FutureWarning)\n",
            "/usr/local/lib/python3.7/dist-packages/sklearn/tree/_classes.py:319: FutureWarning: The parameter 'presort' is deprecated and has no effect. It will be removed in v0.24. You can suppress this warning by not passing any value to the 'presort' parameter.\n",
            "  FutureWarning)\n",
            "/usr/local/lib/python3.7/dist-packages/sklearn/tree/_classes.py:319: FutureWarning: The parameter 'presort' is deprecated and has no effect. It will be removed in v0.24. You can suppress this warning by not passing any value to the 'presort' parameter.\n",
            "  FutureWarning)\n",
            "/usr/local/lib/python3.7/dist-packages/sklearn/tree/_classes.py:319: FutureWarning: The parameter 'presort' is deprecated and has no effect. It will be removed in v0.24. You can suppress this warning by not passing any value to the 'presort' parameter.\n",
            "  FutureWarning)\n",
            "/usr/local/lib/python3.7/dist-packages/sklearn/tree/_classes.py:319: FutureWarning: The parameter 'presort' is deprecated and has no effect. It will be removed in v0.24. You can suppress this warning by not passing any value to the 'presort' parameter.\n",
            "  FutureWarning)\n",
            "/usr/local/lib/python3.7/dist-packages/sklearn/tree/_classes.py:319: FutureWarning: The parameter 'presort' is deprecated and has no effect. It will be removed in v0.24. You can suppress this warning by not passing any value to the 'presort' parameter.\n",
            "  FutureWarning)\n",
            "/usr/local/lib/python3.7/dist-packages/sklearn/tree/_classes.py:319: FutureWarning: The parameter 'presort' is deprecated and has no effect. It will be removed in v0.24. You can suppress this warning by not passing any value to the 'presort' parameter.\n",
            "  FutureWarning)\n",
            "/usr/local/lib/python3.7/dist-packages/sklearn/tree/_classes.py:319: FutureWarning: The parameter 'presort' is deprecated and has no effect. It will be removed in v0.24. You can suppress this warning by not passing any value to the 'presort' parameter.\n",
            "  FutureWarning)\n",
            "/usr/local/lib/python3.7/dist-packages/sklearn/tree/_classes.py:319: FutureWarning: The parameter 'presort' is deprecated and has no effect. It will be removed in v0.24. You can suppress this warning by not passing any value to the 'presort' parameter.\n",
            "  FutureWarning)\n",
            "/usr/local/lib/python3.7/dist-packages/sklearn/tree/_classes.py:319: FutureWarning: The parameter 'presort' is deprecated and has no effect. It will be removed in v0.24. You can suppress this warning by not passing any value to the 'presort' parameter.\n",
            "  FutureWarning)\n",
            "/usr/local/lib/python3.7/dist-packages/sklearn/tree/_classes.py:319: FutureWarning: The parameter 'presort' is deprecated and has no effect. It will be removed in v0.24. You can suppress this warning by not passing any value to the 'presort' parameter.\n",
            "  FutureWarning)\n",
            "/usr/local/lib/python3.7/dist-packages/sklearn/tree/_classes.py:319: FutureWarning: The parameter 'presort' is deprecated and has no effect. It will be removed in v0.24. You can suppress this warning by not passing any value to the 'presort' parameter.\n",
            "  FutureWarning)\n",
            "/usr/local/lib/python3.7/dist-packages/sklearn/tree/_classes.py:319: FutureWarning: The parameter 'presort' is deprecated and has no effect. It will be removed in v0.24. You can suppress this warning by not passing any value to the 'presort' parameter.\n",
            "  FutureWarning)\n",
            "/usr/local/lib/python3.7/dist-packages/sklearn/tree/_classes.py:319: FutureWarning: The parameter 'presort' is deprecated and has no effect. It will be removed in v0.24. You can suppress this warning by not passing any value to the 'presort' parameter.\n",
            "  FutureWarning)\n",
            "/usr/local/lib/python3.7/dist-packages/sklearn/tree/_classes.py:319: FutureWarning: The parameter 'presort' is deprecated and has no effect. It will be removed in v0.24. You can suppress this warning by not passing any value to the 'presort' parameter.\n",
            "  FutureWarning)\n",
            "/usr/local/lib/python3.7/dist-packages/sklearn/tree/_classes.py:319: FutureWarning: The parameter 'presort' is deprecated and has no effect. It will be removed in v0.24. You can suppress this warning by not passing any value to the 'presort' parameter.\n",
            "  FutureWarning)\n",
            "/usr/local/lib/python3.7/dist-packages/sklearn/tree/_classes.py:319: FutureWarning: The parameter 'presort' is deprecated and has no effect. It will be removed in v0.24. You can suppress this warning by not passing any value to the 'presort' parameter.\n",
            "  FutureWarning)\n",
            "/usr/local/lib/python3.7/dist-packages/sklearn/tree/_classes.py:319: FutureWarning: The parameter 'presort' is deprecated and has no effect. It will be removed in v0.24. You can suppress this warning by not passing any value to the 'presort' parameter.\n",
            "  FutureWarning)\n",
            "/usr/local/lib/python3.7/dist-packages/sklearn/tree/_classes.py:319: FutureWarning: The parameter 'presort' is deprecated and has no effect. It will be removed in v0.24. You can suppress this warning by not passing any value to the 'presort' parameter.\n",
            "  FutureWarning)\n",
            "/usr/local/lib/python3.7/dist-packages/sklearn/tree/_classes.py:319: FutureWarning: The parameter 'presort' is deprecated and has no effect. It will be removed in v0.24. You can suppress this warning by not passing any value to the 'presort' parameter.\n",
            "  FutureWarning)\n",
            "/usr/local/lib/python3.7/dist-packages/sklearn/tree/_classes.py:319: FutureWarning: The parameter 'presort' is deprecated and has no effect. It will be removed in v0.24. You can suppress this warning by not passing any value to the 'presort' parameter.\n",
            "  FutureWarning)\n",
            "/usr/local/lib/python3.7/dist-packages/sklearn/tree/_classes.py:319: FutureWarning: The parameter 'presort' is deprecated and has no effect. It will be removed in v0.24. You can suppress this warning by not passing any value to the 'presort' parameter.\n",
            "  FutureWarning)\n",
            "/usr/local/lib/python3.7/dist-packages/sklearn/tree/_classes.py:319: FutureWarning: The parameter 'presort' is deprecated and has no effect. It will be removed in v0.24. You can suppress this warning by not passing any value to the 'presort' parameter.\n",
            "  FutureWarning)\n",
            "/usr/local/lib/python3.7/dist-packages/sklearn/tree/_classes.py:319: FutureWarning: The parameter 'presort' is deprecated and has no effect. It will be removed in v0.24. You can suppress this warning by not passing any value to the 'presort' parameter.\n",
            "  FutureWarning)\n",
            "/usr/local/lib/python3.7/dist-packages/sklearn/tree/_classes.py:319: FutureWarning: The parameter 'presort' is deprecated and has no effect. It will be removed in v0.24. You can suppress this warning by not passing any value to the 'presort' parameter.\n",
            "  FutureWarning)\n",
            "/usr/local/lib/python3.7/dist-packages/sklearn/tree/_classes.py:319: FutureWarning: The parameter 'presort' is deprecated and has no effect. It will be removed in v0.24. You can suppress this warning by not passing any value to the 'presort' parameter.\n",
            "  FutureWarning)\n",
            "/usr/local/lib/python3.7/dist-packages/sklearn/tree/_classes.py:319: FutureWarning: The parameter 'presort' is deprecated and has no effect. It will be removed in v0.24. You can suppress this warning by not passing any value to the 'presort' parameter.\n",
            "  FutureWarning)\n",
            "/usr/local/lib/python3.7/dist-packages/sklearn/tree/_classes.py:319: FutureWarning: The parameter 'presort' is deprecated and has no effect. It will be removed in v0.24. You can suppress this warning by not passing any value to the 'presort' parameter.\n",
            "  FutureWarning)\n",
            "/usr/local/lib/python3.7/dist-packages/sklearn/tree/_classes.py:319: FutureWarning: The parameter 'presort' is deprecated and has no effect. It will be removed in v0.24. You can suppress this warning by not passing any value to the 'presort' parameter.\n",
            "  FutureWarning)\n",
            "/usr/local/lib/python3.7/dist-packages/sklearn/tree/_classes.py:319: FutureWarning: The parameter 'presort' is deprecated and has no effect. It will be removed in v0.24. You can suppress this warning by not passing any value to the 'presort' parameter.\n",
            "  FutureWarning)\n",
            "/usr/local/lib/python3.7/dist-packages/sklearn/tree/_classes.py:319: FutureWarning: The parameter 'presort' is deprecated and has no effect. It will be removed in v0.24. You can suppress this warning by not passing any value to the 'presort' parameter.\n",
            "  FutureWarning)\n",
            "/usr/local/lib/python3.7/dist-packages/sklearn/tree/_classes.py:319: FutureWarning: The parameter 'presort' is deprecated and has no effect. It will be removed in v0.24. You can suppress this warning by not passing any value to the 'presort' parameter.\n",
            "  FutureWarning)\n",
            "/usr/local/lib/python3.7/dist-packages/sklearn/tree/_classes.py:319: FutureWarning: The parameter 'presort' is deprecated and has no effect. It will be removed in v0.24. You can suppress this warning by not passing any value to the 'presort' parameter.\n",
            "  FutureWarning)\n",
            "/usr/local/lib/python3.7/dist-packages/sklearn/tree/_classes.py:319: FutureWarning: The parameter 'presort' is deprecated and has no effect. It will be removed in v0.24. You can suppress this warning by not passing any value to the 'presort' parameter.\n",
            "  FutureWarning)\n",
            "/usr/local/lib/python3.7/dist-packages/sklearn/tree/_classes.py:319: FutureWarning: The parameter 'presort' is deprecated and has no effect. It will be removed in v0.24. You can suppress this warning by not passing any value to the 'presort' parameter.\n",
            "  FutureWarning)\n",
            "/usr/local/lib/python3.7/dist-packages/sklearn/tree/_classes.py:319: FutureWarning: The parameter 'presort' is deprecated and has no effect. It will be removed in v0.24. You can suppress this warning by not passing any value to the 'presort' parameter.\n",
            "  FutureWarning)\n",
            "/usr/local/lib/python3.7/dist-packages/sklearn/tree/_classes.py:319: FutureWarning: The parameter 'presort' is deprecated and has no effect. It will be removed in v0.24. You can suppress this warning by not passing any value to the 'presort' parameter.\n",
            "  FutureWarning)\n",
            "/usr/local/lib/python3.7/dist-packages/sklearn/tree/_classes.py:319: FutureWarning: The parameter 'presort' is deprecated and has no effect. It will be removed in v0.24. You can suppress this warning by not passing any value to the 'presort' parameter.\n",
            "  FutureWarning)\n",
            "/usr/local/lib/python3.7/dist-packages/sklearn/tree/_classes.py:319: FutureWarning: The parameter 'presort' is deprecated and has no effect. It will be removed in v0.24. You can suppress this warning by not passing any value to the 'presort' parameter.\n",
            "  FutureWarning)\n",
            "/usr/local/lib/python3.7/dist-packages/sklearn/tree/_classes.py:319: FutureWarning: The parameter 'presort' is deprecated and has no effect. It will be removed in v0.24. You can suppress this warning by not passing any value to the 'presort' parameter.\n",
            "  FutureWarning)\n",
            "/usr/local/lib/python3.7/dist-packages/sklearn/tree/_classes.py:319: FutureWarning: The parameter 'presort' is deprecated and has no effect. It will be removed in v0.24. You can suppress this warning by not passing any value to the 'presort' parameter.\n",
            "  FutureWarning)\n",
            "/usr/local/lib/python3.7/dist-packages/sklearn/tree/_classes.py:319: FutureWarning: The parameter 'presort' is deprecated and has no effect. It will be removed in v0.24. You can suppress this warning by not passing any value to the 'presort' parameter.\n",
            "  FutureWarning)\n",
            "/usr/local/lib/python3.7/dist-packages/sklearn/tree/_classes.py:319: FutureWarning: The parameter 'presort' is deprecated and has no effect. It will be removed in v0.24. You can suppress this warning by not passing any value to the 'presort' parameter.\n",
            "  FutureWarning)\n",
            "/usr/local/lib/python3.7/dist-packages/sklearn/tree/_classes.py:319: FutureWarning: The parameter 'presort' is deprecated and has no effect. It will be removed in v0.24. You can suppress this warning by not passing any value to the 'presort' parameter.\n",
            "  FutureWarning)\n",
            "/usr/local/lib/python3.7/dist-packages/sklearn/tree/_classes.py:319: FutureWarning: The parameter 'presort' is deprecated and has no effect. It will be removed in v0.24. You can suppress this warning by not passing any value to the 'presort' parameter.\n",
            "  FutureWarning)\n",
            "/usr/local/lib/python3.7/dist-packages/sklearn/tree/_classes.py:319: FutureWarning: The parameter 'presort' is deprecated and has no effect. It will be removed in v0.24. You can suppress this warning by not passing any value to the 'presort' parameter.\n",
            "  FutureWarning)\n",
            "/usr/local/lib/python3.7/dist-packages/sklearn/tree/_classes.py:319: FutureWarning: The parameter 'presort' is deprecated and has no effect. It will be removed in v0.24. You can suppress this warning by not passing any value to the 'presort' parameter.\n",
            "  FutureWarning)\n",
            "/usr/local/lib/python3.7/dist-packages/sklearn/tree/_classes.py:319: FutureWarning: The parameter 'presort' is deprecated and has no effect. It will be removed in v0.24. You can suppress this warning by not passing any value to the 'presort' parameter.\n",
            "  FutureWarning)\n",
            "/usr/local/lib/python3.7/dist-packages/sklearn/tree/_classes.py:319: FutureWarning: The parameter 'presort' is deprecated and has no effect. It will be removed in v0.24. You can suppress this warning by not passing any value to the 'presort' parameter.\n",
            "  FutureWarning)\n",
            "/usr/local/lib/python3.7/dist-packages/sklearn/tree/_classes.py:319: FutureWarning: The parameter 'presort' is deprecated and has no effect. It will be removed in v0.24. You can suppress this warning by not passing any value to the 'presort' parameter.\n",
            "  FutureWarning)\n",
            "/usr/local/lib/python3.7/dist-packages/sklearn/tree/_classes.py:319: FutureWarning: The parameter 'presort' is deprecated and has no effect. It will be removed in v0.24. You can suppress this warning by not passing any value to the 'presort' parameter.\n",
            "  FutureWarning)\n",
            "/usr/local/lib/python3.7/dist-packages/sklearn/tree/_classes.py:319: FutureWarning: The parameter 'presort' is deprecated and has no effect. It will be removed in v0.24. You can suppress this warning by not passing any value to the 'presort' parameter.\n",
            "  FutureWarning)\n",
            "/usr/local/lib/python3.7/dist-packages/sklearn/tree/_classes.py:319: FutureWarning: The parameter 'presort' is deprecated and has no effect. It will be removed in v0.24. You can suppress this warning by not passing any value to the 'presort' parameter.\n",
            "  FutureWarning)\n",
            "/usr/local/lib/python3.7/dist-packages/sklearn/tree/_classes.py:319: FutureWarning: The parameter 'presort' is deprecated and has no effect. It will be removed in v0.24. You can suppress this warning by not passing any value to the 'presort' parameter.\n",
            "  FutureWarning)\n",
            "/usr/local/lib/python3.7/dist-packages/sklearn/tree/_classes.py:319: FutureWarning: The parameter 'presort' is deprecated and has no effect. It will be removed in v0.24. You can suppress this warning by not passing any value to the 'presort' parameter.\n",
            "  FutureWarning)\n",
            "/usr/local/lib/python3.7/dist-packages/sklearn/tree/_classes.py:319: FutureWarning: The parameter 'presort' is deprecated and has no effect. It will be removed in v0.24. You can suppress this warning by not passing any value to the 'presort' parameter.\n",
            "  FutureWarning)\n",
            "/usr/local/lib/python3.7/dist-packages/sklearn/tree/_classes.py:319: FutureWarning: The parameter 'presort' is deprecated and has no effect. It will be removed in v0.24. You can suppress this warning by not passing any value to the 'presort' parameter.\n",
            "  FutureWarning)\n",
            "/usr/local/lib/python3.7/dist-packages/sklearn/tree/_classes.py:319: FutureWarning: The parameter 'presort' is deprecated and has no effect. It will be removed in v0.24. You can suppress this warning by not passing any value to the 'presort' parameter.\n",
            "  FutureWarning)\n",
            "/usr/local/lib/python3.7/dist-packages/sklearn/tree/_classes.py:319: FutureWarning: The parameter 'presort' is deprecated and has no effect. It will be removed in v0.24. You can suppress this warning by not passing any value to the 'presort' parameter.\n",
            "  FutureWarning)\n",
            "/usr/local/lib/python3.7/dist-packages/sklearn/tree/_classes.py:319: FutureWarning: The parameter 'presort' is deprecated and has no effect. It will be removed in v0.24. You can suppress this warning by not passing any value to the 'presort' parameter.\n",
            "  FutureWarning)\n",
            "/usr/local/lib/python3.7/dist-packages/sklearn/tree/_classes.py:319: FutureWarning: The parameter 'presort' is deprecated and has no effect. It will be removed in v0.24. You can suppress this warning by not passing any value to the 'presort' parameter.\n",
            "  FutureWarning)\n",
            "/usr/local/lib/python3.7/dist-packages/sklearn/tree/_classes.py:319: FutureWarning: The parameter 'presort' is deprecated and has no effect. It will be removed in v0.24. You can suppress this warning by not passing any value to the 'presort' parameter.\n",
            "  FutureWarning)\n",
            "/usr/local/lib/python3.7/dist-packages/sklearn/tree/_classes.py:319: FutureWarning: The parameter 'presort' is deprecated and has no effect. It will be removed in v0.24. You can suppress this warning by not passing any value to the 'presort' parameter.\n",
            "  FutureWarning)\n",
            "/usr/local/lib/python3.7/dist-packages/sklearn/tree/_classes.py:319: FutureWarning: The parameter 'presort' is deprecated and has no effect. It will be removed in v0.24. You can suppress this warning by not passing any value to the 'presort' parameter.\n",
            "  FutureWarning)\n",
            "/usr/local/lib/python3.7/dist-packages/sklearn/tree/_classes.py:319: FutureWarning: The parameter 'presort' is deprecated and has no effect. It will be removed in v0.24. You can suppress this warning by not passing any value to the 'presort' parameter.\n",
            "  FutureWarning)\n",
            "/usr/local/lib/python3.7/dist-packages/sklearn/tree/_classes.py:319: FutureWarning: The parameter 'presort' is deprecated and has no effect. It will be removed in v0.24. You can suppress this warning by not passing any value to the 'presort' parameter.\n",
            "  FutureWarning)\n",
            "/usr/local/lib/python3.7/dist-packages/sklearn/tree/_classes.py:319: FutureWarning: The parameter 'presort' is deprecated and has no effect. It will be removed in v0.24. You can suppress this warning by not passing any value to the 'presort' parameter.\n",
            "  FutureWarning)\n",
            "/usr/local/lib/python3.7/dist-packages/sklearn/tree/_classes.py:319: FutureWarning: The parameter 'presort' is deprecated and has no effect. It will be removed in v0.24. You can suppress this warning by not passing any value to the 'presort' parameter.\n",
            "  FutureWarning)\n",
            "/usr/local/lib/python3.7/dist-packages/sklearn/tree/_classes.py:319: FutureWarning: The parameter 'presort' is deprecated and has no effect. It will be removed in v0.24. You can suppress this warning by not passing any value to the 'presort' parameter.\n",
            "  FutureWarning)\n",
            "/usr/local/lib/python3.7/dist-packages/sklearn/tree/_classes.py:319: FutureWarning: The parameter 'presort' is deprecated and has no effect. It will be removed in v0.24. You can suppress this warning by not passing any value to the 'presort' parameter.\n",
            "  FutureWarning)\n",
            "/usr/local/lib/python3.7/dist-packages/sklearn/tree/_classes.py:319: FutureWarning: The parameter 'presort' is deprecated and has no effect. It will be removed in v0.24. You can suppress this warning by not passing any value to the 'presort' parameter.\n",
            "  FutureWarning)\n",
            "/usr/local/lib/python3.7/dist-packages/sklearn/tree/_classes.py:319: FutureWarning: The parameter 'presort' is deprecated and has no effect. It will be removed in v0.24. You can suppress this warning by not passing any value to the 'presort' parameter.\n",
            "  FutureWarning)\n",
            "/usr/local/lib/python3.7/dist-packages/sklearn/tree/_classes.py:319: FutureWarning: The parameter 'presort' is deprecated and has no effect. It will be removed in v0.24. You can suppress this warning by not passing any value to the 'presort' parameter.\n",
            "  FutureWarning)\n",
            "/usr/local/lib/python3.7/dist-packages/sklearn/tree/_classes.py:319: FutureWarning: The parameter 'presort' is deprecated and has no effect. It will be removed in v0.24. You can suppress this warning by not passing any value to the 'presort' parameter.\n",
            "  FutureWarning)\n",
            "/usr/local/lib/python3.7/dist-packages/sklearn/tree/_classes.py:319: FutureWarning: The parameter 'presort' is deprecated and has no effect. It will be removed in v0.24. You can suppress this warning by not passing any value to the 'presort' parameter.\n",
            "  FutureWarning)\n",
            "/usr/local/lib/python3.7/dist-packages/sklearn/tree/_classes.py:319: FutureWarning: The parameter 'presort' is deprecated and has no effect. It will be removed in v0.24. You can suppress this warning by not passing any value to the 'presort' parameter.\n",
            "  FutureWarning)\n",
            "/usr/local/lib/python3.7/dist-packages/sklearn/tree/_classes.py:319: FutureWarning: The parameter 'presort' is deprecated and has no effect. It will be removed in v0.24. You can suppress this warning by not passing any value to the 'presort' parameter.\n",
            "  FutureWarning)\n",
            "/usr/local/lib/python3.7/dist-packages/sklearn/tree/_classes.py:319: FutureWarning: The parameter 'presort' is deprecated and has no effect. It will be removed in v0.24. You can suppress this warning by not passing any value to the 'presort' parameter.\n",
            "  FutureWarning)\n",
            "/usr/local/lib/python3.7/dist-packages/sklearn/tree/_classes.py:319: FutureWarning: The parameter 'presort' is deprecated and has no effect. It will be removed in v0.24. You can suppress this warning by not passing any value to the 'presort' parameter.\n",
            "  FutureWarning)\n",
            "/usr/local/lib/python3.7/dist-packages/sklearn/tree/_classes.py:319: FutureWarning: The parameter 'presort' is deprecated and has no effect. It will be removed in v0.24. You can suppress this warning by not passing any value to the 'presort' parameter.\n",
            "  FutureWarning)\n",
            "/usr/local/lib/python3.7/dist-packages/sklearn/tree/_classes.py:319: FutureWarning: The parameter 'presort' is deprecated and has no effect. It will be removed in v0.24. You can suppress this warning by not passing any value to the 'presort' parameter.\n",
            "  FutureWarning)\n",
            "/usr/local/lib/python3.7/dist-packages/sklearn/tree/_classes.py:319: FutureWarning: The parameter 'presort' is deprecated and has no effect. It will be removed in v0.24. You can suppress this warning by not passing any value to the 'presort' parameter.\n",
            "  FutureWarning)\n",
            "/usr/local/lib/python3.7/dist-packages/sklearn/tree/_classes.py:319: FutureWarning: The parameter 'presort' is deprecated and has no effect. It will be removed in v0.24. You can suppress this warning by not passing any value to the 'presort' parameter.\n",
            "  FutureWarning)\n",
            "/usr/local/lib/python3.7/dist-packages/sklearn/tree/_classes.py:319: FutureWarning: The parameter 'presort' is deprecated and has no effect. It will be removed in v0.24. You can suppress this warning by not passing any value to the 'presort' parameter.\n",
            "  FutureWarning)\n",
            "/usr/local/lib/python3.7/dist-packages/sklearn/tree/_classes.py:319: FutureWarning: The parameter 'presort' is deprecated and has no effect. It will be removed in v0.24. You can suppress this warning by not passing any value to the 'presort' parameter.\n",
            "  FutureWarning)\n",
            "/usr/local/lib/python3.7/dist-packages/sklearn/tree/_classes.py:319: FutureWarning: The parameter 'presort' is deprecated and has no effect. It will be removed in v0.24. You can suppress this warning by not passing any value to the 'presort' parameter.\n",
            "  FutureWarning)\n",
            "/usr/local/lib/python3.7/dist-packages/sklearn/tree/_classes.py:319: FutureWarning: The parameter 'presort' is deprecated and has no effect. It will be removed in v0.24. You can suppress this warning by not passing any value to the 'presort' parameter.\n",
            "  FutureWarning)\n",
            "/usr/local/lib/python3.7/dist-packages/sklearn/tree/_classes.py:319: FutureWarning: The parameter 'presort' is deprecated and has no effect. It will be removed in v0.24. You can suppress this warning by not passing any value to the 'presort' parameter.\n",
            "  FutureWarning)\n",
            "/usr/local/lib/python3.7/dist-packages/sklearn/tree/_classes.py:319: FutureWarning: The parameter 'presort' is deprecated and has no effect. It will be removed in v0.24. You can suppress this warning by not passing any value to the 'presort' parameter.\n",
            "  FutureWarning)\n",
            "/usr/local/lib/python3.7/dist-packages/sklearn/tree/_classes.py:319: FutureWarning: The parameter 'presort' is deprecated and has no effect. It will be removed in v0.24. You can suppress this warning by not passing any value to the 'presort' parameter.\n",
            "  FutureWarning)\n",
            "/usr/local/lib/python3.7/dist-packages/sklearn/tree/_classes.py:319: FutureWarning: The parameter 'presort' is deprecated and has no effect. It will be removed in v0.24. You can suppress this warning by not passing any value to the 'presort' parameter.\n",
            "  FutureWarning)\n",
            "/usr/local/lib/python3.7/dist-packages/sklearn/tree/_classes.py:319: FutureWarning: The parameter 'presort' is deprecated and has no effect. It will be removed in v0.24. You can suppress this warning by not passing any value to the 'presort' parameter.\n",
            "  FutureWarning)\n",
            "/usr/local/lib/python3.7/dist-packages/sklearn/tree/_classes.py:319: FutureWarning: The parameter 'presort' is deprecated and has no effect. It will be removed in v0.24. You can suppress this warning by not passing any value to the 'presort' parameter.\n",
            "  FutureWarning)\n",
            "/usr/local/lib/python3.7/dist-packages/sklearn/tree/_classes.py:319: FutureWarning: The parameter 'presort' is deprecated and has no effect. It will be removed in v0.24. You can suppress this warning by not passing any value to the 'presort' parameter.\n",
            "  FutureWarning)\n",
            "/usr/local/lib/python3.7/dist-packages/sklearn/tree/_classes.py:319: FutureWarning: The parameter 'presort' is deprecated and has no effect. It will be removed in v0.24. You can suppress this warning by not passing any value to the 'presort' parameter.\n",
            "  FutureWarning)\n",
            "/usr/local/lib/python3.7/dist-packages/sklearn/tree/_classes.py:319: FutureWarning: The parameter 'presort' is deprecated and has no effect. It will be removed in v0.24. You can suppress this warning by not passing any value to the 'presort' parameter.\n",
            "  FutureWarning)\n",
            "/usr/local/lib/python3.7/dist-packages/sklearn/tree/_classes.py:319: FutureWarning: The parameter 'presort' is deprecated and has no effect. It will be removed in v0.24. You can suppress this warning by not passing any value to the 'presort' parameter.\n",
            "  FutureWarning)\n",
            "/usr/local/lib/python3.7/dist-packages/sklearn/tree/_classes.py:319: FutureWarning: The parameter 'presort' is deprecated and has no effect. It will be removed in v0.24. You can suppress this warning by not passing any value to the 'presort' parameter.\n",
            "  FutureWarning)\n",
            "/usr/local/lib/python3.7/dist-packages/sklearn/tree/_classes.py:319: FutureWarning: The parameter 'presort' is deprecated and has no effect. It will be removed in v0.24. You can suppress this warning by not passing any value to the 'presort' parameter.\n",
            "  FutureWarning)\n",
            "/usr/local/lib/python3.7/dist-packages/sklearn/tree/_classes.py:319: FutureWarning: The parameter 'presort' is deprecated and has no effect. It will be removed in v0.24. You can suppress this warning by not passing any value to the 'presort' parameter.\n",
            "  FutureWarning)\n",
            "/usr/local/lib/python3.7/dist-packages/sklearn/tree/_classes.py:319: FutureWarning: The parameter 'presort' is deprecated and has no effect. It will be removed in v0.24. You can suppress this warning by not passing any value to the 'presort' parameter.\n",
            "  FutureWarning)\n",
            "/usr/local/lib/python3.7/dist-packages/sklearn/tree/_classes.py:319: FutureWarning: The parameter 'presort' is deprecated and has no effect. It will be removed in v0.24. You can suppress this warning by not passing any value to the 'presort' parameter.\n",
            "  FutureWarning)\n",
            "/usr/local/lib/python3.7/dist-packages/sklearn/tree/_classes.py:319: FutureWarning: The parameter 'presort' is deprecated and has no effect. It will be removed in v0.24. You can suppress this warning by not passing any value to the 'presort' parameter.\n",
            "  FutureWarning)\n",
            "/usr/local/lib/python3.7/dist-packages/sklearn/tree/_classes.py:319: FutureWarning: The parameter 'presort' is deprecated and has no effect. It will be removed in v0.24. You can suppress this warning by not passing any value to the 'presort' parameter.\n",
            "  FutureWarning)\n",
            "/usr/local/lib/python3.7/dist-packages/sklearn/tree/_classes.py:319: FutureWarning: The parameter 'presort' is deprecated and has no effect. It will be removed in v0.24. You can suppress this warning by not passing any value to the 'presort' parameter.\n",
            "  FutureWarning)\n",
            "/usr/local/lib/python3.7/dist-packages/sklearn/tree/_classes.py:319: FutureWarning: The parameter 'presort' is deprecated and has no effect. It will be removed in v0.24. You can suppress this warning by not passing any value to the 'presort' parameter.\n",
            "  FutureWarning)\n",
            "/usr/local/lib/python3.7/dist-packages/sklearn/tree/_classes.py:319: FutureWarning: The parameter 'presort' is deprecated and has no effect. It will be removed in v0.24. You can suppress this warning by not passing any value to the 'presort' parameter.\n",
            "  FutureWarning)\n",
            "/usr/local/lib/python3.7/dist-packages/sklearn/tree/_classes.py:319: FutureWarning: The parameter 'presort' is deprecated and has no effect. It will be removed in v0.24. You can suppress this warning by not passing any value to the 'presort' parameter.\n",
            "  FutureWarning)\n",
            "/usr/local/lib/python3.7/dist-packages/sklearn/tree/_classes.py:319: FutureWarning: The parameter 'presort' is deprecated and has no effect. It will be removed in v0.24. You can suppress this warning by not passing any value to the 'presort' parameter.\n",
            "  FutureWarning)\n",
            "/usr/local/lib/python3.7/dist-packages/sklearn/tree/_classes.py:319: FutureWarning: The parameter 'presort' is deprecated and has no effect. It will be removed in v0.24. You can suppress this warning by not passing any value to the 'presort' parameter.\n",
            "  FutureWarning)\n",
            "/usr/local/lib/python3.7/dist-packages/sklearn/tree/_classes.py:319: FutureWarning: The parameter 'presort' is deprecated and has no effect. It will be removed in v0.24. You can suppress this warning by not passing any value to the 'presort' parameter.\n",
            "  FutureWarning)\n",
            "/usr/local/lib/python3.7/dist-packages/sklearn/tree/_classes.py:319: FutureWarning: The parameter 'presort' is deprecated and has no effect. It will be removed in v0.24. You can suppress this warning by not passing any value to the 'presort' parameter.\n",
            "  FutureWarning)\n",
            "/usr/local/lib/python3.7/dist-packages/sklearn/tree/_classes.py:319: FutureWarning: The parameter 'presort' is deprecated and has no effect. It will be removed in v0.24. You can suppress this warning by not passing any value to the 'presort' parameter.\n",
            "  FutureWarning)\n",
            "/usr/local/lib/python3.7/dist-packages/sklearn/tree/_classes.py:319: FutureWarning: The parameter 'presort' is deprecated and has no effect. It will be removed in v0.24. You can suppress this warning by not passing any value to the 'presort' parameter.\n",
            "  FutureWarning)\n",
            "/usr/local/lib/python3.7/dist-packages/sklearn/tree/_classes.py:319: FutureWarning: The parameter 'presort' is deprecated and has no effect. It will be removed in v0.24. You can suppress this warning by not passing any value to the 'presort' parameter.\n",
            "  FutureWarning)\n",
            "/usr/local/lib/python3.7/dist-packages/sklearn/tree/_classes.py:319: FutureWarning: The parameter 'presort' is deprecated and has no effect. It will be removed in v0.24. You can suppress this warning by not passing any value to the 'presort' parameter.\n",
            "  FutureWarning)\n",
            "/usr/local/lib/python3.7/dist-packages/sklearn/tree/_classes.py:319: FutureWarning: The parameter 'presort' is deprecated and has no effect. It will be removed in v0.24. You can suppress this warning by not passing any value to the 'presort' parameter.\n",
            "  FutureWarning)\n",
            "/usr/local/lib/python3.7/dist-packages/sklearn/tree/_classes.py:319: FutureWarning: The parameter 'presort' is deprecated and has no effect. It will be removed in v0.24. You can suppress this warning by not passing any value to the 'presort' parameter.\n",
            "  FutureWarning)\n",
            "/usr/local/lib/python3.7/dist-packages/sklearn/tree/_classes.py:319: FutureWarning: The parameter 'presort' is deprecated and has no effect. It will be removed in v0.24. You can suppress this warning by not passing any value to the 'presort' parameter.\n",
            "  FutureWarning)\n",
            "/usr/local/lib/python3.7/dist-packages/sklearn/tree/_classes.py:319: FutureWarning: The parameter 'presort' is deprecated and has no effect. It will be removed in v0.24. You can suppress this warning by not passing any value to the 'presort' parameter.\n",
            "  FutureWarning)\n",
            "/usr/local/lib/python3.7/dist-packages/sklearn/tree/_classes.py:319: FutureWarning: The parameter 'presort' is deprecated and has no effect. It will be removed in v0.24. You can suppress this warning by not passing any value to the 'presort' parameter.\n",
            "  FutureWarning)\n",
            "/usr/local/lib/python3.7/dist-packages/sklearn/tree/_classes.py:319: FutureWarning: The parameter 'presort' is deprecated and has no effect. It will be removed in v0.24. You can suppress this warning by not passing any value to the 'presort' parameter.\n",
            "  FutureWarning)\n",
            "/usr/local/lib/python3.7/dist-packages/sklearn/tree/_classes.py:319: FutureWarning: The parameter 'presort' is deprecated and has no effect. It will be removed in v0.24. You can suppress this warning by not passing any value to the 'presort' parameter.\n",
            "  FutureWarning)\n",
            "/usr/local/lib/python3.7/dist-packages/sklearn/tree/_classes.py:319: FutureWarning: The parameter 'presort' is deprecated and has no effect. It will be removed in v0.24. You can suppress this warning by not passing any value to the 'presort' parameter.\n",
            "  FutureWarning)\n",
            "/usr/local/lib/python3.7/dist-packages/sklearn/tree/_classes.py:319: FutureWarning: The parameter 'presort' is deprecated and has no effect. It will be removed in v0.24. You can suppress this warning by not passing any value to the 'presort' parameter.\n",
            "  FutureWarning)\n",
            "/usr/local/lib/python3.7/dist-packages/sklearn/tree/_classes.py:319: FutureWarning: The parameter 'presort' is deprecated and has no effect. It will be removed in v0.24. You can suppress this warning by not passing any value to the 'presort' parameter.\n",
            "  FutureWarning)\n",
            "/usr/local/lib/python3.7/dist-packages/sklearn/tree/_classes.py:319: FutureWarning: The parameter 'presort' is deprecated and has no effect. It will be removed in v0.24. You can suppress this warning by not passing any value to the 'presort' parameter.\n",
            "  FutureWarning)\n",
            "/usr/local/lib/python3.7/dist-packages/sklearn/tree/_classes.py:319: FutureWarning: The parameter 'presort' is deprecated and has no effect. It will be removed in v0.24. You can suppress this warning by not passing any value to the 'presort' parameter.\n",
            "  FutureWarning)\n",
            "/usr/local/lib/python3.7/dist-packages/sklearn/tree/_classes.py:319: FutureWarning: The parameter 'presort' is deprecated and has no effect. It will be removed in v0.24. You can suppress this warning by not passing any value to the 'presort' parameter.\n",
            "  FutureWarning)\n",
            "/usr/local/lib/python3.7/dist-packages/sklearn/tree/_classes.py:319: FutureWarning: The parameter 'presort' is deprecated and has no effect. It will be removed in v0.24. You can suppress this warning by not passing any value to the 'presort' parameter.\n",
            "  FutureWarning)\n",
            "/usr/local/lib/python3.7/dist-packages/sklearn/tree/_classes.py:319: FutureWarning: The parameter 'presort' is deprecated and has no effect. It will be removed in v0.24. You can suppress this warning by not passing any value to the 'presort' parameter.\n",
            "  FutureWarning)\n",
            "/usr/local/lib/python3.7/dist-packages/sklearn/tree/_classes.py:319: FutureWarning: The parameter 'presort' is deprecated and has no effect. It will be removed in v0.24. You can suppress this warning by not passing any value to the 'presort' parameter.\n",
            "  FutureWarning)\n",
            "/usr/local/lib/python3.7/dist-packages/sklearn/tree/_classes.py:319: FutureWarning: The parameter 'presort' is deprecated and has no effect. It will be removed in v0.24. You can suppress this warning by not passing any value to the 'presort' parameter.\n",
            "  FutureWarning)\n",
            "/usr/local/lib/python3.7/dist-packages/sklearn/tree/_classes.py:319: FutureWarning: The parameter 'presort' is deprecated and has no effect. It will be removed in v0.24. You can suppress this warning by not passing any value to the 'presort' parameter.\n",
            "  FutureWarning)\n",
            "/usr/local/lib/python3.7/dist-packages/sklearn/tree/_classes.py:319: FutureWarning: The parameter 'presort' is deprecated and has no effect. It will be removed in v0.24. You can suppress this warning by not passing any value to the 'presort' parameter.\n",
            "  FutureWarning)\n",
            "/usr/local/lib/python3.7/dist-packages/sklearn/tree/_classes.py:319: FutureWarning: The parameter 'presort' is deprecated and has no effect. It will be removed in v0.24. You can suppress this warning by not passing any value to the 'presort' parameter.\n",
            "  FutureWarning)\n",
            "/usr/local/lib/python3.7/dist-packages/sklearn/tree/_classes.py:319: FutureWarning: The parameter 'presort' is deprecated and has no effect. It will be removed in v0.24. You can suppress this warning by not passing any value to the 'presort' parameter.\n",
            "  FutureWarning)\n",
            "/usr/local/lib/python3.7/dist-packages/sklearn/tree/_classes.py:319: FutureWarning: The parameter 'presort' is deprecated and has no effect. It will be removed in v0.24. You can suppress this warning by not passing any value to the 'presort' parameter.\n",
            "  FutureWarning)\n",
            "/usr/local/lib/python3.7/dist-packages/sklearn/tree/_classes.py:319: FutureWarning: The parameter 'presort' is deprecated and has no effect. It will be removed in v0.24. You can suppress this warning by not passing any value to the 'presort' parameter.\n",
            "  FutureWarning)\n",
            "/usr/local/lib/python3.7/dist-packages/sklearn/tree/_classes.py:319: FutureWarning: The parameter 'presort' is deprecated and has no effect. It will be removed in v0.24. You can suppress this warning by not passing any value to the 'presort' parameter.\n",
            "  FutureWarning)\n",
            "/usr/local/lib/python3.7/dist-packages/sklearn/tree/_classes.py:319: FutureWarning: The parameter 'presort' is deprecated and has no effect. It will be removed in v0.24. You can suppress this warning by not passing any value to the 'presort' parameter.\n",
            "  FutureWarning)\n",
            "/usr/local/lib/python3.7/dist-packages/sklearn/tree/_classes.py:319: FutureWarning: The parameter 'presort' is deprecated and has no effect. It will be removed in v0.24. You can suppress this warning by not passing any value to the 'presort' parameter.\n",
            "  FutureWarning)\n",
            "/usr/local/lib/python3.7/dist-packages/sklearn/tree/_classes.py:319: FutureWarning: The parameter 'presort' is deprecated and has no effect. It will be removed in v0.24. You can suppress this warning by not passing any value to the 'presort' parameter.\n",
            "  FutureWarning)\n",
            "/usr/local/lib/python3.7/dist-packages/sklearn/tree/_classes.py:319: FutureWarning: The parameter 'presort' is deprecated and has no effect. It will be removed in v0.24. You can suppress this warning by not passing any value to the 'presort' parameter.\n",
            "  FutureWarning)\n",
            "/usr/local/lib/python3.7/dist-packages/sklearn/tree/_classes.py:319: FutureWarning: The parameter 'presort' is deprecated and has no effect. It will be removed in v0.24. You can suppress this warning by not passing any value to the 'presort' parameter.\n",
            "  FutureWarning)\n",
            "/usr/local/lib/python3.7/dist-packages/sklearn/tree/_classes.py:319: FutureWarning: The parameter 'presort' is deprecated and has no effect. It will be removed in v0.24. You can suppress this warning by not passing any value to the 'presort' parameter.\n",
            "  FutureWarning)\n",
            "/usr/local/lib/python3.7/dist-packages/sklearn/tree/_classes.py:319: FutureWarning: The parameter 'presort' is deprecated and has no effect. It will be removed in v0.24. You can suppress this warning by not passing any value to the 'presort' parameter.\n",
            "  FutureWarning)\n",
            "/usr/local/lib/python3.7/dist-packages/sklearn/tree/_classes.py:319: FutureWarning: The parameter 'presort' is deprecated and has no effect. It will be removed in v0.24. You can suppress this warning by not passing any value to the 'presort' parameter.\n",
            "  FutureWarning)\n",
            "/usr/local/lib/python3.7/dist-packages/sklearn/tree/_classes.py:319: FutureWarning: The parameter 'presort' is deprecated and has no effect. It will be removed in v0.24. You can suppress this warning by not passing any value to the 'presort' parameter.\n",
            "  FutureWarning)\n",
            "/usr/local/lib/python3.7/dist-packages/sklearn/tree/_classes.py:319: FutureWarning: The parameter 'presort' is deprecated and has no effect. It will be removed in v0.24. You can suppress this warning by not passing any value to the 'presort' parameter.\n",
            "  FutureWarning)\n",
            "/usr/local/lib/python3.7/dist-packages/sklearn/tree/_classes.py:319: FutureWarning: The parameter 'presort' is deprecated and has no effect. It will be removed in v0.24. You can suppress this warning by not passing any value to the 'presort' parameter.\n",
            "  FutureWarning)\n",
            "/usr/local/lib/python3.7/dist-packages/sklearn/tree/_classes.py:319: FutureWarning: The parameter 'presort' is deprecated and has no effect. It will be removed in v0.24. You can suppress this warning by not passing any value to the 'presort' parameter.\n",
            "  FutureWarning)\n",
            "/usr/local/lib/python3.7/dist-packages/sklearn/tree/_classes.py:319: FutureWarning: The parameter 'presort' is deprecated and has no effect. It will be removed in v0.24. You can suppress this warning by not passing any value to the 'presort' parameter.\n",
            "  FutureWarning)\n",
            "/usr/local/lib/python3.7/dist-packages/sklearn/tree/_classes.py:319: FutureWarning: The parameter 'presort' is deprecated and has no effect. It will be removed in v0.24. You can suppress this warning by not passing any value to the 'presort' parameter.\n",
            "  FutureWarning)\n",
            "/usr/local/lib/python3.7/dist-packages/sklearn/tree/_classes.py:319: FutureWarning: The parameter 'presort' is deprecated and has no effect. It will be removed in v0.24. You can suppress this warning by not passing any value to the 'presort' parameter.\n",
            "  FutureWarning)\n",
            "/usr/local/lib/python3.7/dist-packages/sklearn/tree/_classes.py:319: FutureWarning: The parameter 'presort' is deprecated and has no effect. It will be removed in v0.24. You can suppress this warning by not passing any value to the 'presort' parameter.\n",
            "  FutureWarning)\n",
            "/usr/local/lib/python3.7/dist-packages/sklearn/tree/_classes.py:319: FutureWarning: The parameter 'presort' is deprecated and has no effect. It will be removed in v0.24. You can suppress this warning by not passing any value to the 'presort' parameter.\n",
            "  FutureWarning)\n",
            "/usr/local/lib/python3.7/dist-packages/sklearn/tree/_classes.py:319: FutureWarning: The parameter 'presort' is deprecated and has no effect. It will be removed in v0.24. You can suppress this warning by not passing any value to the 'presort' parameter.\n",
            "  FutureWarning)\n",
            "/usr/local/lib/python3.7/dist-packages/sklearn/tree/_classes.py:319: FutureWarning: The parameter 'presort' is deprecated and has no effect. It will be removed in v0.24. You can suppress this warning by not passing any value to the 'presort' parameter.\n",
            "  FutureWarning)\n",
            "/usr/local/lib/python3.7/dist-packages/sklearn/tree/_classes.py:319: FutureWarning: The parameter 'presort' is deprecated and has no effect. It will be removed in v0.24. You can suppress this warning by not passing any value to the 'presort' parameter.\n",
            "  FutureWarning)\n",
            "/usr/local/lib/python3.7/dist-packages/sklearn/tree/_classes.py:319: FutureWarning: The parameter 'presort' is deprecated and has no effect. It will be removed in v0.24. You can suppress this warning by not passing any value to the 'presort' parameter.\n",
            "  FutureWarning)\n",
            "/usr/local/lib/python3.7/dist-packages/sklearn/tree/_classes.py:319: FutureWarning: The parameter 'presort' is deprecated and has no effect. It will be removed in v0.24. You can suppress this warning by not passing any value to the 'presort' parameter.\n",
            "  FutureWarning)\n",
            "/usr/local/lib/python3.7/dist-packages/sklearn/tree/_classes.py:319: FutureWarning: The parameter 'presort' is deprecated and has no effect. It will be removed in v0.24. You can suppress this warning by not passing any value to the 'presort' parameter.\n",
            "  FutureWarning)\n",
            "/usr/local/lib/python3.7/dist-packages/sklearn/tree/_classes.py:319: FutureWarning: The parameter 'presort' is deprecated and has no effect. It will be removed in v0.24. You can suppress this warning by not passing any value to the 'presort' parameter.\n",
            "  FutureWarning)\n",
            "/usr/local/lib/python3.7/dist-packages/sklearn/tree/_classes.py:319: FutureWarning: The parameter 'presort' is deprecated and has no effect. It will be removed in v0.24. You can suppress this warning by not passing any value to the 'presort' parameter.\n",
            "  FutureWarning)\n",
            "/usr/local/lib/python3.7/dist-packages/sklearn/tree/_classes.py:319: FutureWarning: The parameter 'presort' is deprecated and has no effect. It will be removed in v0.24. You can suppress this warning by not passing any value to the 'presort' parameter.\n",
            "  FutureWarning)\n",
            "/usr/local/lib/python3.7/dist-packages/sklearn/tree/_classes.py:319: FutureWarning: The parameter 'presort' is deprecated and has no effect. It will be removed in v0.24. You can suppress this warning by not passing any value to the 'presort' parameter.\n",
            "  FutureWarning)\n",
            "/usr/local/lib/python3.7/dist-packages/sklearn/tree/_classes.py:319: FutureWarning: The parameter 'presort' is deprecated and has no effect. It will be removed in v0.24. You can suppress this warning by not passing any value to the 'presort' parameter.\n",
            "  FutureWarning)\n",
            "/usr/local/lib/python3.7/dist-packages/sklearn/tree/_classes.py:319: FutureWarning: The parameter 'presort' is deprecated and has no effect. It will be removed in v0.24. You can suppress this warning by not passing any value to the 'presort' parameter.\n",
            "  FutureWarning)\n",
            "/usr/local/lib/python3.7/dist-packages/sklearn/tree/_classes.py:319: FutureWarning: The parameter 'presort' is deprecated and has no effect. It will be removed in v0.24. You can suppress this warning by not passing any value to the 'presort' parameter.\n",
            "  FutureWarning)\n",
            "/usr/local/lib/python3.7/dist-packages/sklearn/tree/_classes.py:319: FutureWarning: The parameter 'presort' is deprecated and has no effect. It will be removed in v0.24. You can suppress this warning by not passing any value to the 'presort' parameter.\n",
            "  FutureWarning)\n",
            "/usr/local/lib/python3.7/dist-packages/sklearn/tree/_classes.py:319: FutureWarning: The parameter 'presort' is deprecated and has no effect. It will be removed in v0.24. You can suppress this warning by not passing any value to the 'presort' parameter.\n",
            "  FutureWarning)\n",
            "/usr/local/lib/python3.7/dist-packages/sklearn/tree/_classes.py:319: FutureWarning: The parameter 'presort' is deprecated and has no effect. It will be removed in v0.24. You can suppress this warning by not passing any value to the 'presort' parameter.\n",
            "  FutureWarning)\n",
            "/usr/local/lib/python3.7/dist-packages/sklearn/tree/_classes.py:319: FutureWarning: The parameter 'presort' is deprecated and has no effect. It will be removed in v0.24. You can suppress this warning by not passing any value to the 'presort' parameter.\n",
            "  FutureWarning)\n",
            "/usr/local/lib/python3.7/dist-packages/sklearn/tree/_classes.py:319: FutureWarning: The parameter 'presort' is deprecated and has no effect. It will be removed in v0.24. You can suppress this warning by not passing any value to the 'presort' parameter.\n",
            "  FutureWarning)\n",
            "/usr/local/lib/python3.7/dist-packages/sklearn/tree/_classes.py:319: FutureWarning: The parameter 'presort' is deprecated and has no effect. It will be removed in v0.24. You can suppress this warning by not passing any value to the 'presort' parameter.\n",
            "  FutureWarning)\n",
            "/usr/local/lib/python3.7/dist-packages/sklearn/tree/_classes.py:319: FutureWarning: The parameter 'presort' is deprecated and has no effect. It will be removed in v0.24. You can suppress this warning by not passing any value to the 'presort' parameter.\n",
            "  FutureWarning)\n",
            "/usr/local/lib/python3.7/dist-packages/sklearn/tree/_classes.py:319: FutureWarning: The parameter 'presort' is deprecated and has no effect. It will be removed in v0.24. You can suppress this warning by not passing any value to the 'presort' parameter.\n",
            "  FutureWarning)\n",
            "/usr/local/lib/python3.7/dist-packages/sklearn/tree/_classes.py:319: FutureWarning: The parameter 'presort' is deprecated and has no effect. It will be removed in v0.24. You can suppress this warning by not passing any value to the 'presort' parameter.\n",
            "  FutureWarning)\n",
            "/usr/local/lib/python3.7/dist-packages/sklearn/tree/_classes.py:319: FutureWarning: The parameter 'presort' is deprecated and has no effect. It will be removed in v0.24. You can suppress this warning by not passing any value to the 'presort' parameter.\n",
            "  FutureWarning)\n",
            "/usr/local/lib/python3.7/dist-packages/sklearn/tree/_classes.py:319: FutureWarning: The parameter 'presort' is deprecated and has no effect. It will be removed in v0.24. You can suppress this warning by not passing any value to the 'presort' parameter.\n",
            "  FutureWarning)\n",
            "/usr/local/lib/python3.7/dist-packages/sklearn/tree/_classes.py:319: FutureWarning: The parameter 'presort' is deprecated and has no effect. It will be removed in v0.24. You can suppress this warning by not passing any value to the 'presort' parameter.\n",
            "  FutureWarning)\n",
            "/usr/local/lib/python3.7/dist-packages/sklearn/tree/_classes.py:319: FutureWarning: The parameter 'presort' is deprecated and has no effect. It will be removed in v0.24. You can suppress this warning by not passing any value to the 'presort' parameter.\n",
            "  FutureWarning)\n",
            "/usr/local/lib/python3.7/dist-packages/sklearn/tree/_classes.py:319: FutureWarning: The parameter 'presort' is deprecated and has no effect. It will be removed in v0.24. You can suppress this warning by not passing any value to the 'presort' parameter.\n",
            "  FutureWarning)\n",
            "/usr/local/lib/python3.7/dist-packages/sklearn/tree/_classes.py:319: FutureWarning: The parameter 'presort' is deprecated and has no effect. It will be removed in v0.24. You can suppress this warning by not passing any value to the 'presort' parameter.\n",
            "  FutureWarning)\n",
            "/usr/local/lib/python3.7/dist-packages/sklearn/tree/_classes.py:319: FutureWarning: The parameter 'presort' is deprecated and has no effect. It will be removed in v0.24. You can suppress this warning by not passing any value to the 'presort' parameter.\n",
            "  FutureWarning)\n",
            "/usr/local/lib/python3.7/dist-packages/sklearn/tree/_classes.py:319: FutureWarning: The parameter 'presort' is deprecated and has no effect. It will be removed in v0.24. You can suppress this warning by not passing any value to the 'presort' parameter.\n",
            "  FutureWarning)\n",
            "/usr/local/lib/python3.7/dist-packages/sklearn/tree/_classes.py:319: FutureWarning: The parameter 'presort' is deprecated and has no effect. It will be removed in v0.24. You can suppress this warning by not passing any value to the 'presort' parameter.\n",
            "  FutureWarning)\n",
            "/usr/local/lib/python3.7/dist-packages/sklearn/tree/_classes.py:319: FutureWarning: The parameter 'presort' is deprecated and has no effect. It will be removed in v0.24. You can suppress this warning by not passing any value to the 'presort' parameter.\n",
            "  FutureWarning)\n",
            "/usr/local/lib/python3.7/dist-packages/sklearn/tree/_classes.py:319: FutureWarning: The parameter 'presort' is deprecated and has no effect. It will be removed in v0.24. You can suppress this warning by not passing any value to the 'presort' parameter.\n",
            "  FutureWarning)\n",
            "/usr/local/lib/python3.7/dist-packages/sklearn/tree/_classes.py:319: FutureWarning: The parameter 'presort' is deprecated and has no effect. It will be removed in v0.24. You can suppress this warning by not passing any value to the 'presort' parameter.\n",
            "  FutureWarning)\n",
            "/usr/local/lib/python3.7/dist-packages/sklearn/tree/_classes.py:319: FutureWarning: The parameter 'presort' is deprecated and has no effect. It will be removed in v0.24. You can suppress this warning by not passing any value to the 'presort' parameter.\n",
            "  FutureWarning)\n",
            "/usr/local/lib/python3.7/dist-packages/sklearn/tree/_classes.py:319: FutureWarning: The parameter 'presort' is deprecated and has no effect. It will be removed in v0.24. You can suppress this warning by not passing any value to the 'presort' parameter.\n",
            "  FutureWarning)\n",
            "/usr/local/lib/python3.7/dist-packages/sklearn/tree/_classes.py:319: FutureWarning: The parameter 'presort' is deprecated and has no effect. It will be removed in v0.24. You can suppress this warning by not passing any value to the 'presort' parameter.\n",
            "  FutureWarning)\n",
            "/usr/local/lib/python3.7/dist-packages/sklearn/tree/_classes.py:319: FutureWarning: The parameter 'presort' is deprecated and has no effect. It will be removed in v0.24. You can suppress this warning by not passing any value to the 'presort' parameter.\n",
            "  FutureWarning)\n",
            "/usr/local/lib/python3.7/dist-packages/sklearn/tree/_classes.py:319: FutureWarning: The parameter 'presort' is deprecated and has no effect. It will be removed in v0.24. You can suppress this warning by not passing any value to the 'presort' parameter.\n",
            "  FutureWarning)\n",
            "/usr/local/lib/python3.7/dist-packages/sklearn/tree/_classes.py:319: FutureWarning: The parameter 'presort' is deprecated and has no effect. It will be removed in v0.24. You can suppress this warning by not passing any value to the 'presort' parameter.\n",
            "  FutureWarning)\n",
            "/usr/local/lib/python3.7/dist-packages/sklearn/tree/_classes.py:319: FutureWarning: The parameter 'presort' is deprecated and has no effect. It will be removed in v0.24. You can suppress this warning by not passing any value to the 'presort' parameter.\n",
            "  FutureWarning)\n",
            "/usr/local/lib/python3.7/dist-packages/sklearn/tree/_classes.py:319: FutureWarning: The parameter 'presort' is deprecated and has no effect. It will be removed in v0.24. You can suppress this warning by not passing any value to the 'presort' parameter.\n",
            "  FutureWarning)\n",
            "/usr/local/lib/python3.7/dist-packages/sklearn/tree/_classes.py:319: FutureWarning: The parameter 'presort' is deprecated and has no effect. It will be removed in v0.24. You can suppress this warning by not passing any value to the 'presort' parameter.\n",
            "  FutureWarning)\n",
            "/usr/local/lib/python3.7/dist-packages/sklearn/tree/_classes.py:319: FutureWarning: The parameter 'presort' is deprecated and has no effect. It will be removed in v0.24. You can suppress this warning by not passing any value to the 'presort' parameter.\n",
            "  FutureWarning)\n",
            "/usr/local/lib/python3.7/dist-packages/sklearn/tree/_classes.py:319: FutureWarning: The parameter 'presort' is deprecated and has no effect. It will be removed in v0.24. You can suppress this warning by not passing any value to the 'presort' parameter.\n",
            "  FutureWarning)\n",
            "/usr/local/lib/python3.7/dist-packages/sklearn/tree/_classes.py:319: FutureWarning: The parameter 'presort' is deprecated and has no effect. It will be removed in v0.24. You can suppress this warning by not passing any value to the 'presort' parameter.\n",
            "  FutureWarning)\n",
            "/usr/local/lib/python3.7/dist-packages/sklearn/tree/_classes.py:319: FutureWarning: The parameter 'presort' is deprecated and has no effect. It will be removed in v0.24. You can suppress this warning by not passing any value to the 'presort' parameter.\n",
            "  FutureWarning)\n",
            "/usr/local/lib/python3.7/dist-packages/sklearn/tree/_classes.py:319: FutureWarning: The parameter 'presort' is deprecated and has no effect. It will be removed in v0.24. You can suppress this warning by not passing any value to the 'presort' parameter.\n",
            "  FutureWarning)\n",
            "/usr/local/lib/python3.7/dist-packages/sklearn/tree/_classes.py:319: FutureWarning: The parameter 'presort' is deprecated and has no effect. It will be removed in v0.24. You can suppress this warning by not passing any value to the 'presort' parameter.\n",
            "  FutureWarning)\n",
            "/usr/local/lib/python3.7/dist-packages/sklearn/tree/_classes.py:319: FutureWarning: The parameter 'presort' is deprecated and has no effect. It will be removed in v0.24. You can suppress this warning by not passing any value to the 'presort' parameter.\n",
            "  FutureWarning)\n",
            "/usr/local/lib/python3.7/dist-packages/sklearn/tree/_classes.py:319: FutureWarning: The parameter 'presort' is deprecated and has no effect. It will be removed in v0.24. You can suppress this warning by not passing any value to the 'presort' parameter.\n",
            "  FutureWarning)\n",
            "/usr/local/lib/python3.7/dist-packages/sklearn/tree/_classes.py:319: FutureWarning: The parameter 'presort' is deprecated and has no effect. It will be removed in v0.24. You can suppress this warning by not passing any value to the 'presort' parameter.\n",
            "  FutureWarning)\n",
            "/usr/local/lib/python3.7/dist-packages/sklearn/tree/_classes.py:319: FutureWarning: The parameter 'presort' is deprecated and has no effect. It will be removed in v0.24. You can suppress this warning by not passing any value to the 'presort' parameter.\n",
            "  FutureWarning)\n",
            "/usr/local/lib/python3.7/dist-packages/sklearn/tree/_classes.py:319: FutureWarning: The parameter 'presort' is deprecated and has no effect. It will be removed in v0.24. You can suppress this warning by not passing any value to the 'presort' parameter.\n",
            "  FutureWarning)\n",
            "/usr/local/lib/python3.7/dist-packages/sklearn/tree/_classes.py:319: FutureWarning: The parameter 'presort' is deprecated and has no effect. It will be removed in v0.24. You can suppress this warning by not passing any value to the 'presort' parameter.\n",
            "  FutureWarning)\n",
            "/usr/local/lib/python3.7/dist-packages/sklearn/tree/_classes.py:319: FutureWarning: The parameter 'presort' is deprecated and has no effect. It will be removed in v0.24. You can suppress this warning by not passing any value to the 'presort' parameter.\n",
            "  FutureWarning)\n",
            "/usr/local/lib/python3.7/dist-packages/sklearn/tree/_classes.py:319: FutureWarning: The parameter 'presort' is deprecated and has no effect. It will be removed in v0.24. You can suppress this warning by not passing any value to the 'presort' parameter.\n",
            "  FutureWarning)\n",
            "/usr/local/lib/python3.7/dist-packages/sklearn/tree/_classes.py:319: FutureWarning: The parameter 'presort' is deprecated and has no effect. It will be removed in v0.24. You can suppress this warning by not passing any value to the 'presort' parameter.\n",
            "  FutureWarning)\n",
            "/usr/local/lib/python3.7/dist-packages/sklearn/tree/_classes.py:319: FutureWarning: The parameter 'presort' is deprecated and has no effect. It will be removed in v0.24. You can suppress this warning by not passing any value to the 'presort' parameter.\n",
            "  FutureWarning)\n",
            "/usr/local/lib/python3.7/dist-packages/sklearn/tree/_classes.py:319: FutureWarning: The parameter 'presort' is deprecated and has no effect. It will be removed in v0.24. You can suppress this warning by not passing any value to the 'presort' parameter.\n",
            "  FutureWarning)\n",
            "/usr/local/lib/python3.7/dist-packages/sklearn/tree/_classes.py:319: FutureWarning: The parameter 'presort' is deprecated and has no effect. It will be removed in v0.24. You can suppress this warning by not passing any value to the 'presort' parameter.\n",
            "  FutureWarning)\n",
            "/usr/local/lib/python3.7/dist-packages/sklearn/tree/_classes.py:319: FutureWarning: The parameter 'presort' is deprecated and has no effect. It will be removed in v0.24. You can suppress this warning by not passing any value to the 'presort' parameter.\n",
            "  FutureWarning)\n",
            "/usr/local/lib/python3.7/dist-packages/sklearn/tree/_classes.py:319: FutureWarning: The parameter 'presort' is deprecated and has no effect. It will be removed in v0.24. You can suppress this warning by not passing any value to the 'presort' parameter.\n",
            "  FutureWarning)\n",
            "/usr/local/lib/python3.7/dist-packages/sklearn/tree/_classes.py:319: FutureWarning: The parameter 'presort' is deprecated and has no effect. It will be removed in v0.24. You can suppress this warning by not passing any value to the 'presort' parameter.\n",
            "  FutureWarning)\n",
            "/usr/local/lib/python3.7/dist-packages/sklearn/tree/_classes.py:319: FutureWarning: The parameter 'presort' is deprecated and has no effect. It will be removed in v0.24. You can suppress this warning by not passing any value to the 'presort' parameter.\n",
            "  FutureWarning)\n",
            "/usr/local/lib/python3.7/dist-packages/sklearn/tree/_classes.py:319: FutureWarning: The parameter 'presort' is deprecated and has no effect. It will be removed in v0.24. You can suppress this warning by not passing any value to the 'presort' parameter.\n",
            "  FutureWarning)\n",
            "/usr/local/lib/python3.7/dist-packages/sklearn/tree/_classes.py:319: FutureWarning: The parameter 'presort' is deprecated and has no effect. It will be removed in v0.24. You can suppress this warning by not passing any value to the 'presort' parameter.\n",
            "  FutureWarning)\n",
            "/usr/local/lib/python3.7/dist-packages/sklearn/tree/_classes.py:319: FutureWarning: The parameter 'presort' is deprecated and has no effect. It will be removed in v0.24. You can suppress this warning by not passing any value to the 'presort' parameter.\n",
            "  FutureWarning)\n",
            "/usr/local/lib/python3.7/dist-packages/sklearn/tree/_classes.py:319: FutureWarning: The parameter 'presort' is deprecated and has no effect. It will be removed in v0.24. You can suppress this warning by not passing any value to the 'presort' parameter.\n",
            "  FutureWarning)\n",
            "/usr/local/lib/python3.7/dist-packages/sklearn/tree/_classes.py:319: FutureWarning: The parameter 'presort' is deprecated and has no effect. It will be removed in v0.24. You can suppress this warning by not passing any value to the 'presort' parameter.\n",
            "  FutureWarning)\n",
            "/usr/local/lib/python3.7/dist-packages/sklearn/tree/_classes.py:319: FutureWarning: The parameter 'presort' is deprecated and has no effect. It will be removed in v0.24. You can suppress this warning by not passing any value to the 'presort' parameter.\n",
            "  FutureWarning)\n",
            "/usr/local/lib/python3.7/dist-packages/sklearn/tree/_classes.py:319: FutureWarning: The parameter 'presort' is deprecated and has no effect. It will be removed in v0.24. You can suppress this warning by not passing any value to the 'presort' parameter.\n",
            "  FutureWarning)\n",
            "/usr/local/lib/python3.7/dist-packages/sklearn/tree/_classes.py:319: FutureWarning: The parameter 'presort' is deprecated and has no effect. It will be removed in v0.24. You can suppress this warning by not passing any value to the 'presort' parameter.\n",
            "  FutureWarning)\n",
            "/usr/local/lib/python3.7/dist-packages/sklearn/tree/_classes.py:319: FutureWarning: The parameter 'presort' is deprecated and has no effect. It will be removed in v0.24. You can suppress this warning by not passing any value to the 'presort' parameter.\n",
            "  FutureWarning)\n",
            "/usr/local/lib/python3.7/dist-packages/sklearn/tree/_classes.py:319: FutureWarning: The parameter 'presort' is deprecated and has no effect. It will be removed in v0.24. You can suppress this warning by not passing any value to the 'presort' parameter.\n",
            "  FutureWarning)\n",
            "/usr/local/lib/python3.7/dist-packages/sklearn/tree/_classes.py:319: FutureWarning: The parameter 'presort' is deprecated and has no effect. It will be removed in v0.24. You can suppress this warning by not passing any value to the 'presort' parameter.\n",
            "  FutureWarning)\n",
            "/usr/local/lib/python3.7/dist-packages/sklearn/tree/_classes.py:319: FutureWarning: The parameter 'presort' is deprecated and has no effect. It will be removed in v0.24. You can suppress this warning by not passing any value to the 'presort' parameter.\n",
            "  FutureWarning)\n",
            "/usr/local/lib/python3.7/dist-packages/sklearn/tree/_classes.py:319: FutureWarning: The parameter 'presort' is deprecated and has no effect. It will be removed in v0.24. You can suppress this warning by not passing any value to the 'presort' parameter.\n",
            "  FutureWarning)\n",
            "/usr/local/lib/python3.7/dist-packages/sklearn/tree/_classes.py:319: FutureWarning: The parameter 'presort' is deprecated and has no effect. It will be removed in v0.24. You can suppress this warning by not passing any value to the 'presort' parameter.\n",
            "  FutureWarning)\n",
            "/usr/local/lib/python3.7/dist-packages/sklearn/tree/_classes.py:319: FutureWarning: The parameter 'presort' is deprecated and has no effect. It will be removed in v0.24. You can suppress this warning by not passing any value to the 'presort' parameter.\n",
            "  FutureWarning)\n",
            "/usr/local/lib/python3.7/dist-packages/sklearn/tree/_classes.py:319: FutureWarning: The parameter 'presort' is deprecated and has no effect. It will be removed in v0.24. You can suppress this warning by not passing any value to the 'presort' parameter.\n",
            "  FutureWarning)\n",
            "/usr/local/lib/python3.7/dist-packages/sklearn/tree/_classes.py:319: FutureWarning: The parameter 'presort' is deprecated and has no effect. It will be removed in v0.24. You can suppress this warning by not passing any value to the 'presort' parameter.\n",
            "  FutureWarning)\n",
            "/usr/local/lib/python3.7/dist-packages/sklearn/tree/_classes.py:319: FutureWarning: The parameter 'presort' is deprecated and has no effect. It will be removed in v0.24. You can suppress this warning by not passing any value to the 'presort' parameter.\n",
            "  FutureWarning)\n",
            "/usr/local/lib/python3.7/dist-packages/sklearn/tree/_classes.py:319: FutureWarning: The parameter 'presort' is deprecated and has no effect. It will be removed in v0.24. You can suppress this warning by not passing any value to the 'presort' parameter.\n",
            "  FutureWarning)\n",
            "/usr/local/lib/python3.7/dist-packages/sklearn/tree/_classes.py:319: FutureWarning: The parameter 'presort' is deprecated and has no effect. It will be removed in v0.24. You can suppress this warning by not passing any value to the 'presort' parameter.\n",
            "  FutureWarning)\n",
            "/usr/local/lib/python3.7/dist-packages/sklearn/tree/_classes.py:319: FutureWarning: The parameter 'presort' is deprecated and has no effect. It will be removed in v0.24. You can suppress this warning by not passing any value to the 'presort' parameter.\n",
            "  FutureWarning)\n",
            "/usr/local/lib/python3.7/dist-packages/sklearn/tree/_classes.py:319: FutureWarning: The parameter 'presort' is deprecated and has no effect. It will be removed in v0.24. You can suppress this warning by not passing any value to the 'presort' parameter.\n",
            "  FutureWarning)\n",
            "/usr/local/lib/python3.7/dist-packages/sklearn/tree/_classes.py:319: FutureWarning: The parameter 'presort' is deprecated and has no effect. It will be removed in v0.24. You can suppress this warning by not passing any value to the 'presort' parameter.\n",
            "  FutureWarning)\n",
            "/usr/local/lib/python3.7/dist-packages/sklearn/tree/_classes.py:319: FutureWarning: The parameter 'presort' is deprecated and has no effect. It will be removed in v0.24. You can suppress this warning by not passing any value to the 'presort' parameter.\n",
            "  FutureWarning)\n",
            "/usr/local/lib/python3.7/dist-packages/sklearn/tree/_classes.py:319: FutureWarning: The parameter 'presort' is deprecated and has no effect. It will be removed in v0.24. You can suppress this warning by not passing any value to the 'presort' parameter.\n",
            "  FutureWarning)\n",
            "/usr/local/lib/python3.7/dist-packages/sklearn/tree/_classes.py:319: FutureWarning: The parameter 'presort' is deprecated and has no effect. It will be removed in v0.24. You can suppress this warning by not passing any value to the 'presort' parameter.\n",
            "  FutureWarning)\n",
            "/usr/local/lib/python3.7/dist-packages/sklearn/tree/_classes.py:319: FutureWarning: The parameter 'presort' is deprecated and has no effect. It will be removed in v0.24. You can suppress this warning by not passing any value to the 'presort' parameter.\n",
            "  FutureWarning)\n",
            "/usr/local/lib/python3.7/dist-packages/sklearn/tree/_classes.py:319: FutureWarning: The parameter 'presort' is deprecated and has no effect. It will be removed in v0.24. You can suppress this warning by not passing any value to the 'presort' parameter.\n",
            "  FutureWarning)\n",
            "/usr/local/lib/python3.7/dist-packages/sklearn/tree/_classes.py:319: FutureWarning: The parameter 'presort' is deprecated and has no effect. It will be removed in v0.24. You can suppress this warning by not passing any value to the 'presort' parameter.\n",
            "  FutureWarning)\n",
            "/usr/local/lib/python3.7/dist-packages/sklearn/tree/_classes.py:319: FutureWarning: The parameter 'presort' is deprecated and has no effect. It will be removed in v0.24. You can suppress this warning by not passing any value to the 'presort' parameter.\n",
            "  FutureWarning)\n",
            "/usr/local/lib/python3.7/dist-packages/sklearn/tree/_classes.py:319: FutureWarning: The parameter 'presort' is deprecated and has no effect. It will be removed in v0.24. You can suppress this warning by not passing any value to the 'presort' parameter.\n",
            "  FutureWarning)\n",
            "/usr/local/lib/python3.7/dist-packages/sklearn/tree/_classes.py:319: FutureWarning: The parameter 'presort' is deprecated and has no effect. It will be removed in v0.24. You can suppress this warning by not passing any value to the 'presort' parameter.\n",
            "  FutureWarning)\n",
            "/usr/local/lib/python3.7/dist-packages/sklearn/tree/_classes.py:319: FutureWarning: The parameter 'presort' is deprecated and has no effect. It will be removed in v0.24. You can suppress this warning by not passing any value to the 'presort' parameter.\n",
            "  FutureWarning)\n",
            "/usr/local/lib/python3.7/dist-packages/sklearn/tree/_classes.py:319: FutureWarning: The parameter 'presort' is deprecated and has no effect. It will be removed in v0.24. You can suppress this warning by not passing any value to the 'presort' parameter.\n",
            "  FutureWarning)\n",
            "/usr/local/lib/python3.7/dist-packages/sklearn/tree/_classes.py:319: FutureWarning: The parameter 'presort' is deprecated and has no effect. It will be removed in v0.24. You can suppress this warning by not passing any value to the 'presort' parameter.\n",
            "  FutureWarning)\n",
            "/usr/local/lib/python3.7/dist-packages/sklearn/tree/_classes.py:319: FutureWarning: The parameter 'presort' is deprecated and has no effect. It will be removed in v0.24. You can suppress this warning by not passing any value to the 'presort' parameter.\n",
            "  FutureWarning)\n",
            "/usr/local/lib/python3.7/dist-packages/sklearn/tree/_classes.py:319: FutureWarning: The parameter 'presort' is deprecated and has no effect. It will be removed in v0.24. You can suppress this warning by not passing any value to the 'presort' parameter.\n",
            "  FutureWarning)\n",
            "/usr/local/lib/python3.7/dist-packages/sklearn/tree/_classes.py:319: FutureWarning: The parameter 'presort' is deprecated and has no effect. It will be removed in v0.24. You can suppress this warning by not passing any value to the 'presort' parameter.\n",
            "  FutureWarning)\n",
            "/usr/local/lib/python3.7/dist-packages/sklearn/tree/_classes.py:319: FutureWarning: The parameter 'presort' is deprecated and has no effect. It will be removed in v0.24. You can suppress this warning by not passing any value to the 'presort' parameter.\n",
            "  FutureWarning)\n",
            "/usr/local/lib/python3.7/dist-packages/sklearn/tree/_classes.py:319: FutureWarning: The parameter 'presort' is deprecated and has no effect. It will be removed in v0.24. You can suppress this warning by not passing any value to the 'presort' parameter.\n",
            "  FutureWarning)\n",
            "/usr/local/lib/python3.7/dist-packages/sklearn/tree/_classes.py:319: FutureWarning: The parameter 'presort' is deprecated and has no effect. It will be removed in v0.24. You can suppress this warning by not passing any value to the 'presort' parameter.\n",
            "  FutureWarning)\n",
            "/usr/local/lib/python3.7/dist-packages/sklearn/tree/_classes.py:319: FutureWarning: The parameter 'presort' is deprecated and has no effect. It will be removed in v0.24. You can suppress this warning by not passing any value to the 'presort' parameter.\n",
            "  FutureWarning)\n",
            "/usr/local/lib/python3.7/dist-packages/sklearn/tree/_classes.py:319: FutureWarning: The parameter 'presort' is deprecated and has no effect. It will be removed in v0.24. You can suppress this warning by not passing any value to the 'presort' parameter.\n",
            "  FutureWarning)\n",
            "/usr/local/lib/python3.7/dist-packages/sklearn/tree/_classes.py:319: FutureWarning: The parameter 'presort' is deprecated and has no effect. It will be removed in v0.24. You can suppress this warning by not passing any value to the 'presort' parameter.\n",
            "  FutureWarning)\n",
            "/usr/local/lib/python3.7/dist-packages/sklearn/tree/_classes.py:319: FutureWarning: The parameter 'presort' is deprecated and has no effect. It will be removed in v0.24. You can suppress this warning by not passing any value to the 'presort' parameter.\n",
            "  FutureWarning)\n",
            "/usr/local/lib/python3.7/dist-packages/sklearn/tree/_classes.py:319: FutureWarning: The parameter 'presort' is deprecated and has no effect. It will be removed in v0.24. You can suppress this warning by not passing any value to the 'presort' parameter.\n",
            "  FutureWarning)\n",
            "/usr/local/lib/python3.7/dist-packages/sklearn/tree/_classes.py:319: FutureWarning: The parameter 'presort' is deprecated and has no effect. It will be removed in v0.24. You can suppress this warning by not passing any value to the 'presort' parameter.\n",
            "  FutureWarning)\n",
            "/usr/local/lib/python3.7/dist-packages/sklearn/tree/_classes.py:319: FutureWarning: The parameter 'presort' is deprecated and has no effect. It will be removed in v0.24. You can suppress this warning by not passing any value to the 'presort' parameter.\n",
            "  FutureWarning)\n",
            "/usr/local/lib/python3.7/dist-packages/sklearn/tree/_classes.py:319: FutureWarning: The parameter 'presort' is deprecated and has no effect. It will be removed in v0.24. You can suppress this warning by not passing any value to the 'presort' parameter.\n",
            "  FutureWarning)\n",
            "/usr/local/lib/python3.7/dist-packages/sklearn/tree/_classes.py:319: FutureWarning: The parameter 'presort' is deprecated and has no effect. It will be removed in v0.24. You can suppress this warning by not passing any value to the 'presort' parameter.\n",
            "  FutureWarning)\n",
            "/usr/local/lib/python3.7/dist-packages/sklearn/tree/_classes.py:319: FutureWarning: The parameter 'presort' is deprecated and has no effect. It will be removed in v0.24. You can suppress this warning by not passing any value to the 'presort' parameter.\n",
            "  FutureWarning)\n",
            "/usr/local/lib/python3.7/dist-packages/sklearn/tree/_classes.py:319: FutureWarning: The parameter 'presort' is deprecated and has no effect. It will be removed in v0.24. You can suppress this warning by not passing any value to the 'presort' parameter.\n",
            "  FutureWarning)\n",
            "/usr/local/lib/python3.7/dist-packages/sklearn/tree/_classes.py:319: FutureWarning: The parameter 'presort' is deprecated and has no effect. It will be removed in v0.24. You can suppress this warning by not passing any value to the 'presort' parameter.\n",
            "  FutureWarning)\n",
            "/usr/local/lib/python3.7/dist-packages/sklearn/tree/_classes.py:319: FutureWarning: The parameter 'presort' is deprecated and has no effect. It will be removed in v0.24. You can suppress this warning by not passing any value to the 'presort' parameter.\n",
            "  FutureWarning)\n",
            "/usr/local/lib/python3.7/dist-packages/sklearn/tree/_classes.py:319: FutureWarning: The parameter 'presort' is deprecated and has no effect. It will be removed in v0.24. You can suppress this warning by not passing any value to the 'presort' parameter.\n",
            "  FutureWarning)\n",
            "/usr/local/lib/python3.7/dist-packages/sklearn/tree/_classes.py:319: FutureWarning: The parameter 'presort' is deprecated and has no effect. It will be removed in v0.24. You can suppress this warning by not passing any value to the 'presort' parameter.\n",
            "  FutureWarning)\n",
            "/usr/local/lib/python3.7/dist-packages/sklearn/tree/_classes.py:319: FutureWarning: The parameter 'presort' is deprecated and has no effect. It will be removed in v0.24. You can suppress this warning by not passing any value to the 'presort' parameter.\n",
            "  FutureWarning)\n",
            "/usr/local/lib/python3.7/dist-packages/sklearn/tree/_classes.py:319: FutureWarning: The parameter 'presort' is deprecated and has no effect. It will be removed in v0.24. You can suppress this warning by not passing any value to the 'presort' parameter.\n",
            "  FutureWarning)\n",
            "/usr/local/lib/python3.7/dist-packages/sklearn/tree/_classes.py:319: FutureWarning: The parameter 'presort' is deprecated and has no effect. It will be removed in v0.24. You can suppress this warning by not passing any value to the 'presort' parameter.\n",
            "  FutureWarning)\n",
            "/usr/local/lib/python3.7/dist-packages/sklearn/tree/_classes.py:319: FutureWarning: The parameter 'presort' is deprecated and has no effect. It will be removed in v0.24. You can suppress this warning by not passing any value to the 'presort' parameter.\n",
            "  FutureWarning)\n",
            "/usr/local/lib/python3.7/dist-packages/sklearn/tree/_classes.py:319: FutureWarning: The parameter 'presort' is deprecated and has no effect. It will be removed in v0.24. You can suppress this warning by not passing any value to the 'presort' parameter.\n",
            "  FutureWarning)\n",
            "/usr/local/lib/python3.7/dist-packages/sklearn/tree/_classes.py:319: FutureWarning: The parameter 'presort' is deprecated and has no effect. It will be removed in v0.24. You can suppress this warning by not passing any value to the 'presort' parameter.\n",
            "  FutureWarning)\n",
            "/usr/local/lib/python3.7/dist-packages/sklearn/tree/_classes.py:319: FutureWarning: The parameter 'presort' is deprecated and has no effect. It will be removed in v0.24. You can suppress this warning by not passing any value to the 'presort' parameter.\n",
            "  FutureWarning)\n",
            "/usr/local/lib/python3.7/dist-packages/sklearn/tree/_classes.py:319: FutureWarning: The parameter 'presort' is deprecated and has no effect. It will be removed in v0.24. You can suppress this warning by not passing any value to the 'presort' parameter.\n",
            "  FutureWarning)\n",
            "/usr/local/lib/python3.7/dist-packages/sklearn/tree/_classes.py:319: FutureWarning: The parameter 'presort' is deprecated and has no effect. It will be removed in v0.24. You can suppress this warning by not passing any value to the 'presort' parameter.\n",
            "  FutureWarning)\n",
            "/usr/local/lib/python3.7/dist-packages/sklearn/tree/_classes.py:319: FutureWarning: The parameter 'presort' is deprecated and has no effect. It will be removed in v0.24. You can suppress this warning by not passing any value to the 'presort' parameter.\n",
            "  FutureWarning)\n",
            "/usr/local/lib/python3.7/dist-packages/sklearn/tree/_classes.py:319: FutureWarning: The parameter 'presort' is deprecated and has no effect. It will be removed in v0.24. You can suppress this warning by not passing any value to the 'presort' parameter.\n",
            "  FutureWarning)\n",
            "/usr/local/lib/python3.7/dist-packages/sklearn/tree/_classes.py:319: FutureWarning: The parameter 'presort' is deprecated and has no effect. It will be removed in v0.24. You can suppress this warning by not passing any value to the 'presort' parameter.\n",
            "  FutureWarning)\n",
            "/usr/local/lib/python3.7/dist-packages/sklearn/tree/_classes.py:319: FutureWarning: The parameter 'presort' is deprecated and has no effect. It will be removed in v0.24. You can suppress this warning by not passing any value to the 'presort' parameter.\n",
            "  FutureWarning)\n",
            "/usr/local/lib/python3.7/dist-packages/sklearn/tree/_classes.py:319: FutureWarning: The parameter 'presort' is deprecated and has no effect. It will be removed in v0.24. You can suppress this warning by not passing any value to the 'presort' parameter.\n",
            "  FutureWarning)\n",
            "/usr/local/lib/python3.7/dist-packages/sklearn/tree/_classes.py:319: FutureWarning: The parameter 'presort' is deprecated and has no effect. It will be removed in v0.24. You can suppress this warning by not passing any value to the 'presort' parameter.\n",
            "  FutureWarning)\n",
            "/usr/local/lib/python3.7/dist-packages/sklearn/tree/_classes.py:319: FutureWarning: The parameter 'presort' is deprecated and has no effect. It will be removed in v0.24. You can suppress this warning by not passing any value to the 'presort' parameter.\n",
            "  FutureWarning)\n",
            "/usr/local/lib/python3.7/dist-packages/sklearn/tree/_classes.py:319: FutureWarning: The parameter 'presort' is deprecated and has no effect. It will be removed in v0.24. You can suppress this warning by not passing any value to the 'presort' parameter.\n",
            "  FutureWarning)\n",
            "/usr/local/lib/python3.7/dist-packages/sklearn/tree/_classes.py:319: FutureWarning: The parameter 'presort' is deprecated and has no effect. It will be removed in v0.24. You can suppress this warning by not passing any value to the 'presort' parameter.\n",
            "  FutureWarning)\n",
            "/usr/local/lib/python3.7/dist-packages/sklearn/tree/_classes.py:319: FutureWarning: The parameter 'presort' is deprecated and has no effect. It will be removed in v0.24. You can suppress this warning by not passing any value to the 'presort' parameter.\n",
            "  FutureWarning)\n",
            "/usr/local/lib/python3.7/dist-packages/sklearn/tree/_classes.py:319: FutureWarning: The parameter 'presort' is deprecated and has no effect. It will be removed in v0.24. You can suppress this warning by not passing any value to the 'presort' parameter.\n",
            "  FutureWarning)\n",
            "/usr/local/lib/python3.7/dist-packages/sklearn/tree/_classes.py:319: FutureWarning: The parameter 'presort' is deprecated and has no effect. It will be removed in v0.24. You can suppress this warning by not passing any value to the 'presort' parameter.\n",
            "  FutureWarning)\n",
            "/usr/local/lib/python3.7/dist-packages/sklearn/tree/_classes.py:319: FutureWarning: The parameter 'presort' is deprecated and has no effect. It will be removed in v0.24. You can suppress this warning by not passing any value to the 'presort' parameter.\n",
            "  FutureWarning)\n",
            "/usr/local/lib/python3.7/dist-packages/sklearn/tree/_classes.py:319: FutureWarning: The parameter 'presort' is deprecated and has no effect. It will be removed in v0.24. You can suppress this warning by not passing any value to the 'presort' parameter.\n",
            "  FutureWarning)\n",
            "/usr/local/lib/python3.7/dist-packages/sklearn/tree/_classes.py:319: FutureWarning: The parameter 'presort' is deprecated and has no effect. It will be removed in v0.24. You can suppress this warning by not passing any value to the 'presort' parameter.\n",
            "  FutureWarning)\n",
            "/usr/local/lib/python3.7/dist-packages/sklearn/tree/_classes.py:319: FutureWarning: The parameter 'presort' is deprecated and has no effect. It will be removed in v0.24. You can suppress this warning by not passing any value to the 'presort' parameter.\n",
            "  FutureWarning)\n",
            "/usr/local/lib/python3.7/dist-packages/sklearn/tree/_classes.py:319: FutureWarning: The parameter 'presort' is deprecated and has no effect. It will be removed in v0.24. You can suppress this warning by not passing any value to the 'presort' parameter.\n",
            "  FutureWarning)\n",
            "/usr/local/lib/python3.7/dist-packages/sklearn/tree/_classes.py:319: FutureWarning: The parameter 'presort' is deprecated and has no effect. It will be removed in v0.24. You can suppress this warning by not passing any value to the 'presort' parameter.\n",
            "  FutureWarning)\n",
            "/usr/local/lib/python3.7/dist-packages/sklearn/tree/_classes.py:319: FutureWarning: The parameter 'presort' is deprecated and has no effect. It will be removed in v0.24. You can suppress this warning by not passing any value to the 'presort' parameter.\n",
            "  FutureWarning)\n",
            "/usr/local/lib/python3.7/dist-packages/sklearn/tree/_classes.py:319: FutureWarning: The parameter 'presort' is deprecated and has no effect. It will be removed in v0.24. You can suppress this warning by not passing any value to the 'presort' parameter.\n",
            "  FutureWarning)\n",
            "/usr/local/lib/python3.7/dist-packages/sklearn/tree/_classes.py:319: FutureWarning: The parameter 'presort' is deprecated and has no effect. It will be removed in v0.24. You can suppress this warning by not passing any value to the 'presort' parameter.\n",
            "  FutureWarning)\n",
            "/usr/local/lib/python3.7/dist-packages/sklearn/tree/_classes.py:319: FutureWarning: The parameter 'presort' is deprecated and has no effect. It will be removed in v0.24. You can suppress this warning by not passing any value to the 'presort' parameter.\n",
            "  FutureWarning)\n",
            "/usr/local/lib/python3.7/dist-packages/sklearn/tree/_classes.py:319: FutureWarning: The parameter 'presort' is deprecated and has no effect. It will be removed in v0.24. You can suppress this warning by not passing any value to the 'presort' parameter.\n",
            "  FutureWarning)\n",
            "/usr/local/lib/python3.7/dist-packages/sklearn/tree/_classes.py:319: FutureWarning: The parameter 'presort' is deprecated and has no effect. It will be removed in v0.24. You can suppress this warning by not passing any value to the 'presort' parameter.\n",
            "  FutureWarning)\n",
            "/usr/local/lib/python3.7/dist-packages/sklearn/tree/_classes.py:319: FutureWarning: The parameter 'presort' is deprecated and has no effect. It will be removed in v0.24. You can suppress this warning by not passing any value to the 'presort' parameter.\n",
            "  FutureWarning)\n",
            "/usr/local/lib/python3.7/dist-packages/sklearn/tree/_classes.py:319: FutureWarning: The parameter 'presort' is deprecated and has no effect. It will be removed in v0.24. You can suppress this warning by not passing any value to the 'presort' parameter.\n",
            "  FutureWarning)\n",
            "/usr/local/lib/python3.7/dist-packages/sklearn/tree/_classes.py:319: FutureWarning: The parameter 'presort' is deprecated and has no effect. It will be removed in v0.24. You can suppress this warning by not passing any value to the 'presort' parameter.\n",
            "  FutureWarning)\n",
            "/usr/local/lib/python3.7/dist-packages/sklearn/tree/_classes.py:319: FutureWarning: The parameter 'presort' is deprecated and has no effect. It will be removed in v0.24. You can suppress this warning by not passing any value to the 'presort' parameter.\n",
            "  FutureWarning)\n",
            "/usr/local/lib/python3.7/dist-packages/sklearn/tree/_classes.py:319: FutureWarning: The parameter 'presort' is deprecated and has no effect. It will be removed in v0.24. You can suppress this warning by not passing any value to the 'presort' parameter.\n",
            "  FutureWarning)\n",
            "/usr/local/lib/python3.7/dist-packages/sklearn/tree/_classes.py:319: FutureWarning: The parameter 'presort' is deprecated and has no effect. It will be removed in v0.24. You can suppress this warning by not passing any value to the 'presort' parameter.\n",
            "  FutureWarning)\n",
            "/usr/local/lib/python3.7/dist-packages/sklearn/tree/_classes.py:319: FutureWarning: The parameter 'presort' is deprecated and has no effect. It will be removed in v0.24. You can suppress this warning by not passing any value to the 'presort' parameter.\n",
            "  FutureWarning)\n",
            "/usr/local/lib/python3.7/dist-packages/sklearn/tree/_classes.py:319: FutureWarning: The parameter 'presort' is deprecated and has no effect. It will be removed in v0.24. You can suppress this warning by not passing any value to the 'presort' parameter.\n",
            "  FutureWarning)\n",
            "/usr/local/lib/python3.7/dist-packages/sklearn/tree/_classes.py:319: FutureWarning: The parameter 'presort' is deprecated and has no effect. It will be removed in v0.24. You can suppress this warning by not passing any value to the 'presort' parameter.\n",
            "  FutureWarning)\n",
            "/usr/local/lib/python3.7/dist-packages/sklearn/tree/_classes.py:319: FutureWarning: The parameter 'presort' is deprecated and has no effect. It will be removed in v0.24. You can suppress this warning by not passing any value to the 'presort' parameter.\n",
            "  FutureWarning)\n",
            "/usr/local/lib/python3.7/dist-packages/sklearn/tree/_classes.py:319: FutureWarning: The parameter 'presort' is deprecated and has no effect. It will be removed in v0.24. You can suppress this warning by not passing any value to the 'presort' parameter.\n",
            "  FutureWarning)\n",
            "/usr/local/lib/python3.7/dist-packages/sklearn/tree/_classes.py:319: FutureWarning: The parameter 'presort' is deprecated and has no effect. It will be removed in v0.24. You can suppress this warning by not passing any value to the 'presort' parameter.\n",
            "  FutureWarning)\n",
            "/usr/local/lib/python3.7/dist-packages/sklearn/tree/_classes.py:319: FutureWarning: The parameter 'presort' is deprecated and has no effect. It will be removed in v0.24. You can suppress this warning by not passing any value to the 'presort' parameter.\n",
            "  FutureWarning)\n",
            "/usr/local/lib/python3.7/dist-packages/sklearn/tree/_classes.py:319: FutureWarning: The parameter 'presort' is deprecated and has no effect. It will be removed in v0.24. You can suppress this warning by not passing any value to the 'presort' parameter.\n",
            "  FutureWarning)\n"
          ]
        },
        {
          "output_type": "stream",
          "name": "stdout",
          "text": [
            "Optimal number of features : 5\n"
          ]
        },
        {
          "output_type": "display_data",
          "data": {
            "image/png": "[encoded data removed]",
            "text/plain": [
              "<Figure size 432x288 with 1 Axes>"
            ]
          },
          "metadata": {
            "needs_background": "light"
          }
        }
      ]
    },
    {
      "cell_type": "code",
      "metadata": {
        "colab": {
          "base_uri": "https://localhost:8080/"
        },
        "id": "iwWYR6gtg116",
        "outputId": "267ab618-8f60-4ab1-9efe-46d1ba5e909b"
      },
      "source": [
        "from sklearn.feature_selection import SelectKBest\n",
        "from sklearn.feature_selection import chi2\n",
        "\n",
        "KBest = SelectKBest(chi2, k=20)\n",
        "X_new = KBest.fit_transform(X_train, y_train)\n",
        "sorted(zip(KBest.scores_, features_name), reverse=True)"
      ],
      "execution_count": 32,
      "outputs": [
        {
          "output_type": "execute_result",
          "data": {
            "text/plain": [
              "[(47.58646350766274, 'PPERSAUT'),\n",
              " (36.04418966987095, 'APLEZIER'),\n",
              " (31.949407652298117, 'PPLEZIER'),\n",
              " (21.513776001146248, 'PWAPART'),\n",
              " (16.138631949080224, 'PBYSTAND'),\n",
              " (14.00580212778908, 'AWAPART'),\n",
              " (13.061632037074508, 'ABYSTAND'),\n",
              " (12.54157326198014, 'PBRAND'),\n",
              " (11.251117273784788, 'APERSAUT'),\n",
              " (9.527705575106664, 'MKOOPKLA'),\n",
              " (9.125613485077949, 'MHHUUR'),\n",
              " (8.352663327516815, 'MOPLHOOG'),\n",
              " (7.9598151963798145, 'MHKOOP'),\n",
              " (7.601619672963379, 'PGEZONG'),\n",
              " (6.958177616719548, 'MINKM30'),\n",
              " (6.5098651470372735, 'AGEZONG'),\n",
              " (6.126831193662437, 'MOPLLAAG'),\n",
              " (5.912689033634445, 'ABROM'),\n",
              " (5.882928351122764, 'PBROM'),\n",
              " (4.94349674657201, 'MAUT0'),\n",
              " (4.776010223640633, 'MSKA'),\n",
              " (4.6750338094227395, 'MBERHOOG'),\n",
              " (4.672956053271597, 'PFIETS'),\n",
              " (4.638353171185632, 'PWAOREG'),\n",
              " (4.093653434011674, 'MSKD'),\n",
              " (4.033935243000773, 'MBERBOER'),\n",
              " (3.994726026342571, 'AZEILPL'),\n",
              " (3.6853190429876337, 'MINK7512'),\n",
              " (3.250856047523577, 'MRELOV'),\n",
              " (3.168910968090792, 'AFIETS'),\n",
              " (3.130143667394486, 'MFALLEEN'),\n",
              " (3.079844504158223, 'MZPART'),\n",
              " (2.9288710309815196, 'MINK4575'),\n",
              " (2.5818604878233145, 'AWALAND'),\n",
              " (2.4138694956896996, 'MINKGEM'),\n",
              " (2.398554717335718, 'MBERARBO'),\n",
              " (2.3763996928646085, 'PWALAND'),\n",
              " (1.882867480883716, 'MRELGE'),\n",
              " (1.8760817225996405, 'AWAOREG'),\n",
              " (1.8655150347161273, 'ALEVEN'),\n",
              " (1.7361894881565103, 'ABRAND'),\n",
              " (1.719174428580289, 'MBERMIDD'),\n",
              " (1.57629235376012, 'MBERARBG'),\n",
              " (1.3748154099907037, 'MZFONDS'),\n",
              " (1.2641379743198697, 'MAUT1'),\n",
              " (1.1983242599137598, 'PLEVEN'),\n",
              " (1.1540123594039997, 'MSKC'),\n",
              " (1.1334731301939789, 'MOPLMIDD'),\n",
              " (0.9794974863682515, 'AINBOED'),\n",
              " (0.9773908915950871, 'MRELSA'),\n",
              " (0.8812801856542224, 'MGODGE'),\n",
              " (0.8485878987222687, 'MBERZELF'),\n",
              " (0.805261234928754, 'PWERKT'),\n",
              " (0.7414163030815236, 'ATRACTOR'),\n",
              " (0.6843126133897055, 'MGEMOMV'),\n",
              " (0.6327866788901434, 'MFWEKIND'),\n",
              " (0.5896410237991029, 'MSKB1'),\n",
              " (0.5831371429131373, 'PZEILPL'),\n",
              " (0.5744267864924222, 'PTRACTOR'),\n",
              " (0.44454858570804173, 'MGODPR'),\n",
              " (0.41760693250555525, 'APERSONG'),\n",
              " (0.4009871665627445, 'PAANHANG'),\n",
              " (0.3885032273779079, 'PVRAAUT'),\n",
              " (0.38143953233467315, 'AWERKT'),\n",
              " (0.286873387535924, 'PPERSONG'),\n",
              " (0.2754841066861527, 'AVRAAUT'),\n",
              " (0.21760824434105033, 'AAANHANG'),\n",
              " (0.20809749948520967, 'PBESAUT'),\n",
              " (0.19761492721059226, 'ABESAUT'),\n",
              " (0.12100058897961401, 'PMOTSCO'),\n",
              " (0.09266323373101282, 'MAANTHUI'),\n",
              " (0.07937226710928093, 'PINBOED'),\n",
              " (0.06855706077730091, 'AMOTSCO'),\n",
              " (0.0551730046292315, 'MAUT2'),\n",
              " (0.03622250884894011, 'MGODRK'),\n",
              " (0.03347223408332957, 'MFGEKIND'),\n",
              " (0.018381755239148024, 'MGODOV'),\n",
              " (0.011211206118380362, 'MSKB2'),\n",
              " (0.010941441735101984, 'PWABEDR'),\n",
              " (0.007823631753954978, 'MGEMLEEF'),\n",
              " (0.003934738584275777, 'MINK123M'),\n",
              " (0.0008168721970849614, 'AWABEDR'),\n",
              " (0.0006256306369800651, 'MINK3045')]"
            ]
          },
          "metadata": {},
          "execution_count": 32
        }
      ]
    },
    {
      "cell_type": "code",
      "metadata": {
        "colab": {
          "base_uri": "https://localhost:8080/",
          "height": 255
        },
        "id": "iaJQ-ZOBg10P",
        "outputId": "79d2752b-1e6c-41e7-852c-ff1a1422ec68"
      },
      "source": [
        "data_prepared_df = pd.DataFrame(X_train, columns = num_attributes, index = list(data_num.index.values))\n",
        "data_prepared_df.head()"
      ],
      "execution_count": 33,
      "outputs": [
        {
          "output_type": "execute_result",
          "data": {
            "text/html": [
              "<div>\n",
              "<style scoped>\n",
              "    .dataframe tbody tr th:only-of-type {\n",
              "        vertical-align: middle;\n",
              "    }\n",
              "\n",
              "    .dataframe tbody tr th {\n",
              "        vertical-align: top;\n",
              "    }\n",
              "\n",
              "    .dataframe thead th {\n",
              "        text-align: right;\n",
              "    }\n",
              "</style>\n",
              "<table border=\"1\" class=\"dataframe\">\n",
              "  <thead>\n",
              "    <tr style=\"text-align: right;\">\n",
              "      <th></th>\n",
              "      <th>MAANTHUI</th>\n",
              "      <th>MGEMOMV</th>\n",
              "      <th>MGEMLEEF</th>\n",
              "      <th>MGODRK</th>\n",
              "      <th>MGODPR</th>\n",
              "      <th>MGODOV</th>\n",
              "      <th>MGODGE</th>\n",
              "      <th>MRELGE</th>\n",
              "      <th>MRELSA</th>\n",
              "      <th>MRELOV</th>\n",
              "      <th>MFALLEEN</th>\n",
              "      <th>MFGEKIND</th>\n",
              "      <th>MFWEKIND</th>\n",
              "      <th>MOPLHOOG</th>\n",
              "      <th>MOPLMIDD</th>\n",
              "      <th>MOPLLAAG</th>\n",
              "      <th>MBERHOOG</th>\n",
              "      <th>MBERZELF</th>\n",
              "      <th>MBERBOER</th>\n",
              "      <th>MBERMIDD</th>\n",
              "      <th>MBERARBG</th>\n",
              "      <th>MBERARBO</th>\n",
              "      <th>MSKA</th>\n",
              "      <th>MSKB1</th>\n",
              "      <th>MSKB2</th>\n",
              "      <th>MSKC</th>\n",
              "      <th>MSKD</th>\n",
              "      <th>MHHUUR</th>\n",
              "      <th>MHKOOP</th>\n",
              "      <th>MAUT1</th>\n",
              "      <th>MAUT2</th>\n",
              "      <th>MAUT0</th>\n",
              "      <th>MZFONDS</th>\n",
              "      <th>MZPART</th>\n",
              "      <th>MINKM30</th>\n",
              "      <th>MINK3045</th>\n",
              "      <th>MINK4575</th>\n",
              "      <th>MINK7512</th>\n",
              "      <th>MINK123M</th>\n",
              "      <th>MINKGEM</th>\n",
              "      <th>...</th>\n",
              "      <th>PWALAND</th>\n",
              "      <th>PPERSAUT</th>\n",
              "      <th>PBESAUT</th>\n",
              "      <th>PMOTSCO</th>\n",
              "      <th>PVRAAUT</th>\n",
              "      <th>PAANHANG</th>\n",
              "      <th>PTRACTOR</th>\n",
              "      <th>PWERKT</th>\n",
              "      <th>PBROM</th>\n",
              "      <th>PLEVEN</th>\n",
              "      <th>PPERSONG</th>\n",
              "      <th>PGEZONG</th>\n",
              "      <th>PWAOREG</th>\n",
              "      <th>PBRAND</th>\n",
              "      <th>PZEILPL</th>\n",
              "      <th>PPLEZIER</th>\n",
              "      <th>PFIETS</th>\n",
              "      <th>PINBOED</th>\n",
              "      <th>PBYSTAND</th>\n",
              "      <th>AWAPART</th>\n",
              "      <th>AWABEDR</th>\n",
              "      <th>AWALAND</th>\n",
              "      <th>APERSAUT</th>\n",
              "      <th>ABESAUT</th>\n",
              "      <th>AMOTSCO</th>\n",
              "      <th>AVRAAUT</th>\n",
              "      <th>AAANHANG</th>\n",
              "      <th>ATRACTOR</th>\n",
              "      <th>AWERKT</th>\n",
              "      <th>ABROM</th>\n",
              "      <th>ALEVEN</th>\n",
              "      <th>APERSONG</th>\n",
              "      <th>AGEZONG</th>\n",
              "      <th>AWAOREG</th>\n",
              "      <th>ABRAND</th>\n",
              "      <th>AZEILPL</th>\n",
              "      <th>APLEZIER</th>\n",
              "      <th>AFIETS</th>\n",
              "      <th>AINBOED</th>\n",
              "      <th>ABYSTAND</th>\n",
              "    </tr>\n",
              "  </thead>\n",
              "  <tbody>\n",
              "    <tr>\n",
              "      <th>0</th>\n",
              "      <td>0.0</td>\n",
              "      <td>0.50</td>\n",
              "      <td>0.2</td>\n",
              "      <td>0.000000</td>\n",
              "      <td>0.555556</td>\n",
              "      <td>0.2</td>\n",
              "      <td>0.333333</td>\n",
              "      <td>0.777778</td>\n",
              "      <td>0.000000</td>\n",
              "      <td>0.222222</td>\n",
              "      <td>0.111111</td>\n",
              "      <td>0.222222</td>\n",
              "      <td>0.666667</td>\n",
              "      <td>0.111111</td>\n",
              "      <td>0.222222</td>\n",
              "      <td>0.777778</td>\n",
              "      <td>0.111111</td>\n",
              "      <td>0.0</td>\n",
              "      <td>0.111111</td>\n",
              "      <td>0.222222</td>\n",
              "      <td>0.555556</td>\n",
              "      <td>0.222222</td>\n",
              "      <td>0.111111</td>\n",
              "      <td>0.111111</td>\n",
              "      <td>0.222222</td>\n",
              "      <td>0.666667</td>\n",
              "      <td>0.111111</td>\n",
              "      <td>0.111111</td>\n",
              "      <td>0.888889</td>\n",
              "      <td>0.888889</td>\n",
              "      <td>0.000000</td>\n",
              "      <td>0.111111</td>\n",
              "      <td>0.888889</td>\n",
              "      <td>0.111111</td>\n",
              "      <td>0.000000</td>\n",
              "      <td>0.444444</td>\n",
              "      <td>0.555556</td>\n",
              "      <td>0.000000</td>\n",
              "      <td>0.0</td>\n",
              "      <td>0.444444</td>\n",
              "      <td>...</td>\n",
              "      <td>0.0</td>\n",
              "      <td>0.75</td>\n",
              "      <td>0.0</td>\n",
              "      <td>0.0</td>\n",
              "      <td>0.0</td>\n",
              "      <td>0.0</td>\n",
              "      <td>0.0</td>\n",
              "      <td>0.0</td>\n",
              "      <td>0.0</td>\n",
              "      <td>0.0</td>\n",
              "      <td>0.0</td>\n",
              "      <td>0.0</td>\n",
              "      <td>0.0</td>\n",
              "      <td>0.625</td>\n",
              "      <td>0.0</td>\n",
              "      <td>0.0</td>\n",
              "      <td>0.0</td>\n",
              "      <td>0.0</td>\n",
              "      <td>0.0</td>\n",
              "      <td>0.0</td>\n",
              "      <td>0.0</td>\n",
              "      <td>0.0</td>\n",
              "      <td>0.142857</td>\n",
              "      <td>0.0</td>\n",
              "      <td>0.0</td>\n",
              "      <td>0.0</td>\n",
              "      <td>0.0</td>\n",
              "      <td>0.0</td>\n",
              "      <td>0.0</td>\n",
              "      <td>0.0</td>\n",
              "      <td>0.0</td>\n",
              "      <td>0.0</td>\n",
              "      <td>0.0</td>\n",
              "      <td>0.0</td>\n",
              "      <td>0.142857</td>\n",
              "      <td>0.0</td>\n",
              "      <td>0.0</td>\n",
              "      <td>0.0</td>\n",
              "      <td>0.0</td>\n",
              "      <td>0.0</td>\n",
              "    </tr>\n",
              "    <tr>\n",
              "      <th>1</th>\n",
              "      <td>0.0</td>\n",
              "      <td>0.25</td>\n",
              "      <td>0.2</td>\n",
              "      <td>0.111111</td>\n",
              "      <td>0.444444</td>\n",
              "      <td>0.2</td>\n",
              "      <td>0.444444</td>\n",
              "      <td>0.666667</td>\n",
              "      <td>0.285714</td>\n",
              "      <td>0.222222</td>\n",
              "      <td>0.000000</td>\n",
              "      <td>0.444444</td>\n",
              "      <td>0.555556</td>\n",
              "      <td>0.000000</td>\n",
              "      <td>0.555556</td>\n",
              "      <td>0.444444</td>\n",
              "      <td>0.000000</td>\n",
              "      <td>0.0</td>\n",
              "      <td>0.000000</td>\n",
              "      <td>0.555556</td>\n",
              "      <td>0.000000</td>\n",
              "      <td>0.444444</td>\n",
              "      <td>0.000000</td>\n",
              "      <td>0.222222</td>\n",
              "      <td>0.333333</td>\n",
              "      <td>0.555556</td>\n",
              "      <td>0.000000</td>\n",
              "      <td>0.222222</td>\n",
              "      <td>0.777778</td>\n",
              "      <td>0.777778</td>\n",
              "      <td>0.142857</td>\n",
              "      <td>0.222222</td>\n",
              "      <td>0.666667</td>\n",
              "      <td>0.333333</td>\n",
              "      <td>0.222222</td>\n",
              "      <td>0.000000</td>\n",
              "      <td>0.555556</td>\n",
              "      <td>0.222222</td>\n",
              "      <td>0.0</td>\n",
              "      <td>0.555556</td>\n",
              "      <td>...</td>\n",
              "      <td>0.0</td>\n",
              "      <td>0.00</td>\n",
              "      <td>0.0</td>\n",
              "      <td>0.0</td>\n",
              "      <td>0.0</td>\n",
              "      <td>0.0</td>\n",
              "      <td>0.0</td>\n",
              "      <td>0.0</td>\n",
              "      <td>0.0</td>\n",
              "      <td>0.0</td>\n",
              "      <td>0.0</td>\n",
              "      <td>0.0</td>\n",
              "      <td>0.0</td>\n",
              "      <td>0.250</td>\n",
              "      <td>0.0</td>\n",
              "      <td>0.0</td>\n",
              "      <td>0.0</td>\n",
              "      <td>0.0</td>\n",
              "      <td>0.0</td>\n",
              "      <td>1.0</td>\n",
              "      <td>0.0</td>\n",
              "      <td>0.0</td>\n",
              "      <td>0.000000</td>\n",
              "      <td>0.0</td>\n",
              "      <td>0.0</td>\n",
              "      <td>0.0</td>\n",
              "      <td>0.0</td>\n",
              "      <td>0.0</td>\n",
              "      <td>0.0</td>\n",
              "      <td>0.0</td>\n",
              "      <td>0.0</td>\n",
              "      <td>0.0</td>\n",
              "      <td>0.0</td>\n",
              "      <td>0.0</td>\n",
              "      <td>0.142857</td>\n",
              "      <td>0.0</td>\n",
              "      <td>0.0</td>\n",
              "      <td>0.0</td>\n",
              "      <td>0.0</td>\n",
              "      <td>0.0</td>\n",
              "    </tr>\n",
              "    <tr>\n",
              "      <th>2</th>\n",
              "      <td>0.0</td>\n",
              "      <td>0.25</td>\n",
              "      <td>0.2</td>\n",
              "      <td>0.000000</td>\n",
              "      <td>0.444444</td>\n",
              "      <td>0.4</td>\n",
              "      <td>0.444444</td>\n",
              "      <td>0.333333</td>\n",
              "      <td>0.285714</td>\n",
              "      <td>0.444444</td>\n",
              "      <td>0.444444</td>\n",
              "      <td>0.444444</td>\n",
              "      <td>0.222222</td>\n",
              "      <td>0.000000</td>\n",
              "      <td>0.555556</td>\n",
              "      <td>0.444444</td>\n",
              "      <td>0.000000</td>\n",
              "      <td>0.0</td>\n",
              "      <td>0.000000</td>\n",
              "      <td>0.777778</td>\n",
              "      <td>0.000000</td>\n",
              "      <td>0.222222</td>\n",
              "      <td>0.000000</td>\n",
              "      <td>0.555556</td>\n",
              "      <td>0.000000</td>\n",
              "      <td>0.444444</td>\n",
              "      <td>0.000000</td>\n",
              "      <td>0.777778</td>\n",
              "      <td>0.222222</td>\n",
              "      <td>0.777778</td>\n",
              "      <td>0.000000</td>\n",
              "      <td>0.222222</td>\n",
              "      <td>1.000000</td>\n",
              "      <td>0.000000</td>\n",
              "      <td>0.444444</td>\n",
              "      <td>0.555556</td>\n",
              "      <td>0.000000</td>\n",
              "      <td>0.000000</td>\n",
              "      <td>0.0</td>\n",
              "      <td>0.333333</td>\n",
              "      <td>...</td>\n",
              "      <td>0.0</td>\n",
              "      <td>0.75</td>\n",
              "      <td>0.0</td>\n",
              "      <td>0.0</td>\n",
              "      <td>0.0</td>\n",
              "      <td>0.0</td>\n",
              "      <td>0.0</td>\n",
              "      <td>0.0</td>\n",
              "      <td>0.0</td>\n",
              "      <td>0.0</td>\n",
              "      <td>0.0</td>\n",
              "      <td>0.0</td>\n",
              "      <td>0.0</td>\n",
              "      <td>0.250</td>\n",
              "      <td>0.0</td>\n",
              "      <td>0.0</td>\n",
              "      <td>0.0</td>\n",
              "      <td>0.0</td>\n",
              "      <td>0.0</td>\n",
              "      <td>0.5</td>\n",
              "      <td>0.0</td>\n",
              "      <td>0.0</td>\n",
              "      <td>0.142857</td>\n",
              "      <td>0.0</td>\n",
              "      <td>0.0</td>\n",
              "      <td>0.0</td>\n",
              "      <td>0.0</td>\n",
              "      <td>0.0</td>\n",
              "      <td>0.0</td>\n",
              "      <td>0.0</td>\n",
              "      <td>0.0</td>\n",
              "      <td>0.0</td>\n",
              "      <td>0.0</td>\n",
              "      <td>0.0</td>\n",
              "      <td>0.142857</td>\n",
              "      <td>0.0</td>\n",
              "      <td>0.0</td>\n",
              "      <td>0.0</td>\n",
              "      <td>0.0</td>\n",
              "      <td>0.0</td>\n",
              "    </tr>\n",
              "    <tr>\n",
              "      <th>3</th>\n",
              "      <td>0.0</td>\n",
              "      <td>0.50</td>\n",
              "      <td>0.4</td>\n",
              "      <td>0.222222</td>\n",
              "      <td>0.333333</td>\n",
              "      <td>0.4</td>\n",
              "      <td>0.444444</td>\n",
              "      <td>0.555556</td>\n",
              "      <td>0.285714</td>\n",
              "      <td>0.222222</td>\n",
              "      <td>0.222222</td>\n",
              "      <td>0.333333</td>\n",
              "      <td>0.444444</td>\n",
              "      <td>0.333333</td>\n",
              "      <td>0.444444</td>\n",
              "      <td>0.222222</td>\n",
              "      <td>0.444444</td>\n",
              "      <td>0.0</td>\n",
              "      <td>0.000000</td>\n",
              "      <td>0.333333</td>\n",
              "      <td>0.111111</td>\n",
              "      <td>0.222222</td>\n",
              "      <td>0.333333</td>\n",
              "      <td>0.222222</td>\n",
              "      <td>0.111111</td>\n",
              "      <td>0.444444</td>\n",
              "      <td>0.000000</td>\n",
              "      <td>0.555556</td>\n",
              "      <td>0.444444</td>\n",
              "      <td>1.000000</td>\n",
              "      <td>0.000000</td>\n",
              "      <td>0.000000</td>\n",
              "      <td>0.777778</td>\n",
              "      <td>0.222222</td>\n",
              "      <td>0.111111</td>\n",
              "      <td>0.555556</td>\n",
              "      <td>0.333333</td>\n",
              "      <td>0.000000</td>\n",
              "      <td>0.0</td>\n",
              "      <td>0.444444</td>\n",
              "      <td>...</td>\n",
              "      <td>0.0</td>\n",
              "      <td>0.75</td>\n",
              "      <td>0.0</td>\n",
              "      <td>0.0</td>\n",
              "      <td>0.0</td>\n",
              "      <td>0.0</td>\n",
              "      <td>0.0</td>\n",
              "      <td>0.0</td>\n",
              "      <td>0.0</td>\n",
              "      <td>0.0</td>\n",
              "      <td>0.0</td>\n",
              "      <td>0.0</td>\n",
              "      <td>0.0</td>\n",
              "      <td>0.250</td>\n",
              "      <td>0.0</td>\n",
              "      <td>0.0</td>\n",
              "      <td>0.0</td>\n",
              "      <td>0.0</td>\n",
              "      <td>0.0</td>\n",
              "      <td>0.0</td>\n",
              "      <td>0.0</td>\n",
              "      <td>0.0</td>\n",
              "      <td>0.142857</td>\n",
              "      <td>0.0</td>\n",
              "      <td>0.0</td>\n",
              "      <td>0.0</td>\n",
              "      <td>0.0</td>\n",
              "      <td>0.0</td>\n",
              "      <td>0.0</td>\n",
              "      <td>0.0</td>\n",
              "      <td>0.0</td>\n",
              "      <td>0.0</td>\n",
              "      <td>0.0</td>\n",
              "      <td>0.0</td>\n",
              "      <td>0.142857</td>\n",
              "      <td>0.0</td>\n",
              "      <td>0.0</td>\n",
              "      <td>0.0</td>\n",
              "      <td>0.0</td>\n",
              "      <td>0.0</td>\n",
              "    </tr>\n",
              "    <tr>\n",
              "      <th>4</th>\n",
              "      <td>0.0</td>\n",
              "      <td>0.75</td>\n",
              "      <td>0.2</td>\n",
              "      <td>0.111111</td>\n",
              "      <td>0.444444</td>\n",
              "      <td>0.2</td>\n",
              "      <td>0.444444</td>\n",
              "      <td>0.777778</td>\n",
              "      <td>0.142857</td>\n",
              "      <td>0.222222</td>\n",
              "      <td>0.222222</td>\n",
              "      <td>0.444444</td>\n",
              "      <td>0.444444</td>\n",
              "      <td>0.555556</td>\n",
              "      <td>0.444444</td>\n",
              "      <td>0.000000</td>\n",
              "      <td>0.000000</td>\n",
              "      <td>1.0</td>\n",
              "      <td>0.444444</td>\n",
              "      <td>0.000000</td>\n",
              "      <td>0.000000</td>\n",
              "      <td>0.000000</td>\n",
              "      <td>1.000000</td>\n",
              "      <td>0.000000</td>\n",
              "      <td>0.000000</td>\n",
              "      <td>0.000000</td>\n",
              "      <td>0.000000</td>\n",
              "      <td>0.444444</td>\n",
              "      <td>0.555556</td>\n",
              "      <td>0.666667</td>\n",
              "      <td>0.285714</td>\n",
              "      <td>0.111111</td>\n",
              "      <td>0.555556</td>\n",
              "      <td>0.444444</td>\n",
              "      <td>0.000000</td>\n",
              "      <td>0.000000</td>\n",
              "      <td>1.000000</td>\n",
              "      <td>0.000000</td>\n",
              "      <td>0.0</td>\n",
              "      <td>0.666667</td>\n",
              "      <td>...</td>\n",
              "      <td>0.0</td>\n",
              "      <td>0.00</td>\n",
              "      <td>0.0</td>\n",
              "      <td>0.0</td>\n",
              "      <td>0.0</td>\n",
              "      <td>0.0</td>\n",
              "      <td>0.0</td>\n",
              "      <td>0.0</td>\n",
              "      <td>0.0</td>\n",
              "      <td>0.0</td>\n",
              "      <td>0.0</td>\n",
              "      <td>0.0</td>\n",
              "      <td>0.0</td>\n",
              "      <td>0.750</td>\n",
              "      <td>0.0</td>\n",
              "      <td>0.0</td>\n",
              "      <td>0.0</td>\n",
              "      <td>0.0</td>\n",
              "      <td>0.0</td>\n",
              "      <td>0.0</td>\n",
              "      <td>0.0</td>\n",
              "      <td>0.0</td>\n",
              "      <td>0.000000</td>\n",
              "      <td>0.0</td>\n",
              "      <td>0.0</td>\n",
              "      <td>0.0</td>\n",
              "      <td>0.0</td>\n",
              "      <td>0.0</td>\n",
              "      <td>0.0</td>\n",
              "      <td>0.0</td>\n",
              "      <td>0.0</td>\n",
              "      <td>0.0</td>\n",
              "      <td>0.0</td>\n",
              "      <td>0.0</td>\n",
              "      <td>0.142857</td>\n",
              "      <td>0.0</td>\n",
              "      <td>0.0</td>\n",
              "      <td>0.0</td>\n",
              "      <td>0.0</td>\n",
              "      <td>0.0</td>\n",
              "    </tr>\n",
              "  </tbody>\n",
              "</table>\n",
              "<p>5 rows × 83 columns</p>\n",
              "</div>"
            ],
            "text/plain": [
              "   MAANTHUI  MGEMOMV  MGEMLEEF    MGODRK  ...  APLEZIER  AFIETS  AINBOED  ABYSTAND\n",
              "0       0.0     0.50       0.2  0.000000  ...       0.0     0.0      0.0       0.0\n",
              "1       0.0     0.25       0.2  0.111111  ...       0.0     0.0      0.0       0.0\n",
              "2       0.0     0.25       0.2  0.000000  ...       0.0     0.0      0.0       0.0\n",
              "3       0.0     0.50       0.4  0.222222  ...       0.0     0.0      0.0       0.0\n",
              "4       0.0     0.75       0.2  0.111111  ...       0.0     0.0      0.0       0.0\n",
              "\n",
              "[5 rows x 83 columns]"
            ]
          },
          "metadata": {},
          "execution_count": 33
        }
      ]
    },
    {
      "cell_type": "code",
      "metadata": {
        "id": "XtYWXgk4g1xE"
      },
      "source": [
        "def display_scores(scores):\n",
        "    print('Scores:                        ', scores)\n",
        "    print('Mean:                          '+\"{:.2f}\".format(scores.mean()))\n",
        "    print('Standard deviation:            '+\"{:.2f}\".format(scores.std()))"
      ],
      "execution_count": 34,
      "outputs": []
    },
    {
      "cell_type": "code",
      "metadata": {
        "id": "eP7xVRoqg1uo"
      },
      "source": [
        "def display_conf_matrix(y_train, y_pred):\n",
        "    # Confusion matrix: row -> actual, column -> predicted\n",
        "    from sklearn.metrics import confusion_matrix\n",
        "    print(confusion_matrix(y_train, y_pred))"
      ],
      "execution_count": 35,
      "outputs": []
    },
    {
      "cell_type": "code",
      "metadata": {
        "id": "tp-0gtHHg1sz"
      },
      "source": [
        "def display_perf_metrics(y_train, y_pred, y_proba):\n",
        "    from sklearn.metrics import accuracy_score, precision_score, recall_score, roc_auc_score, f1_score, cohen_kappa_score\n",
        "    print('Accuracy           '+\"{:.2f}\".format(accuracy_score(y_train, y_pred)*100)+'%')\n",
        "    print('Precision          '+\"{:.2f}\".format(precision_score(y_train, y_pred)*100)+'%')\n",
        "    print('Recall             '+\"{:.2f}\".format(recall_score(y_train, y_pred)*100)+'%')\n",
        "    print('F1                 '+\"{:.2f}\".format(f1_score(y_train, y_pred)))\n",
        "    print('AUC                '+\"{:.2f}\".format(roc_auc_score(y_train, y_proba)))\n",
        "    print('Cohen Kappa        '+\"{:.2f}\".format(cohen_kappa_score(y_train, y_pred)))"
      ],
      "execution_count": 36,
      "outputs": []
    },
    {
      "cell_type": "code",
      "metadata": {
        "id": "4EYXtOjMg1qB"
      },
      "source": [
        "def plot_precision_vs_recall(precisions, recalls):\n",
        "    plt.plot(recalls, precisions, \"b-\", linewidth=2)\n",
        "    plt.xlabel(\"Recall\", fontsize=16)\n",
        "    plt.ylabel(\"Precision\", fontsize=16)\n",
        "    plt.axis([0, 1, 0, 1])"
      ],
      "execution_count": 37,
      "outputs": []
    },
    {
      "cell_type": "code",
      "metadata": {
        "id": "Nkv0w4q5g1nh"
      },
      "source": [
        "def plot_roc_curve(fpr, tpr, label=None):\n",
        "    from sklearn.metrics import auc\n",
        "    plt.plot(fpr, tpr, linewidth=2, label=(label + ' (area = %0.2f)' % auc(fpr, tpr)))\n",
        "    plt.plot([0, 1], [0, 1], 'k--')\n",
        "    plt.axis([0, 1, 0, 1])\n",
        "    plt.legend(loc=\"lower right\")\n",
        "    plt.xlabel('False Positive Rate', fontsize=16)\n",
        "    plt.ylabel('True Positive Rate', fontsize=16)"
      ],
      "execution_count": 38,
      "outputs": []
    },
    {
      "cell_type": "code",
      "metadata": {
        "id": "6II2Q-xhg1lG"
      },
      "source": [
        "def plot_precision_recall_vs_threshold(precisions, recalls, thresholds):\n",
        "    plt.plot(thresholds, precisions[:-1], \"b--\", label=\"Precision\")\n",
        "    plt.plot(thresholds, recalls[:-1], \"g-\", label=\"Recall\")\n",
        "    plt.xlabel(\"Threshold\")\n",
        "    plt.legend(loc=\"upper left\")\n",
        "    plt.ylim([0, 1])"
      ],
      "execution_count": 39,
      "outputs": []
    },
    {
      "cell_type": "code",
      "metadata": {
        "id": "tU1au8OPg1i1"
      },
      "source": [
        "def plot_learning_curve(estimator, title, X, y, ylim=None, cv=None, n_jobs=1, train_sizes=np.linspace(.1, 1.0, 5)):\n",
        "    \n",
        "    plt.figure()\n",
        "    plt.title(title)\n",
        "    if ylim is not None:\n",
        "        plt.ylim(*ylim)\n",
        "    plt.xlabel(\"Training examples\")\n",
        "    plt.ylabel(\"Score\")\n",
        "    train_sizes, train_scores, test_scores = learning_curve(\n",
        "        estimator, X, y, cv=cv, n_jobs=n_jobs, train_sizes=train_sizes)\n",
        "    train_scores_mean = np.mean(train_scores, axis=1)\n",
        "    train_scores_std = np.std(train_scores, axis=1)\n",
        "    test_scores_mean = np.mean(test_scores, axis=1)\n",
        "    test_scores_std = np.std(test_scores, axis=1)\n",
        "    plt.grid()\n",
        "\n",
        "    plt.fill_between(train_sizes, train_scores_mean - train_scores_std,\n",
        "                     train_scores_mean + train_scores_std, alpha=0.1,\n",
        "                     color=\"r\")\n",
        "    plt.fill_between(train_sizes, test_scores_mean - test_scores_std,\n",
        "                     test_scores_mean + test_scores_std, alpha=0.1, color=\"g\")\n",
        "    plt.plot(train_sizes, train_scores_mean, 'o-', color=\"r\",\n",
        "             label=\"Training score\")\n",
        "    plt.plot(train_sizes, test_scores_mean, 'o-', color=\"g\",\n",
        "             label=\"Cross-validation score\")\n",
        "\n",
        "    plt.legend(loc=\"best\")\n",
        "    return plt"
      ],
      "execution_count": 40,
      "outputs": []
    },
    {
      "cell_type": "code",
      "metadata": {
        "id": "vXecynDPg1hJ"
      },
      "source": [
        "def calculate_profit(cm, FN_amount, TP_amount, TN_amount, FP_amount):\n",
        "    \n",
        "    return (cm[0][0]*TN_amount + cm[1][0]*FN_amount + cm[0][1]*FP_amount +\n",
        "                   cm[1][1]*TP_amount)"
      ],
      "execution_count": 41,
      "outputs": []
    },
    {
      "cell_type": "code",
      "metadata": {
        "id": "yiCDd3YGg1d7"
      },
      "source": [
        "def create_ranking_profit_df(name, y_actual, y_proba):\n",
        "    # Write a CSV file with results\n",
        "    df_scores = pd.DataFrame({\n",
        "            'score': y_proba[:,1],\n",
        "            'actual': y_actual,\n",
        "        })\n",
        "    \n",
        "    df_scores = df_scores.sort_values(\"score\", ascending = False)\n",
        "    df_scores[\"profit\"] = (TP_amount - FP_amount) * df_scores[\"actual\"] + FP_amount\n",
        "    df_scores[\"cum_profit\"] = df_scores[\"profit\"].cumsum(axis = 0)\n",
        "    # print(df_scores[\"cum_profit\"].values)\n",
        "    # print(ranking_dt.head())\n",
        "    \n",
        "    # Save a copy of the dataframe\n",
        "    path = os.path.join(PROJECT_ROOT_DIR, output_path, \"df_ranking_profit_\" + name + \".csv\")\n",
        "    df_scores.to_csv(path)\n",
        "    \n",
        "    return df_scores"
      ],
      "execution_count": 42,
      "outputs": []
    },
    {
      "cell_type": "code",
      "metadata": {
        "id": "iIslrOcug1bm"
      },
      "source": [
        "def plot_profit_curve(name, df_scores):\n",
        "    plt.plot(df_scores[\"cum_profit\"].values, linewidth=1, label=name + \" Profit curve\")\n",
        "    plt.plot([0, 0], [0, 1], 'k--')\n",
        "    plt.legend(loc=\"lower left\")\n",
        "    plt.xlabel('Number of test instances', fontsize=16)\n",
        "    plt.ylabel('Profit', fontsize=16)\n",
        "    plt.grid(True)"
      ],
      "execution_count": 43,
      "outputs": []
    },
    {
      "cell_type": "code",
      "metadata": {
        "colab": {
          "base_uri": "https://localhost:8080/"
        },
        "id": "Pbgy5Fn8g1ZN",
        "outputId": "9c15cda0-8177-40a2-e15c-0c472719ecd5"
      },
      "source": [
        "from sklearn.tree import DecisionTreeClassifier\n",
        "\n",
        "clf_dt = DecisionTreeClassifier(max_depth = 3, random_state = 42)\n",
        "clf_dt.fit(X_train, y_train)"
      ],
      "execution_count": 44,
      "outputs": [
        {
          "output_type": "execute_result",
          "data": {
            "text/plain": [
              "DecisionTreeClassifier(ccp_alpha=0.0, class_weight=None, criterion='gini',\n",
              "                       max_depth=3, max_features=None, max_leaf_nodes=None,\n",
              "                       min_impurity_decrease=0.0, min_impurity_split=None,\n",
              "                       min_samples_leaf=1, min_samples_split=2,\n",
              "                       min_weight_fraction_leaf=0.0, presort='deprecated',\n",
              "                       random_state=42, splitter='best')"
            ]
          },
          "metadata": {},
          "execution_count": 44
        }
      ]
    },
    {
      "cell_type": "code",
      "metadata": {
        "colab": {
          "base_uri": "https://localhost:8080/",
          "height": 619
        },
        "id": "16qcIW5Lg1WZ",
        "outputId": "74abe5c7-9346-42a7-cb11-75c8f9e86440"
      },
      "source": [
        "from sklearn import tree\n",
        "import graphviz\n",
        "dot_data = tree.export_graphviz(clf_dt, out_file=None, \n",
        "                         feature_names=features_name,  \n",
        "                         class_names=target_name,  \n",
        "                         filled=True, rounded=True,  \n",
        "                         special_characters=True) \n",
        "graph = graphviz.Source(dot_data)\n",
        "#graph.format = 'png'\n",
        "graph.render(os.path.join(PROJECT_ROOT_DIR, output_path, \"decision_tree\"))\n",
        "graph"
      ],
      "execution_count": 45,
      "outputs": [
        {
          "output_type": "execute_result",
          "data": {
            "text/plain": [
              "<graphviz.files.Source at 0x7f3d2ab6a390>"
            ],
            "image/svg+xml": "<?xml version=\"1.0\" encoding=\"UTF-8\" standalone=\"no\"?>\n<!DOCTYPE svg PUBLIC \"-//W3C//DTD SVG 1.1//EN\"\n \"http://www.w3.org/Graphics/SVG/1.1/DTD/svg11.dtd\">\n<!-- Generated by graphviz version 2.40.1 (20161225.0304)\n -->\n<!-- Title: Tree Pages: 1 -->\n<svg width=\"1150pt\" height=\"433pt\"\n viewBox=\"0.00 0.00 1150.00 433.00\" xmlns=\"http://www.w3.org/2000/svg\" xmlns:xlink=\"http://www.w3.org/1999/xlink\">\n<g id=\"graph0\" class=\"graph\" transform=\"scale(1 1) rotate(0) translate(4 429)\">\n<title>Tree</title>\n<polygon fill=\"#ffffff\" stroke=\"transparent\" points=\"-4,4 -4,-429 1146,-429 1146,4 -4,4\"/>\n<!-- 0 -->\n<g id=\"node1\" class=\"node\">\n<title>0</title>\n<path fill=\"#e78946\" stroke=\"#000000\" d=\"M598.5,-425C598.5,-425 475.5,-425 475.5,-425 469.5,-425 463.5,-419 463.5,-413 463.5,-413 463.5,-354 463.5,-354 463.5,-348 469.5,-342 475.5,-342 475.5,-342 598.5,-342 598.5,-342 604.5,-342 610.5,-348 610.5,-354 610.5,-354 610.5,-413 610.5,-413 610.5,-419 604.5,-425 598.5,-425\"/>\n<text text-anchor=\"start\" x=\"471.5\" y=\"-409.8\" font-family=\"Helvetica,sans-Serif\" font-size=\"14.00\" fill=\"#000000\">PPERSAUT ≤ 0.688</text>\n<text text-anchor=\"start\" x=\"499\" y=\"-394.8\" font-family=\"Helvetica,sans-Serif\" font-size=\"14.00\" fill=\"#000000\">gini = 0.112</text>\n<text text-anchor=\"start\" x=\"485\" y=\"-379.8\" font-family=\"Helvetica,sans-Serif\" font-size=\"14.00\" fill=\"#000000\">samples = 5822</text>\n<text text-anchor=\"start\" x=\"475\" y=\"-364.8\" font-family=\"Helvetica,sans-Serif\" font-size=\"14.00\" fill=\"#000000\">value = [5474, 348]</text>\n<text text-anchor=\"start\" x=\"485\" y=\"-349.8\" font-family=\"Helvetica,sans-Serif\" font-size=\"14.00\" fill=\"#000000\">class = NO_INS</text>\n</g>\n<!-- 1 -->\n<g id=\"node2\" class=\"node\">\n<title>1</title>\n<path fill=\"#e6843e\" stroke=\"#000000\" d=\"M514.5,-306C514.5,-306 399.5,-306 399.5,-306 393.5,-306 387.5,-300 387.5,-294 387.5,-294 387.5,-235 387.5,-235 387.5,-229 393.5,-223 399.5,-223 399.5,-223 514.5,-223 514.5,-223 520.5,-223 526.5,-229 526.5,-235 526.5,-235 526.5,-294 526.5,-294 526.5,-300 520.5,-306 514.5,-306\"/>\n<text text-anchor=\"start\" x=\"395.5\" y=\"-290.8\" font-family=\"Helvetica,sans-Serif\" font-size=\"14.00\" fill=\"#000000\">PPLEZIER ≤ 0.417</text>\n<text text-anchor=\"start\" x=\"419\" y=\"-275.8\" font-family=\"Helvetica,sans-Serif\" font-size=\"14.00\" fill=\"#000000\">gini = 0.048</text>\n<text text-anchor=\"start\" x=\"405\" y=\"-260.8\" font-family=\"Helvetica,sans-Serif\" font-size=\"14.00\" fill=\"#000000\">samples = 3459</text>\n<text text-anchor=\"start\" x=\"399\" y=\"-245.8\" font-family=\"Helvetica,sans-Serif\" font-size=\"14.00\" fill=\"#000000\">value = [3373, 86]</text>\n<text text-anchor=\"start\" x=\"405\" y=\"-230.8\" font-family=\"Helvetica,sans-Serif\" font-size=\"14.00\" fill=\"#000000\">class = NO_INS</text>\n</g>\n<!-- 0&#45;&gt;1 -->\n<g id=\"edge1\" class=\"edge\">\n<title>0&#45;&gt;1</title>\n<path fill=\"none\" stroke=\"#000000\" d=\"M509.0199,-341.8796C503.1469,-333.1434 496.8927,-323.8404 490.8321,-314.8253\"/>\n<polygon fill=\"#000000\" stroke=\"#000000\" points=\"493.5834,-312.6444 485.0995,-306.2981 487.7741,-316.5498 493.5834,-312.6444\"/>\n<text text-anchor=\"middle\" x=\"480.2915\" y=\"-327.1314\" font-family=\"Helvetica,sans-Serif\" font-size=\"14.00\" fill=\"#000000\">True</text>\n</g>\n<!-- 8 -->\n<g id=\"node9\" class=\"node\">\n<title>8</title>\n<path fill=\"#e89152\" stroke=\"#000000\" d=\"M728,-306C728,-306 612,-306 612,-306 606,-306 600,-300 600,-294 600,-294 600,-235 600,-235 600,-229 606,-223 612,-223 612,-223 728,-223 728,-223 734,-223 740,-229 740,-235 740,-235 740,-294 740,-294 740,-300 734,-306 728,-306\"/>\n<text text-anchor=\"start\" x=\"613.5\" y=\"-290.8\" font-family=\"Helvetica,sans-Serif\" font-size=\"14.00\" fill=\"#000000\">PBRAND ≤ 0.312</text>\n<text text-anchor=\"start\" x=\"632\" y=\"-275.8\" font-family=\"Helvetica,sans-Serif\" font-size=\"14.00\" fill=\"#000000\">gini = 0.197</text>\n<text text-anchor=\"start\" x=\"618\" y=\"-260.8\" font-family=\"Helvetica,sans-Serif\" font-size=\"14.00\" fill=\"#000000\">samples = 2363</text>\n<text text-anchor=\"start\" x=\"608\" y=\"-245.8\" font-family=\"Helvetica,sans-Serif\" font-size=\"14.00\" fill=\"#000000\">value = [2101, 262]</text>\n<text text-anchor=\"start\" x=\"618\" y=\"-230.8\" font-family=\"Helvetica,sans-Serif\" font-size=\"14.00\" fill=\"#000000\">class = NO_INS</text>\n</g>\n<!-- 0&#45;&gt;8 -->\n<g id=\"edge8\" class=\"edge\">\n<title>0&#45;&gt;8</title>\n<path fill=\"none\" stroke=\"#000000\" d=\"M583.5169,-341.8796C593.8848,-332.6031 604.9671,-322.6874 615.6199,-313.1559\"/>\n<polygon fill=\"#000000\" stroke=\"#000000\" points=\"618.1659,-315.5744 623.2845,-306.2981 613.4983,-310.3577 618.1659,-315.5744\"/>\n<text text-anchor=\"middle\" x=\"621.8978\" y=\"-327.5596\" font-family=\"Helvetica,sans-Serif\" font-size=\"14.00\" fill=\"#000000\">False</text>\n</g>\n<!-- 2 -->\n<g id=\"node3\" class=\"node\">\n<title>2</title>\n<path fill=\"#e6843e\" stroke=\"#000000\" d=\"M269.5,-187C269.5,-187 150.5,-187 150.5,-187 144.5,-187 138.5,-181 138.5,-175 138.5,-175 138.5,-116 138.5,-116 138.5,-110 144.5,-104 150.5,-104 150.5,-104 269.5,-104 269.5,-104 275.5,-104 281.5,-110 281.5,-116 281.5,-116 281.5,-175 281.5,-175 281.5,-181 275.5,-187 269.5,-187\"/>\n<text text-anchor=\"start\" x=\"146.5\" y=\"-171.8\" font-family=\"Helvetica,sans-Serif\" font-size=\"14.00\" fill=\"#000000\">PWAOREG ≤ 0.786</text>\n<text text-anchor=\"start\" x=\"172\" y=\"-156.8\" font-family=\"Helvetica,sans-Serif\" font-size=\"14.00\" fill=\"#000000\">gini = 0.046</text>\n<text text-anchor=\"start\" x=\"158\" y=\"-141.8\" font-family=\"Helvetica,sans-Serif\" font-size=\"14.00\" fill=\"#000000\">samples = 3448</text>\n<text text-anchor=\"start\" x=\"152\" y=\"-126.8\" font-family=\"Helvetica,sans-Serif\" font-size=\"14.00\" fill=\"#000000\">value = [3366, 82]</text>\n<text text-anchor=\"start\" x=\"158\" y=\"-111.8\" font-family=\"Helvetica,sans-Serif\" font-size=\"14.00\" fill=\"#000000\">class = NO_INS</text>\n</g>\n<!-- 1&#45;&gt;2 -->\n<g id=\"edge2\" class=\"edge\">\n<title>1&#45;&gt;2</title>\n<path fill=\"none\" stroke=\"#000000\" d=\"M387.2101,-230.8765C357.2169,-216.4264 321.9747,-199.4473 290.8519,-184.4529\"/>\n<polygon fill=\"#000000\" stroke=\"#000000\" points=\"292.2928,-181.2622 281.7647,-180.0749 289.2545,-187.5684 292.2928,-181.2622\"/>\n</g>\n<!-- 5 -->\n<g id=\"node6\" class=\"node\">\n<title>5</title>\n<path fill=\"#f4c9aa\" stroke=\"#000000\" d=\"M518.5,-187C518.5,-187 395.5,-187 395.5,-187 389.5,-187 383.5,-181 383.5,-175 383.5,-175 383.5,-116 383.5,-116 383.5,-110 389.5,-104 395.5,-104 395.5,-104 518.5,-104 518.5,-104 524.5,-104 530.5,-110 530.5,-116 530.5,-116 530.5,-175 530.5,-175 530.5,-181 524.5,-187 518.5,-187\"/>\n<text text-anchor=\"start\" x=\"391.5\" y=\"-171.8\" font-family=\"Helvetica,sans-Serif\" font-size=\"14.00\" fill=\"#000000\">MBERMIDD ≤ 0.278</text>\n<text text-anchor=\"start\" x=\"419\" y=\"-156.8\" font-family=\"Helvetica,sans-Serif\" font-size=\"14.00\" fill=\"#000000\">gini = 0.463</text>\n<text text-anchor=\"start\" x=\"413\" y=\"-141.8\" font-family=\"Helvetica,sans-Serif\" font-size=\"14.00\" fill=\"#000000\">samples = 11</text>\n<text text-anchor=\"start\" x=\"415.5\" y=\"-126.8\" font-family=\"Helvetica,sans-Serif\" font-size=\"14.00\" fill=\"#000000\">value = [7, 4]</text>\n<text text-anchor=\"start\" x=\"405\" y=\"-111.8\" font-family=\"Helvetica,sans-Serif\" font-size=\"14.00\" fill=\"#000000\">class = NO_INS</text>\n</g>\n<!-- 1&#45;&gt;5 -->\n<g id=\"edge5\" class=\"edge\">\n<title>1&#45;&gt;5</title>\n<path fill=\"none\" stroke=\"#000000\" d=\"M457,-222.8796C457,-214.6838 457,-205.9891 457,-197.5013\"/>\n<polygon fill=\"#000000\" stroke=\"#000000\" points=\"460.5001,-197.298 457,-187.2981 453.5001,-197.2981 460.5001,-197.298\"/>\n</g>\n<!-- 3 -->\n<g id=\"node4\" class=\"node\">\n<title>3</title>\n<path fill=\"#e6843e\" stroke=\"#000000\" d=\"M120,-68C120,-68 12,-68 12,-68 6,-68 0,-62 0,-56 0,-56 0,-12 0,-12 0,-6 6,0 12,0 12,0 120,0 120,0 126,0 132,-6 132,-12 132,-12 132,-56 132,-56 132,-62 126,-68 120,-68\"/>\n<text text-anchor=\"start\" x=\"28\" y=\"-52.8\" font-family=\"Helvetica,sans-Serif\" font-size=\"14.00\" fill=\"#000000\">gini = 0.045</text>\n<text text-anchor=\"start\" x=\"14\" y=\"-37.8\" font-family=\"Helvetica,sans-Serif\" font-size=\"14.00\" fill=\"#000000\">samples = 3436</text>\n<text text-anchor=\"start\" x=\"8\" y=\"-22.8\" font-family=\"Helvetica,sans-Serif\" font-size=\"14.00\" fill=\"#000000\">value = [3357, 79]</text>\n<text text-anchor=\"start\" x=\"14\" y=\"-7.8\" font-family=\"Helvetica,sans-Serif\" font-size=\"14.00\" fill=\"#000000\">class = NO_INS</text>\n</g>\n<!-- 2&#45;&gt;3 -->\n<g id=\"edge3\" class=\"edge\">\n<title>2&#45;&gt;3</title>\n<path fill=\"none\" stroke=\"#000000\" d=\"M156.3797,-103.9815C143.9167,-94.3313 130.6662,-84.0714 118.2627,-74.4673\"/>\n<polygon fill=\"#000000\" stroke=\"#000000\" points=\"120.3005,-71.6186 110.2508,-68.2637 116.0149,-77.1534 120.3005,-71.6186\"/>\n</g>\n<!-- 4 -->\n<g id=\"node5\" class=\"node\">\n<title>4</title>\n<path fill=\"#eeab7b\" stroke=\"#000000\" d=\"M258,-68C258,-68 162,-68 162,-68 156,-68 150,-62 150,-56 150,-56 150,-12 150,-12 150,-6 156,0 162,0 162,0 258,0 258,0 264,0 270,-6 270,-12 270,-12 270,-56 270,-56 270,-62 264,-68 258,-68\"/>\n<text text-anchor=\"start\" x=\"172\" y=\"-52.8\" font-family=\"Helvetica,sans-Serif\" font-size=\"14.00\" fill=\"#000000\">gini = 0.375</text>\n<text text-anchor=\"start\" x=\"166\" y=\"-37.8\" font-family=\"Helvetica,sans-Serif\" font-size=\"14.00\" fill=\"#000000\">samples = 12</text>\n<text text-anchor=\"start\" x=\"168.5\" y=\"-22.8\" font-family=\"Helvetica,sans-Serif\" font-size=\"14.00\" fill=\"#000000\">value = [9, 3]</text>\n<text text-anchor=\"start\" x=\"158\" y=\"-7.8\" font-family=\"Helvetica,sans-Serif\" font-size=\"14.00\" fill=\"#000000\">class = NO_INS</text>\n</g>\n<!-- 2&#45;&gt;4 -->\n<g id=\"edge4\" class=\"edge\">\n<title>2&#45;&gt;4</title>\n<path fill=\"none\" stroke=\"#000000\" d=\"M210,-103.9815C210,-95.618 210,-86.7965 210,-78.3409\"/>\n<polygon fill=\"#000000\" stroke=\"#000000\" points=\"213.5001,-78.2636 210,-68.2637 206.5001,-78.2637 213.5001,-78.2636\"/>\n</g>\n<!-- 6 -->\n<g id=\"node7\" class=\"node\">\n<title>6</title>\n<path fill=\"#e58139\" stroke=\"#000000\" d=\"M396,-68C396,-68 300,-68 300,-68 294,-68 288,-62 288,-56 288,-56 288,-12 288,-12 288,-6 294,0 300,0 300,0 396,0 396,0 402,0 408,-6 408,-12 408,-12 408,-56 408,-56 408,-62 402,-68 396,-68\"/>\n<text text-anchor=\"start\" x=\"318.5\" y=\"-52.8\" font-family=\"Helvetica,sans-Serif\" font-size=\"14.00\" fill=\"#000000\">gini = 0.0</text>\n<text text-anchor=\"start\" x=\"308.5\" y=\"-37.8\" font-family=\"Helvetica,sans-Serif\" font-size=\"14.00\" fill=\"#000000\">samples = 5</text>\n<text text-anchor=\"start\" x=\"306.5\" y=\"-22.8\" font-family=\"Helvetica,sans-Serif\" font-size=\"14.00\" fill=\"#000000\">value = [5, 0]</text>\n<text text-anchor=\"start\" x=\"296\" y=\"-7.8\" font-family=\"Helvetica,sans-Serif\" font-size=\"14.00\" fill=\"#000000\">class = NO_INS</text>\n</g>\n<!-- 5&#45;&gt;6 -->\n<g id=\"edge6\" class=\"edge\">\n<title>5&#45;&gt;6</title>\n<path fill=\"none\" stroke=\"#000000\" d=\"M416.4124,-103.9815C407.338,-94.6989 397.7121,-84.8522 388.6357,-75.5677\"/>\n<polygon fill=\"#000000\" stroke=\"#000000\" points=\"390.9887,-72.9678 381.4954,-68.2637 385.9831,-77.8611 390.9887,-72.9678\"/>\n</g>\n<!-- 7 -->\n<g id=\"node8\" class=\"node\">\n<title>7</title>\n<path fill=\"#9ccef2\" stroke=\"#000000\" d=\"M542,-68C542,-68 438,-68 438,-68 432,-68 426,-62 426,-56 426,-56 426,-12 426,-12 426,-6 432,0 438,0 438,0 542,0 542,0 548,0 554,-6 554,-12 554,-12 554,-56 554,-56 554,-62 548,-68 542,-68\"/>\n<text text-anchor=\"start\" x=\"452\" y=\"-52.8\" font-family=\"Helvetica,sans-Serif\" font-size=\"14.00\" fill=\"#000000\">gini = 0.444</text>\n<text text-anchor=\"start\" x=\"450.5\" y=\"-37.8\" font-family=\"Helvetica,sans-Serif\" font-size=\"14.00\" fill=\"#000000\">samples = 6</text>\n<text text-anchor=\"start\" x=\"448.5\" y=\"-22.8\" font-family=\"Helvetica,sans-Serif\" font-size=\"14.00\" fill=\"#000000\">value = [2, 4]</text>\n<text text-anchor=\"start\" x=\"434\" y=\"-7.8\" font-family=\"Helvetica,sans-Serif\" font-size=\"14.00\" fill=\"#000000\">class = HAS_INS</text>\n</g>\n<!-- 5&#45;&gt;7 -->\n<g id=\"edge7\" class=\"edge\">\n<title>5&#45;&gt;7</title>\n<path fill=\"none\" stroke=\"#000000\" d=\"M469.288,-103.9815C471.7905,-95.5261 474.4315,-86.6026 476.9591,-78.0623\"/>\n<polygon fill=\"#000000\" stroke=\"#000000\" points=\"480.3773,-78.8458 479.8592,-68.2637 473.6651,-76.8592 480.3773,-78.8458\"/>\n</g>\n<!-- 9 -->\n<g id=\"node10\" class=\"node\">\n<title>9</title>\n<path fill=\"#e78a47\" stroke=\"#000000\" d=\"M727.5,-187C727.5,-187 612.5,-187 612.5,-187 606.5,-187 600.5,-181 600.5,-175 600.5,-175 600.5,-116 600.5,-116 600.5,-110 606.5,-104 612.5,-104 612.5,-104 727.5,-104 727.5,-104 733.5,-104 739.5,-110 739.5,-116 739.5,-116 739.5,-175 739.5,-175 739.5,-181 733.5,-187 727.5,-187\"/>\n<text text-anchor=\"start\" x=\"608.5\" y=\"-171.8\" font-family=\"Helvetica,sans-Serif\" font-size=\"14.00\" fill=\"#000000\">PPLEZIER ≤ 0.083</text>\n<text text-anchor=\"start\" x=\"632\" y=\"-156.8\" font-family=\"Helvetica,sans-Serif\" font-size=\"14.00\" fill=\"#000000\">gini = 0.122</text>\n<text text-anchor=\"start\" x=\"618\" y=\"-141.8\" font-family=\"Helvetica,sans-Serif\" font-size=\"14.00\" fill=\"#000000\">samples = 1151</text>\n<text text-anchor=\"start\" x=\"612\" y=\"-126.8\" font-family=\"Helvetica,sans-Serif\" font-size=\"14.00\" fill=\"#000000\">value = [1076, 75]</text>\n<text text-anchor=\"start\" x=\"618\" y=\"-111.8\" font-family=\"Helvetica,sans-Serif\" font-size=\"14.00\" fill=\"#000000\">class = NO_INS</text>\n</g>\n<!-- 8&#45;&gt;9 -->\n<g id=\"edge9\" class=\"edge\">\n<title>8&#45;&gt;9</title>\n<path fill=\"none\" stroke=\"#000000\" d=\"M670,-222.8796C670,-214.6838 670,-205.9891 670,-197.5013\"/>\n<polygon fill=\"#000000\" stroke=\"#000000\" points=\"673.5001,-197.298 670,-187.2981 666.5001,-197.2981 673.5001,-197.298\"/>\n</g>\n<!-- 12 -->\n<g id=\"node13\" class=\"node\">\n<title>12</title>\n<path fill=\"#ea985d\" stroke=\"#000000\" d=\"M992.5,-187C992.5,-187 867.5,-187 867.5,-187 861.5,-187 855.5,-181 855.5,-175 855.5,-175 855.5,-116 855.5,-116 855.5,-110 861.5,-104 867.5,-104 867.5,-104 992.5,-104 992.5,-104 998.5,-104 1004.5,-110 1004.5,-116 1004.5,-116 1004.5,-175 1004.5,-175 1004.5,-181 998.5,-187 992.5,-187\"/>\n<text text-anchor=\"start\" x=\"863.5\" y=\"-171.8\" font-family=\"Helvetica,sans-Serif\" font-size=\"14.00\" fill=\"#000000\">MOPLLAAG ≤ 0.278</text>\n<text text-anchor=\"start\" x=\"892\" y=\"-156.8\" font-family=\"Helvetica,sans-Serif\" font-size=\"14.00\" fill=\"#000000\">gini = 0.261</text>\n<text text-anchor=\"start\" x=\"878\" y=\"-141.8\" font-family=\"Helvetica,sans-Serif\" font-size=\"14.00\" fill=\"#000000\">samples = 1212</text>\n<text text-anchor=\"start\" x=\"868\" y=\"-126.8\" font-family=\"Helvetica,sans-Serif\" font-size=\"14.00\" fill=\"#000000\">value = [1025, 187]</text>\n<text text-anchor=\"start\" x=\"878\" y=\"-111.8\" font-family=\"Helvetica,sans-Serif\" font-size=\"14.00\" fill=\"#000000\">class = NO_INS</text>\n</g>\n<!-- 8&#45;&gt;12 -->\n<g id=\"edge12\" class=\"edge\">\n<title>8&#45;&gt;12</title>\n<path fill=\"none\" stroke=\"#000000\" d=\"M740.0172,-232.4536C772.6002,-217.5407 811.622,-199.6807 845.8009,-184.0373\"/>\n<polygon fill=\"#000000\" stroke=\"#000000\" points=\"847.667,-187.0324 855.3033,-179.6881 844.7538,-180.6674 847.667,-187.0324\"/>\n</g>\n<!-- 10 -->\n<g id=\"node11\" class=\"node\">\n<title>10</title>\n<path fill=\"#e78946\" stroke=\"#000000\" d=\"M692,-68C692,-68 584,-68 584,-68 578,-68 572,-62 572,-56 572,-56 572,-12 572,-12 572,-6 578,0 584,0 584,0 692,0 692,0 698,0 704,-6 704,-12 704,-12 704,-56 704,-56 704,-62 698,-68 692,-68\"/>\n<text text-anchor=\"start\" x=\"600\" y=\"-52.8\" font-family=\"Helvetica,sans-Serif\" font-size=\"14.00\" fill=\"#000000\">gini = 0.113</text>\n<text text-anchor=\"start\" x=\"586\" y=\"-37.8\" font-family=\"Helvetica,sans-Serif\" font-size=\"14.00\" fill=\"#000000\">samples = 1143</text>\n<text text-anchor=\"start\" x=\"580\" y=\"-22.8\" font-family=\"Helvetica,sans-Serif\" font-size=\"14.00\" fill=\"#000000\">value = [1074, 69]</text>\n<text text-anchor=\"start\" x=\"586\" y=\"-7.8\" font-family=\"Helvetica,sans-Serif\" font-size=\"14.00\" fill=\"#000000\">class = NO_INS</text>\n</g>\n<!-- 9&#45;&gt;10 -->\n<g id=\"edge10\" class=\"edge\">\n<title>9&#45;&gt;10</title>\n<path fill=\"none\" stroke=\"#000000\" d=\"M658.0844,-103.9815C655.6577,-95.5261 653.0967,-86.6026 650.6457,-78.0623\"/>\n<polygon fill=\"#000000\" stroke=\"#000000\" points=\"653.9564,-76.9101 647.8335,-68.2637 647.228,-78.8412 653.9564,-76.9101\"/>\n</g>\n<!-- 11 -->\n<g id=\"node12\" class=\"node\">\n<title>11</title>\n<path fill=\"#7bbeee\" stroke=\"#000000\" d=\"M838,-68C838,-68 734,-68 734,-68 728,-68 722,-62 722,-56 722,-56 722,-12 722,-12 722,-6 728,0 734,0 734,0 838,0 838,0 844,0 850,-6 850,-12 850,-12 850,-56 850,-56 850,-62 844,-68 838,-68\"/>\n<text text-anchor=\"start\" x=\"748\" y=\"-52.8\" font-family=\"Helvetica,sans-Serif\" font-size=\"14.00\" fill=\"#000000\">gini = 0.375</text>\n<text text-anchor=\"start\" x=\"746.5\" y=\"-37.8\" font-family=\"Helvetica,sans-Serif\" font-size=\"14.00\" fill=\"#000000\">samples = 8</text>\n<text text-anchor=\"start\" x=\"744.5\" y=\"-22.8\" font-family=\"Helvetica,sans-Serif\" font-size=\"14.00\" fill=\"#000000\">value = [2, 6]</text>\n<text text-anchor=\"start\" x=\"730\" y=\"-7.8\" font-family=\"Helvetica,sans-Serif\" font-size=\"14.00\" fill=\"#000000\">class = HAS_INS</text>\n</g>\n<!-- 9&#45;&gt;11 -->\n<g id=\"edge11\" class=\"edge\">\n<title>9&#45;&gt;11</title>\n<path fill=\"none\" stroke=\"#000000\" d=\"M713.1941,-103.9815C722.9469,-94.607 733.2983,-84.6572 743.0414,-75.2921\"/>\n<polygon fill=\"#000000\" stroke=\"#000000\" points=\"745.5694,-77.7169 750.3535,-68.2637 740.7185,-72.6702 745.5694,-77.7169\"/>\n</g>\n<!-- 13 -->\n<g id=\"node14\" class=\"node\">\n<title>13</title>\n<path fill=\"#eeac7d\" stroke=\"#000000\" d=\"M980,-68C980,-68 880,-68 880,-68 874,-68 868,-62 868,-56 868,-56 868,-12 868,-12 868,-6 874,0 880,0 880,0 980,0 980,0 986,0 992,-6 992,-12 992,-12 992,-56 992,-56 992,-62 986,-68 980,-68\"/>\n<text text-anchor=\"start\" x=\"892\" y=\"-52.8\" font-family=\"Helvetica,sans-Serif\" font-size=\"14.00\" fill=\"#000000\">gini = 0.379</text>\n<text text-anchor=\"start\" x=\"882\" y=\"-37.8\" font-family=\"Helvetica,sans-Serif\" font-size=\"14.00\" fill=\"#000000\">samples = 279</text>\n<text text-anchor=\"start\" x=\"876\" y=\"-22.8\" font-family=\"Helvetica,sans-Serif\" font-size=\"14.00\" fill=\"#000000\">value = [208, 71]</text>\n<text text-anchor=\"start\" x=\"878\" y=\"-7.8\" font-family=\"Helvetica,sans-Serif\" font-size=\"14.00\" fill=\"#000000\">class = NO_INS</text>\n</g>\n<!-- 12&#45;&gt;13 -->\n<g id=\"edge13\" class=\"edge\">\n<title>12&#45;&gt;13</title>\n<path fill=\"none\" stroke=\"#000000\" d=\"M930,-103.9815C930,-95.618 930,-86.7965 930,-78.3409\"/>\n<polygon fill=\"#000000\" stroke=\"#000000\" points=\"933.5001,-78.2636 930,-68.2637 926.5001,-78.2637 933.5001,-78.2636\"/>\n</g>\n<!-- 14 -->\n<g id=\"node15\" class=\"node\">\n<title>14</title>\n<path fill=\"#e99355\" stroke=\"#000000\" d=\"M1130,-68C1130,-68 1022,-68 1022,-68 1016,-68 1010,-62 1010,-56 1010,-56 1010,-12 1010,-12 1010,-6 1016,0 1022,0 1022,0 1130,0 1130,0 1136,0 1142,-6 1142,-12 1142,-12 1142,-56 1142,-56 1142,-62 1136,-68 1130,-68\"/>\n<text text-anchor=\"start\" x=\"1038\" y=\"-52.8\" font-family=\"Helvetica,sans-Serif\" font-size=\"14.00\" fill=\"#000000\">gini = 0.218</text>\n<text text-anchor=\"start\" x=\"1028\" y=\"-37.8\" font-family=\"Helvetica,sans-Serif\" font-size=\"14.00\" fill=\"#000000\">samples = 933</text>\n<text text-anchor=\"start\" x=\"1018\" y=\"-22.8\" font-family=\"Helvetica,sans-Serif\" font-size=\"14.00\" fill=\"#000000\">value = [817, 116]</text>\n<text text-anchor=\"start\" x=\"1024\" y=\"-7.8\" font-family=\"Helvetica,sans-Serif\" font-size=\"14.00\" fill=\"#000000\">class = NO_INS</text>\n</g>\n<!-- 12&#45;&gt;14 -->\n<g id=\"edge14\" class=\"edge\">\n<title>12&#45;&gt;14</title>\n<path fill=\"none\" stroke=\"#000000\" d=\"M984.365,-103.9815C997.0011,-94.3313 1010.4356,-84.0714 1023.0115,-74.4673\"/>\n<polygon fill=\"#000000\" stroke=\"#000000\" points=\"1025.3114,-77.1148 1031.1346,-68.2637 1021.0628,-71.5515 1025.3114,-77.1148\"/>\n</g>\n</g>\n</svg>\n"
          },
          "metadata": {},
          "execution_count": 45
        }
      ]
    },
    {
      "cell_type": "code",
      "metadata": {
        "colab": {
          "base_uri": "https://localhost:8080/"
        },
        "id": "UU30xLgBg1T5",
        "outputId": "6ebbe6ee-838e-4e71-cfe6-95c08a7414ba"
      },
      "source": [
        "print(X_train.shape)\n",
        "print(y_train.shape)"
      ],
      "execution_count": 46,
      "outputs": [
        {
          "output_type": "stream",
          "name": "stdout",
          "text": [
            "(5822, 83)\n",
            "(5822,)\n"
          ]
        }
      ]
    },
    {
      "cell_type": "code",
      "metadata": {
        "id": "sqkFUz5Gg1R5"
      },
      "source": [
        "from sklearn.model_selection import cross_val_score\n",
        "score_dt = cross_val_score(clf_dt, X_train, y_train, cv=10, scoring=\"roc_auc\", n_jobs=1)"
      ],
      "execution_count": 47,
      "outputs": []
    },
    {
      "cell_type": "code",
      "metadata": {
        "id": "1PH98mm0hy5W"
      },
      "source": [
        "from sklearn.model_selection import cross_val_predict\n",
        "y_pred_dt = cross_val_predict(clf_dt, X_train, y_train, cv=10, n_jobs=-1)\n",
        "y_proba_dt = cross_val_predict(clf_dt, X_train, y_train, cv=10, method='predict_proba', n_jobs=-1)"
      ],
      "execution_count": 48,
      "outputs": []
    },
    {
      "cell_type": "code",
      "metadata": {
        "colab": {
          "base_uri": "https://localhost:8080/"
        },
        "id": "ecLGMvZKhy19",
        "outputId": "75778b01-ae67-43ac-cdb6-c96bfa227456"
      },
      "source": [
        "print(y_pred_dt)\n",
        "print(y_proba_dt)\n",
        "print(score_dt)"
      ],
      "execution_count": 49,
      "outputs": [
        {
          "output_type": "stream",
          "name": "stdout",
          "text": [
            "[0 0 0 ... 0 0 0]\n",
            "[[0.87605295 0.12394705]\n",
            " [0.96470588 0.03529412]\n",
            " [0.94117647 0.05882353]\n",
            " ...\n",
            " [0.91446613 0.08553387]\n",
            " [0.91446613 0.08553387]\n",
            " [0.97551546 0.02448454]]\n",
            "[0.73534932 0.74366528 0.63933018 0.68800988 0.75301645 0.65207626\n",
            " 0.73674589 0.67662575 0.71681901 0.78662836]\n"
          ]
        }
      ]
    },
    {
      "cell_type": "code",
      "metadata": {
        "id": "jMRSfh0ihyze"
      },
      "source": [
        "df_y_proba_dt = pd.DataFrame({\n",
        "        'score': y_proba_dt[:,1],\n",
        "        'actual': y_train,\n",
        "        'pred': y_pred_dt\n",
        "    })\n",
        "df_y_proba_dt.to_csv('/content/drive/MyDrive/Google Colab/BDDA data set mid term/image new/y_proba_dt.csv')"
      ],
      "execution_count": 51,
      "outputs": []
    },
    {
      "cell_type": "code",
      "metadata": {
        "colab": {
          "base_uri": "https://localhost:8080/"
        },
        "id": "ChnpXYughyxs",
        "outputId": "b51ca10d-e964-4555-fad6-7dcfb001b94a"
      },
      "source": [
        "from sklearn.metrics import precision_recall_curve\n",
        "precisions_dt, recalls_dt, thresholds_dt = precision_recall_curve(y_train, y_proba_dt[:,1])\n",
        "print(precisions_dt)\n",
        "print(recalls_dt)\n",
        "print(thresholds_dt)"
      ],
      "execution_count": 52,
      "outputs": [
        {
          "output_type": "stream",
          "name": "stdout",
          "text": [
            "[0.05977327 0.05965274 0.06049885 0.06210162 0.0638505  0.06630525\n",
            " 0.06922904 0.07221273 0.07645341 0.08194809 0.08960573 0.09937888\n",
            " 0.10340776 0.11031579 0.11150442 0.11327762 0.11540342 0.11831863\n",
            " 0.12243767 0.12357528 0.12658228 0.1295578  0.13707452 0.14950166\n",
            " 0.15320665 0.15547264 0.16361257 0.16918429 0.17825312 0.19279661\n",
            " 0.21465969 0.21798365 0.22580645 0.23030303 0.23616236 0.23478261\n",
            " 0.2371134  0.22941176 0.23529412 0.24770642 0.28       0.29577465\n",
            " 0.28846154 0.30555556 0.36842105 0.46666667 0.42857143 0.33333333\n",
            " 0.         1.        ]\n",
            "[1.         0.99712644 0.98275862 0.97988506 0.94252874 0.9137931\n",
            " 0.88505747 0.85057471 0.82758621 0.80747126 0.79022989 0.7816092\n",
            " 0.75862069 0.75287356 0.72413793 0.70114943 0.67816092 0.65517241\n",
            " 0.63505747 0.59195402 0.54597701 0.47988506 0.42816092 0.38793103\n",
            " 0.37068966 0.3591954  0.3591954  0.32183908 0.28735632 0.26149425\n",
            " 0.23563218 0.22988506 0.22126437 0.2183908  0.18390805 0.15517241\n",
            " 0.13218391 0.11206897 0.09195402 0.07758621 0.06034483 0.06034483\n",
            " 0.04310345 0.0316092  0.02011494 0.02011494 0.00862069 0.00287356\n",
            " 0.         0.        ]\n",
            "[0.         0.00955414 0.01208651 0.02141467 0.02229402 0.02234456\n",
            " 0.02262443 0.02318094 0.0232408  0.02373212 0.02448454 0.03529412\n",
            " 0.0390625  0.057393   0.05882353 0.0589942  0.0595122  0.06072478\n",
            " 0.0724234  0.07315341 0.08553387 0.08789954 0.08926554 0.09829868\n",
            " 0.10752688 0.11891892 0.12394705 0.125      0.12677725 0.12692764\n",
            " 0.12834225 0.13068182 0.13089005 0.20781528 0.24767802 0.25\n",
            " 0.25098039 0.26122449 0.26190476 0.26530612 0.27272727 0.28994083\n",
            " 0.29651163 0.29824561 0.3        0.5        0.66666667 0.71428571\n",
            " 0.8       ]\n"
          ]
        }
      ]
    },
    {
      "cell_type": "code",
      "metadata": {
        "colab": {
          "base_uri": "https://localhost:8080/"
        },
        "id": "1Busxa10hyuq",
        "outputId": "78ebdd20-b219-4a23-b1d4-4aa3174b19cf"
      },
      "source": [
        "display_scores(score_dt)\n",
        "display_conf_matrix(y_train, y_pred_dt)\n",
        "display_perf_metrics(y_train, y_pred_dt, y_proba_dt[:,1])"
      ],
      "execution_count": 53,
      "outputs": [
        {
          "output_type": "stream",
          "name": "stdout",
          "text": [
            "Scores:                         [0.73534932 0.74366528 0.63933018 0.68800988 0.75301645 0.65207626\n",
            " 0.73674589 0.67662575 0.71681901 0.78662836]\n",
            "Mean:                          0.71\n",
            "Standard deviation:            0.04\n",
            "[[5470    4]\n",
            " [ 345    3]]\n",
            "Accuracy           94.01%\n",
            "Precision          42.86%\n",
            "Recall             0.86%\n",
            "F1                 0.02\n",
            "AUC                0.71\n",
            "Cohen Kappa        0.01\n"
          ]
        }
      ]
    },
    {
      "cell_type": "code",
      "metadata": {
        "colab": {
          "base_uri": "https://localhost:8080/"
        },
        "id": "CzYsMPvKhys5",
        "outputId": "737a659a-3205-4b9d-de94-4ad308c776df"
      },
      "source": [
        "from sklearn.metrics import classification_report\n",
        "print(classification_report(y_train, y_pred_dt, target_names=target_name))"
      ],
      "execution_count": 54,
      "outputs": [
        {
          "output_type": "stream",
          "name": "stdout",
          "text": [
            "              precision    recall  f1-score   support\n",
            "\n",
            "      NO_INS       0.94      1.00      0.97      5474\n",
            "     HAS_INS       0.43      0.01      0.02       348\n",
            "\n",
            "    accuracy                           0.94      5822\n",
            "   macro avg       0.68      0.50      0.49      5822\n",
            "weighted avg       0.91      0.94      0.91      5822\n",
            "\n"
          ]
        }
      ]
    },
    {
      "cell_type": "code",
      "metadata": {
        "colab": {
          "base_uri": "https://localhost:8080/",
          "height": 315
        },
        "id": "ZVpO-5uwhyp4",
        "outputId": "285fdc77-8a49-4de3-960e-9ff969612d04"
      },
      "source": [
        "plot_precision_vs_recall(precisions_dt, recalls_dt)\n",
        "save_fig(\"precision_vs_recall_plot\")\n",
        "plt.show()"
      ],
      "execution_count": 55,
      "outputs": [
        {
          "output_type": "stream",
          "name": "stdout",
          "text": [
            "Saving figure precision_vs_recall_plot\n"
          ]
        },
        {
          "output_type": "display_data",
          "data": {
            "image/png": "[encoded data removed]",
            "text/plain": [
              "<Figure size 432x288 with 1 Axes>"
            ]
          },
          "metadata": {
            "needs_background": "light"
          }
        }
      ]
    },
    {
      "cell_type": "code",
      "metadata": {
        "colab": {
          "base_uri": "https://localhost:8080/",
          "height": 315
        },
        "id": "uck7eCiXhynu",
        "outputId": "58ca7ba0-659b-43e4-c0aa-95e486231d21"
      },
      "source": [
        "from sklearn.metrics import roc_curve\n",
        "fpr, tpr, thresholds = roc_curve(y_train, y_proba_dt[:,1])\n",
        "plot_roc_curve(fpr, tpr, \"Decision tree\")\n",
        "save_fig(\"roc_curve_plot\")\n",
        "plt.show()"
      ],
      "execution_count": 56,
      "outputs": [
        {
          "output_type": "stream",
          "name": "stdout",
          "text": [
            "Saving figure roc_curve_plot\n"
          ]
        },
        {
          "output_type": "display_data",
          "data": {
            "image/png": "[encoded data removed]",
            "text/plain": [
              "<Figure size 432x288 with 1 Axes>"
            ]
          },
          "metadata": {
            "needs_background": "light"
          }
        }
      ]
    },
    {
      "cell_type": "code",
      "metadata": {
        "id": "qVfDC3ArhylZ"
      },
      "source": [
        "from sklearn.ensemble import RandomForestClassifier\n",
        "from sklearn.linear_model import LogisticRegression\n",
        "from sklearn.svm import SVC\n",
        "from sklearn.ensemble import VotingClassifier\n",
        "\n",
        "clf_log = LogisticRegression(n_jobs=-1, random_state = 42)\n",
        "clf_rf = RandomForestClassifier(n_jobs=-1, random_state = 42)\n",
        "clf_svm = SVC(kernel = 'rbf', probability = True, random_state = 42)\n",
        "\n",
        "clf_voting = VotingClassifier(\n",
        "    estimators=[('lr', clf_log), ('rf', clf_rf), ('svc', clf_svm)],\n",
        "    voting='soft')\n",
        "\n",
        "# Create a dataframe to manage the different classifiers\n",
        "clf_list_values = [ ('Decision Tree', clf_dt),\n",
        "                    ('Logistic Regression', clf_log),\n",
        "                    ('Random Forrest', clf_rf),\n",
        "                    ('SVM', clf_svm),\n",
        "                    ('Voting LR, SVM, RF', clf_voting)\n",
        "                ]\n",
        "clf_list = pd.DataFrame.from_records(clf_list_values, columns=['name', 'clf'])"
      ],
      "execution_count": 57,
      "outputs": []
    },
    {
      "cell_type": "code",
      "metadata": {
        "colab": {
          "base_uri": "https://localhost:8080/",
          "height": 1000
        },
        "id": "nwfx0lFahyjT",
        "outputId": "69445590-23f3-4755-fd9e-5e82950f0be3"
      },
      "source": [
        "from sklearn.metrics import roc_curve, auc\n",
        "from cycler import cycler\n",
        "\n",
        "print('       Models Performance       ')\n",
        "print('--------------------------------')\n",
        "\n",
        "plt.rc('lines', linewidth=1)\n",
        "plt.rc('axes', prop_cycle=(cycler('color', ['r', 'g', 'b', 'y', 'c', 'm', 'y', 'k']) +\n",
        "                           cycler('linestyle', ['-', '--', ':', '-.','-', '--', ':', '-.'])))\n",
        "\n",
        "for index, row in clf_list.iterrows():\n",
        "    name = row['name']\n",
        "    clf = row['clf']\n",
        "    clf.fit(X_train, y_train)\n",
        "    y_pred = cross_val_predict(clf, X_train, y_train, cv=10, n_jobs=-1)\n",
        "    y_proba = cross_val_predict(clf, X_train, y_train, cv=10, method='predict_proba', n_jobs=-1)\n",
        "    print(\"--- \", clf.__class__.__name__, \" ---\")\n",
        "    display_perf_metrics(y_train, y_pred, y_proba[:,1])\n",
        "    display_conf_matrix(y_train, y_pred)\n",
        "    fpr, tpr, thresholds = roc_curve(y_train, y_proba[:,1])\n",
        "    plt.plot(fpr, tpr, linewidth=1, label=name+\" (area = %0.2f)\" % auc(fpr, tpr))\n",
        "\n",
        "#plot_roc_curve(fpr, tpr, \"Decision tree\")\n",
        "plt.plot([0, 1], [0, 1], 'k--')\n",
        "plt.axis([0, 1, 0, 1])\n",
        "plt.xlabel('False Positive Rate', fontsize=16)\n",
        "plt.ylabel('True Positive Rate', fontsize=16)\n",
        "plt.legend(loc=\"lower right\", fontsize=16)\n",
        "save_fig(\"roc_curve_comparison_plot\")\n",
        "plt.show()"
      ],
      "execution_count": 58,
      "outputs": [
        {
          "output_type": "stream",
          "name": "stdout",
          "text": [
            "       Models Performance       \n",
            "--------------------------------\n",
            "---  DecisionTreeClassifier  ---\n",
            "Accuracy           94.01%\n",
            "Precision          42.86%\n",
            "Recall             0.86%\n",
            "F1                 0.02\n",
            "AUC                0.71\n",
            "Cohen Kappa        0.01\n",
            "[[5470    4]\n",
            " [ 345    3]]\n",
            "---  LogisticRegression  ---\n",
            "Accuracy           93.99%\n",
            "Precision          33.33%\n",
            "Recall             0.57%\n",
            "F1                 0.01\n",
            "AUC                0.74\n",
            "Cohen Kappa        0.01\n",
            "[[5470    4]\n",
            " [ 346    2]]\n",
            "---  RandomForestClassifier  ---\n",
            "Accuracy           92.46%\n",
            "Precision          13.60%\n",
            "Recall             4.89%\n",
            "F1                 0.07\n",
            "AUC                0.69\n",
            "Cohen Kappa        0.04\n",
            "[[5366  108]\n",
            " [ 331   17]]\n",
            "---  SVC  ---\n",
            "Accuracy           94.02%\n",
            "Precision          0.00%\n",
            "Recall             0.00%\n",
            "F1                 0.00\n",
            "AUC                0.63\n",
            "Cohen Kappa        0.00\n",
            "[[5474    0]\n",
            " [ 348    0]]\n"
          ]
        },
        {
          "output_type": "stream",
          "name": "stderr",
          "text": [
            "/usr/local/lib/python3.7/dist-packages/sklearn/metrics/_classification.py:1272: UndefinedMetricWarning: Precision is ill-defined and being set to 0.0 due to no predicted samples. Use `zero_division` parameter to control this behavior.\n",
            "  _warn_prf(average, modifier, msg_start, len(result))\n"
          ]
        },
        {
          "output_type": "stream",
          "name": "stdout",
          "text": [
            "---  VotingClassifier  ---\n",
            "Accuracy           94.01%\n",
            "Precision          0.00%\n",
            "Recall             0.00%\n",
            "F1                 0.00\n",
            "AUC                0.74\n",
            "Cohen Kappa        -0.00\n",
            "[[5473    1]\n",
            " [ 348    0]]\n",
            "Saving figure roc_curve_comparison_plot\n"
          ]
        },
        {
          "output_type": "display_data",
          "data": {
            "image/png": "[encoded data removed]",
            "text/plain": [
              "<Figure size 432x288 with 1 Axes>"
            ]
          },
          "metadata": {
            "needs_background": "light"
          }
        }
      ]
    },
    {
      "cell_type": "code",
      "metadata": {
        "colab": {
          "base_uri": "https://localhost:8080/"
        },
        "id": "lJvGIEhLhyg9",
        "outputId": "5712fe9e-48f8-4245-9b27-cfc977318c81"
      },
      "source": [
        "from sklearn.metrics import confusion_matrix\n",
        "clf_rf\n",
        "y_pred = cross_val_predict(clf_rf, X_train, y_train, cv=10, n_jobs=-1)\n",
        "cm_rf_tmp = confusion_matrix(y_train, y_pred)\n",
        "cm_rf_tmp"
      ],
      "execution_count": 59,
      "outputs": [
        {
          "output_type": "execute_result",
          "data": {
            "text/plain": [
              "array([[5366,  108],\n",
              "       [ 331,   17]])"
            ]
          },
          "metadata": {},
          "execution_count": 59
        }
      ]
    },
    {
      "cell_type": "code",
      "metadata": {
        "colab": {
          "base_uri": "https://localhost:8080/"
        },
        "id": "KMeIi1mehyef",
        "outputId": "2c4618aa-231c-48b6-9bbd-8bfc06287715"
      },
      "source": [
        "from sklearn.model_selection import GridSearchCV\n",
        "from scipy.stats import randint\n",
        "\n",
        "param_grid = [\n",
        "        {'max_depth': [5, 8, 10, 15, 20], 'max_features': [10, 20, 50, 80], 'min_samples_leaf': [0.0001, 0.001, 0.01, 0.1, 0.2]},\n",
        "        #{'max_depth': [5, 50, 100], 'max_features': [10, 50], 'min_samples_leaf': [0.0001, 0.01, 0.1, 0.2]},\n",
        "    ]\n",
        "\n",
        "grid_search_dt = GridSearchCV(clf_dt, param_grid, cv=5, scoring='roc_auc', n_jobs=-1)\n",
        "grid_search_dt.fit(X_train, y_train)\n",
        "\n",
        "print(\"AUC= \", grid_search_dt.best_score_, grid_search_dt.best_params_)\n",
        "grid_search_dt.best_estimator_"
      ],
      "execution_count": 60,
      "outputs": [
        {
          "output_type": "stream",
          "name": "stdout",
          "text": [
            "AUC=  0.7455133790225683 {'max_depth': 5, 'max_features': 80, 'min_samples_leaf': 0.001}\n"
          ]
        },
        {
          "output_type": "execute_result",
          "data": {
            "text/plain": [
              "DecisionTreeClassifier(ccp_alpha=0.0, class_weight=None, criterion='gini',\n",
              "                       max_depth=5, max_features=80, max_leaf_nodes=None,\n",
              "                       min_impurity_decrease=0.0, min_impurity_split=None,\n",
              "                       min_samples_leaf=0.001, min_samples_split=2,\n",
              "                       min_weight_fraction_leaf=0.0, presort='deprecated',\n",
              "                       random_state=42, splitter='best')"
            ]
          },
          "metadata": {},
          "execution_count": 60
        }
      ]
    },
    {
      "cell_type": "code",
      "metadata": {
        "colab": {
          "base_uri": "https://localhost:8080/"
        },
        "id": "2rhqkhQmhyb_",
        "outputId": "894ed66b-c084-43a1-acee-57b38b419240"
      },
      "source": [
        "cvres_grid = grid_search_dt.cv_results_\n",
        "for mean_score, params in zip(cvres_grid[\"mean_test_score\"], cvres_grid[\"params\"]):\n",
        "    print(\"AUC= \", mean_score, params)"
      ],
      "execution_count": 61,
      "outputs": [
        {
          "output_type": "stream",
          "name": "stdout",
          "text": [
            "AUC=  0.7028594459327779 {'max_depth': 5, 'max_features': 10, 'min_samples_leaf': 0.0001}\n",
            "AUC=  0.6949674505464646 {'max_depth': 5, 'max_features': 10, 'min_samples_leaf': 0.001}\n",
            "AUC=  0.7218184258114398 {'max_depth': 5, 'max_features': 10, 'min_samples_leaf': 0.01}\n",
            "AUC=  0.7193807070129029 {'max_depth': 5, 'max_features': 10, 'min_samples_leaf': 0.1}\n",
            "AUC=  0.6941243057663014 {'max_depth': 5, 'max_features': 10, 'min_samples_leaf': 0.2}\n",
            "AUC=  0.7143883486453746 {'max_depth': 5, 'max_features': 20, 'min_samples_leaf': 0.0001}\n",
            "AUC=  0.7225094355050248 {'max_depth': 5, 'max_features': 20, 'min_samples_leaf': 0.001}\n",
            "AUC=  0.713823755761297 {'max_depth': 5, 'max_features': 20, 'min_samples_leaf': 0.01}\n",
            "AUC=  0.7113422307725132 {'max_depth': 5, 'max_features': 20, 'min_samples_leaf': 0.1}\n",
            "AUC=  0.7180016837360528 {'max_depth': 5, 'max_features': 20, 'min_samples_leaf': 0.2}\n",
            "AUC=  0.7388012021392527 {'max_depth': 5, 'max_features': 50, 'min_samples_leaf': 0.0001}\n",
            "AUC=  0.7385795748356044 {'max_depth': 5, 'max_features': 50, 'min_samples_leaf': 0.001}\n",
            "AUC=  0.717675533203679 {'max_depth': 5, 'max_features': 50, 'min_samples_leaf': 0.01}\n",
            "AUC=  0.7315715270677667 {'max_depth': 5, 'max_features': 50, 'min_samples_leaf': 0.1}\n",
            "AUC=  0.7343556595444602 {'max_depth': 5, 'max_features': 50, 'min_samples_leaf': 0.2}\n",
            "AUC=  0.7177346074151826 {'max_depth': 5, 'max_features': 80, 'min_samples_leaf': 0.0001}\n",
            "AUC=  0.7455133790225683 {'max_depth': 5, 'max_features': 80, 'min_samples_leaf': 0.001}\n",
            "AUC=  0.7123872518776739 {'max_depth': 5, 'max_features': 80, 'min_samples_leaf': 0.01}\n",
            "AUC=  0.7386777261860216 {'max_depth': 5, 'max_features': 80, 'min_samples_leaf': 0.1}\n",
            "AUC=  0.7344893369979709 {'max_depth': 5, 'max_features': 80, 'min_samples_leaf': 0.2}\n",
            "AUC=  0.6697475510680354 {'max_depth': 8, 'max_features': 10, 'min_samples_leaf': 0.0001}\n",
            "AUC=  0.6793582561906867 {'max_depth': 8, 'max_features': 10, 'min_samples_leaf': 0.001}\n",
            "AUC=  0.6679467166438366 {'max_depth': 8, 'max_features': 10, 'min_samples_leaf': 0.01}\n",
            "AUC=  0.7193807070129029 {'max_depth': 8, 'max_features': 10, 'min_samples_leaf': 0.1}\n",
            "AUC=  0.6941243057663014 {'max_depth': 8, 'max_features': 10, 'min_samples_leaf': 0.2}\n",
            "AUC=  0.6661386679634516 {'max_depth': 8, 'max_features': 20, 'min_samples_leaf': 0.0001}\n",
            "AUC=  0.680353573941965 {'max_depth': 8, 'max_features': 20, 'min_samples_leaf': 0.001}\n",
            "AUC=  0.6730159718233069 {'max_depth': 8, 'max_features': 20, 'min_samples_leaf': 0.01}\n",
            "AUC=  0.7113422307725132 {'max_depth': 8, 'max_features': 20, 'min_samples_leaf': 0.1}\n",
            "AUC=  0.7180016837360528 {'max_depth': 8, 'max_features': 20, 'min_samples_leaf': 0.2}\n",
            "AUC=  0.6722434576283149 {'max_depth': 8, 'max_features': 50, 'min_samples_leaf': 0.0001}\n",
            "AUC=  0.6692258484913391 {'max_depth': 8, 'max_features': 50, 'min_samples_leaf': 0.001}\n",
            "AUC=  0.6912965463250194 {'max_depth': 8, 'max_features': 50, 'min_samples_leaf': 0.01}\n",
            "AUC=  0.7315715270677667 {'max_depth': 8, 'max_features': 50, 'min_samples_leaf': 0.1}\n",
            "AUC=  0.7343556595444602 {'max_depth': 8, 'max_features': 50, 'min_samples_leaf': 0.2}\n",
            "AUC=  0.6718526736743726 {'max_depth': 8, 'max_features': 80, 'min_samples_leaf': 0.0001}\n",
            "AUC=  0.6717520272504578 {'max_depth': 8, 'max_features': 80, 'min_samples_leaf': 0.001}\n",
            "AUC=  0.6906919203569567 {'max_depth': 8, 'max_features': 80, 'min_samples_leaf': 0.01}\n",
            "AUC=  0.7386777261860216 {'max_depth': 8, 'max_features': 80, 'min_samples_leaf': 0.1}\n",
            "AUC=  0.7344893369979709 {'max_depth': 8, 'max_features': 80, 'min_samples_leaf': 0.2}\n",
            "AUC=  0.630877382428789 {'max_depth': 10, 'max_features': 10, 'min_samples_leaf': 0.0001}\n",
            "AUC=  0.6583345705952844 {'max_depth': 10, 'max_features': 10, 'min_samples_leaf': 0.001}\n",
            "AUC=  0.6854675101299224 {'max_depth': 10, 'max_features': 10, 'min_samples_leaf': 0.01}\n",
            "AUC=  0.7193807070129029 {'max_depth': 10, 'max_features': 10, 'min_samples_leaf': 0.1}\n",
            "AUC=  0.6941243057663014 {'max_depth': 10, 'max_features': 10, 'min_samples_leaf': 0.2}\n",
            "AUC=  0.6410076983037285 {'max_depth': 10, 'max_features': 20, 'min_samples_leaf': 0.0001}\n",
            "AUC=  0.6412143333724104 {'max_depth': 10, 'max_features': 20, 'min_samples_leaf': 0.001}\n",
            "AUC=  0.6803356312931733 {'max_depth': 10, 'max_features': 20, 'min_samples_leaf': 0.01}\n",
            "AUC=  0.7113422307725132 {'max_depth': 10, 'max_features': 20, 'min_samples_leaf': 0.1}\n",
            "AUC=  0.7180016837360528 {'max_depth': 10, 'max_features': 20, 'min_samples_leaf': 0.2}\n",
            "AUC=  0.6616236488964858 {'max_depth': 10, 'max_features': 50, 'min_samples_leaf': 0.0001}\n",
            "AUC=  0.6319690182265582 {'max_depth': 10, 'max_features': 50, 'min_samples_leaf': 0.001}\n",
            "AUC=  0.6774478295971524 {'max_depth': 10, 'max_features': 50, 'min_samples_leaf': 0.01}\n",
            "AUC=  0.7315715270677667 {'max_depth': 10, 'max_features': 50, 'min_samples_leaf': 0.1}\n",
            "AUC=  0.7343556595444602 {'max_depth': 10, 'max_features': 50, 'min_samples_leaf': 0.2}\n",
            "AUC=  0.644303146495683 {'max_depth': 10, 'max_features': 80, 'min_samples_leaf': 0.0001}\n",
            "AUC=  0.5966739777772972 {'max_depth': 10, 'max_features': 80, 'min_samples_leaf': 0.001}\n",
            "AUC=  0.692677041429938 {'max_depth': 10, 'max_features': 80, 'min_samples_leaf': 0.01}\n",
            "AUC=  0.7386777261860216 {'max_depth': 10, 'max_features': 80, 'min_samples_leaf': 0.1}\n",
            "AUC=  0.7344893369979709 {'max_depth': 10, 'max_features': 80, 'min_samples_leaf': 0.2}\n",
            "AUC=  0.6077240196550922 {'max_depth': 15, 'max_features': 10, 'min_samples_leaf': 0.0001}\n",
            "AUC=  0.5931645615083534 {'max_depth': 15, 'max_features': 10, 'min_samples_leaf': 0.001}\n",
            "AUC=  0.6825423109522311 {'max_depth': 15, 'max_features': 10, 'min_samples_leaf': 0.01}\n",
            "AUC=  0.7193807070129029 {'max_depth': 15, 'max_features': 10, 'min_samples_leaf': 0.1}\n",
            "AUC=  0.6941243057663014 {'max_depth': 15, 'max_features': 10, 'min_samples_leaf': 0.2}\n",
            "AUC=  0.5954158577099672 {'max_depth': 15, 'max_features': 20, 'min_samples_leaf': 0.0001}\n",
            "AUC=  0.598759281983644 {'max_depth': 15, 'max_features': 20, 'min_samples_leaf': 0.001}\n",
            "AUC=  0.6803356312931733 {'max_depth': 15, 'max_features': 20, 'min_samples_leaf': 0.01}\n",
            "AUC=  0.7113422307725132 {'max_depth': 15, 'max_features': 20, 'min_samples_leaf': 0.1}\n",
            "AUC=  0.7180016837360528 {'max_depth': 15, 'max_features': 20, 'min_samples_leaf': 0.2}\n",
            "AUC=  0.5950823041727655 {'max_depth': 15, 'max_features': 50, 'min_samples_leaf': 0.0001}\n",
            "AUC=  0.5992835569065402 {'max_depth': 15, 'max_features': 50, 'min_samples_leaf': 0.001}\n",
            "AUC=  0.6778470468182874 {'max_depth': 15, 'max_features': 50, 'min_samples_leaf': 0.01}\n",
            "AUC=  0.7315715270677667 {'max_depth': 15, 'max_features': 50, 'min_samples_leaf': 0.1}\n",
            "AUC=  0.7343556595444602 {'max_depth': 15, 'max_features': 50, 'min_samples_leaf': 0.2}\n",
            "AUC=  0.5656696394966618 {'max_depth': 15, 'max_features': 80, 'min_samples_leaf': 0.0001}\n",
            "AUC=  0.598926397621819 {'max_depth': 15, 'max_features': 80, 'min_samples_leaf': 0.001}\n",
            "AUC=  0.6910055867420299 {'max_depth': 15, 'max_features': 80, 'min_samples_leaf': 0.01}\n",
            "AUC=  0.7386777261860216 {'max_depth': 15, 'max_features': 80, 'min_samples_leaf': 0.1}\n",
            "AUC=  0.7344893369979709 {'max_depth': 15, 'max_features': 80, 'min_samples_leaf': 0.2}\n",
            "AUC=  0.5708613084451286 {'max_depth': 20, 'max_features': 10, 'min_samples_leaf': 0.0001}\n",
            "AUC=  0.5838489511038703 {'max_depth': 20, 'max_features': 10, 'min_samples_leaf': 0.001}\n",
            "AUC=  0.6825423109522311 {'max_depth': 20, 'max_features': 10, 'min_samples_leaf': 0.01}\n",
            "AUC=  0.7193807070129029 {'max_depth': 20, 'max_features': 10, 'min_samples_leaf': 0.1}\n",
            "AUC=  0.6941243057663014 {'max_depth': 20, 'max_features': 10, 'min_samples_leaf': 0.2}\n",
            "AUC=  0.5708276879584157 {'max_depth': 20, 'max_features': 20, 'min_samples_leaf': 0.0001}\n",
            "AUC=  0.5687030240864595 {'max_depth': 20, 'max_features': 20, 'min_samples_leaf': 0.001}\n",
            "AUC=  0.6803356312931733 {'max_depth': 20, 'max_features': 20, 'min_samples_leaf': 0.01}\n",
            "AUC=  0.7113422307725132 {'max_depth': 20, 'max_features': 20, 'min_samples_leaf': 0.1}\n",
            "AUC=  0.7180016837360528 {'max_depth': 20, 'max_features': 20, 'min_samples_leaf': 0.2}\n",
            "AUC=  0.544603571336539 {'max_depth': 20, 'max_features': 50, 'min_samples_leaf': 0.0001}\n",
            "AUC=  0.5924473975889983 {'max_depth': 20, 'max_features': 50, 'min_samples_leaf': 0.001}\n",
            "AUC=  0.6778470468182874 {'max_depth': 20, 'max_features': 50, 'min_samples_leaf': 0.01}\n",
            "AUC=  0.7315715270677667 {'max_depth': 20, 'max_features': 50, 'min_samples_leaf': 0.1}\n",
            "AUC=  0.7343556595444602 {'max_depth': 20, 'max_features': 50, 'min_samples_leaf': 0.2}\n",
            "AUC=  0.5449417992932217 {'max_depth': 20, 'max_features': 80, 'min_samples_leaf': 0.0001}\n",
            "AUC=  0.5936848388003468 {'max_depth': 20, 'max_features': 80, 'min_samples_leaf': 0.001}\n",
            "AUC=  0.6910055867420299 {'max_depth': 20, 'max_features': 80, 'min_samples_leaf': 0.01}\n",
            "AUC=  0.7386777261860216 {'max_depth': 20, 'max_features': 80, 'min_samples_leaf': 0.1}\n",
            "AUC=  0.7344893369979709 {'max_depth': 20, 'max_features': 80, 'min_samples_leaf': 0.2}\n"
          ]
        }
      ]
    },
    {
      "cell_type": "code",
      "metadata": {
        "colab": {
          "base_uri": "https://localhost:8080/"
        },
        "id": "lQNQF_87imYm",
        "outputId": "ed5c2b70-4536-45bc-9be7-1a5c644b5628"
      },
      "source": [
        "feature_importances_grid = grid_search_dt.best_estimator_.feature_importances_\n",
        "sorted(zip(feature_importances_grid, features_name), reverse=True)"
      ],
      "execution_count": 62,
      "outputs": [
        {
          "output_type": "execute_result",
          "data": {
            "text/plain": [
              "[(0.2933221783635598, 'PPERSAUT'),\n",
              " (0.1890667227289772, 'PBRAND'),\n",
              " (0.14035952678900981, 'MOPLLAAG'),\n",
              " (0.10670080788783444, 'APLEZIER'),\n",
              " (0.06893953493881312, 'MGODGE'),\n",
              " (0.035765693155123686, 'PPLEZIER'),\n",
              " (0.030785350003397195, 'MBERHOOG'),\n",
              " (0.024035340759528328, 'PFIETS'),\n",
              " (0.02311621312705609, 'ALEVEN'),\n",
              " (0.021180323023363076, 'MHHUUR'),\n",
              " (0.017412032923002044, 'MFGEKIND'),\n",
              " (0.017402889194813802, 'PWAOREG'),\n",
              " (0.015116845549885887, 'MBERARBG'),\n",
              " (0.014191200175241527, 'MINKM30'),\n",
              " (0.0026053413803940983, 'MSKC'),\n",
              " (0.0, 'PZEILPL'),\n",
              " (0.0, 'PWERKT'),\n",
              " (0.0, 'PWAPART'),\n",
              " (0.0, 'PWALAND'),\n",
              " (0.0, 'PWABEDR'),\n",
              " (0.0, 'PVRAAUT'),\n",
              " (0.0, 'PTRACTOR'),\n",
              " (0.0, 'PPERSONG'),\n",
              " (0.0, 'PMOTSCO'),\n",
              " (0.0, 'PLEVEN'),\n",
              " (0.0, 'PINBOED'),\n",
              " (0.0, 'PGEZONG'),\n",
              " (0.0, 'PBYSTAND'),\n",
              " (0.0, 'PBROM'),\n",
              " (0.0, 'PBESAUT'),\n",
              " (0.0, 'PAANHANG'),\n",
              " (0.0, 'MZPART'),\n",
              " (0.0, 'MZFONDS'),\n",
              " (0.0, 'MSKD'),\n",
              " (0.0, 'MSKB2'),\n",
              " (0.0, 'MSKB1'),\n",
              " (0.0, 'MSKA'),\n",
              " (0.0, 'MRELSA'),\n",
              " (0.0, 'MRELOV'),\n",
              " (0.0, 'MRELGE'),\n",
              " (0.0, 'MOPLMIDD'),\n",
              " (0.0, 'MOPLHOOG'),\n",
              " (0.0, 'MKOOPKLA'),\n",
              " (0.0, 'MINKGEM'),\n",
              " (0.0, 'MINK7512'),\n",
              " (0.0, 'MINK4575'),\n",
              " (0.0, 'MINK3045'),\n",
              " (0.0, 'MINK123M'),\n",
              " (0.0, 'MHKOOP'),\n",
              " (0.0, 'MGODRK'),\n",
              " (0.0, 'MGODPR'),\n",
              " (0.0, 'MGODOV'),\n",
              " (0.0, 'MGEMOMV'),\n",
              " (0.0, 'MGEMLEEF'),\n",
              " (0.0, 'MFWEKIND'),\n",
              " (0.0, 'MFALLEEN'),\n",
              " (0.0, 'MBERZELF'),\n",
              " (0.0, 'MBERMIDD'),\n",
              " (0.0, 'MBERBOER'),\n",
              " (0.0, 'MBERARBO'),\n",
              " (0.0, 'MAUT2'),\n",
              " (0.0, 'MAUT1'),\n",
              " (0.0, 'MAUT0'),\n",
              " (0.0, 'MAANTHUI'),\n",
              " (0.0, 'AZEILPL'),\n",
              " (0.0, 'AWERKT'),\n",
              " (0.0, 'AWAPART'),\n",
              " (0.0, 'AWAOREG'),\n",
              " (0.0, 'AWALAND'),\n",
              " (0.0, 'AWABEDR'),\n",
              " (0.0, 'AVRAAUT'),\n",
              " (0.0, 'ATRACTOR'),\n",
              " (0.0, 'APERSONG'),\n",
              " (0.0, 'APERSAUT'),\n",
              " (0.0, 'AMOTSCO'),\n",
              " (0.0, 'AINBOED'),\n",
              " (0.0, 'AGEZONG'),\n",
              " (0.0, 'AFIETS'),\n",
              " (0.0, 'ABYSTAND'),\n",
              " (0.0, 'ABROM'),\n",
              " (0.0, 'ABRAND'),\n",
              " (0.0, 'ABESAUT'),\n",
              " (0.0, 'AAANHANG')]"
            ]
          },
          "metadata": {},
          "execution_count": 62
        }
      ]
    },
    {
      "cell_type": "code",
      "metadata": {
        "colab": {
          "base_uri": "https://localhost:8080/"
        },
        "id": "ezAnA8S-imVC",
        "outputId": "bf52a5b2-3ad8-46fa-da69-81d90e94d5d9"
      },
      "source": [
        "from sklearn.model_selection import RandomizedSearchCV\n",
        "from scipy.stats import randint\n",
        "\n",
        "param_distribs = {\n",
        "        'max_depth': randint(low=4, high=20),\n",
        "        'max_features': randint(low=10, high=80),\n",
        "        'min_samples_leaf': randint(low=1, high=100)\n",
        "    }\n",
        "\n",
        "rnd_search = RandomizedSearchCV(clf_dt, param_distributions=param_distribs,\n",
        "                                n_iter=200, cv=5, scoring='roc_auc', random_state=42, n_jobs=-1)\n",
        "\n",
        "rnd_search.fit(X_train, y_train)"
      ],
      "execution_count": 63,
      "outputs": [
        {
          "output_type": "execute_result",
          "data": {
            "text/plain": [
              "RandomizedSearchCV(cv=5, error_score=nan,\n",
              "                   estimator=DecisionTreeClassifier(ccp_alpha=0.0,\n",
              "                                                    class_weight=None,\n",
              "                                                    criterion='gini',\n",
              "                                                    max_depth=3,\n",
              "                                                    max_features=None,\n",
              "                                                    max_leaf_nodes=None,\n",
              "                                                    min_impurity_decrease=0.0,\n",
              "                                                    min_impurity_split=None,\n",
              "                                                    min_samples_leaf=1,\n",
              "                                                    min_samples_split=2,\n",
              "                                                    min_weight_fraction_leaf=0.0,\n",
              "                                                    presort='deprecated',\n",
              "                                                    random_state=42,\n",
              "                                                    splitter='best'),\n",
              "                   iid='d...\n",
              "                   param_distributions={'max_depth': <scipy.stats._distn_infrastructure.rv_frozen object at 0x7f3d2a1d7490>,\n",
              "                                        'max_features': <scipy.stats._distn_infrastructure.rv_frozen object at 0x7f3d2a1d7150>,\n",
              "                                        'min_samples_leaf': <scipy.stats._distn_infrastructure.rv_frozen object at 0x7f3d2a1d71d0>},\n",
              "                   pre_dispatch='2*n_jobs', random_state=42, refit=True,\n",
              "                   return_train_score=False, scoring='roc_auc', verbose=0)"
            ]
          },
          "metadata": {},
          "execution_count": 63
        }
      ]
    },
    {
      "cell_type": "code",
      "metadata": {
        "colab": {
          "base_uri": "https://localhost:8080/"
        },
        "id": "O10uc8aqimS3",
        "outputId": "740c341f-8c9f-4349-b7dd-3dfd417db7a2"
      },
      "source": [
        "print(\"AUC= \", rnd_search.best_score_, rnd_search.best_params_)\n",
        "rnd_search.best_estimator_"
      ],
      "execution_count": 64,
      "outputs": [
        {
          "output_type": "stream",
          "name": "stdout",
          "text": [
            "AUC=  0.7414137926743509 {'max_depth': 4, 'max_features': 71, 'min_samples_leaf': 84}\n"
          ]
        },
        {
          "output_type": "execute_result",
          "data": {
            "text/plain": [
              "DecisionTreeClassifier(ccp_alpha=0.0, class_weight=None, criterion='gini',\n",
              "                       max_depth=4, max_features=71, max_leaf_nodes=None,\n",
              "                       min_impurity_decrease=0.0, min_impurity_split=None,\n",
              "                       min_samples_leaf=84, min_samples_split=2,\n",
              "                       min_weight_fraction_leaf=0.0, presort='deprecated',\n",
              "                       random_state=42, splitter='best')"
            ]
          },
          "metadata": {},
          "execution_count": 64
        }
      ]
    },
    {
      "cell_type": "code",
      "metadata": {
        "colab": {
          "base_uri": "https://localhost:8080/"
        },
        "id": "xrVVbcS7imP6",
        "outputId": "1d41b3ba-5449-42be-a21a-1f7d208b8d97"
      },
      "source": [
        "cvres_rnd = rnd_search.cv_results_\n",
        "for mean_score, params in zip(cvres_rnd[\"mean_test_score\"], cvres_rnd[\"params\"]):\n",
        "    print(\"AUC= \", mean_score, params)"
      ],
      "execution_count": 65,
      "outputs": [
        {
          "output_type": "stream",
          "name": "stdout",
          "text": [
            "AUC=  0.7173274433594639 {'max_depth': 10, 'max_features': 61, 'min_samples_leaf': 93}\n",
            "AUC=  0.6657607544857529 {'max_depth': 18, 'max_features': 70, 'min_samples_leaf': 21}\n",
            "AUC=  0.6128896438488898 {'max_depth': 10, 'max_features': 33, 'min_samples_leaf': 3}\n",
            "AUC=  0.6403455069207633 {'max_depth': 9, 'max_features': 62, 'min_samples_leaf': 2}\n",
            "AUC=  0.7053002267247785 {'max_depth': 11, 'max_features': 39, 'min_samples_leaf': 38}\n",
            "AUC=  0.7105063221980622 {'max_depth': 5, 'max_features': 73, 'min_samples_leaf': 60}\n",
            "AUC=  0.7179762760015687 {'max_depth': 8, 'max_features': 42, 'min_samples_leaf': 76}\n",
            "AUC=  0.7271374044484846 {'max_depth': 13, 'max_features': 31, 'min_samples_leaf': 89}\n",
            "AUC=  0.7262807613492143 {'max_depth': 4, 'max_features': 68, 'min_samples_leaf': 42}\n",
            "AUC=  0.7124244320590355 {'max_depth': 19, 'max_features': 69, 'min_samples_leaf': 80}\n",
            "AUC=  0.7057980535229345 {'max_depth': 18, 'max_features': 71, 'min_samples_leaf': 62}\n",
            "AUC=  0.7025300502753032 {'max_depth': 18, 'max_features': 71, 'min_samples_leaf': 51}\n",
            "AUC=  0.7097453587770166 {'max_depth': 15, 'max_features': 64, 'min_samples_leaf': 64}\n",
            "AUC=  0.7028651424224386 {'max_depth': 12, 'max_features': 12, 'min_samples_leaf': 51}\n",
            "AUC=  0.6974720932601146 {'max_depth': 10, 'max_features': 30, 'min_samples_leaf': 73}\n",
            "AUC=  0.6262909001291548 {'max_depth': 10, 'max_features': 27, 'min_samples_leaf': 4}\n",
            "AUC=  0.6526420577221034 {'max_depth': 12, 'max_features': 69, 'min_samples_leaf': 14}\n",
            "AUC=  0.7055842938627448 {'max_depth': 5, 'max_features': 18, 'min_samples_leaf': 90}\n",
            "AUC=  0.7036815858460054 {'max_depth': 8, 'max_features': 11, 'min_samples_leaf': 84}\n",
            "AUC=  0.7104108072449821 {'max_depth': 15, 'max_features': 69, 'min_samples_leaf': 71}\n",
            "AUC=  0.6802462744438434 {'max_depth': 15, 'max_features': 17, 'min_samples_leaf': 47}\n",
            "AUC=  0.6950235586683786 {'max_depth': 6, 'max_features': 45, 'min_samples_leaf': 50}\n",
            "AUC=  0.6310433862629738 {'max_depth': 11, 'max_features': 13, 'min_samples_leaf': 2}\n",
            "AUC=  0.6951342462918998 {'max_depth': 17, 'max_features': 15, 'min_samples_leaf': 54}\n",
            "AUC=  0.6881327905889558 {'max_depth': 13, 'max_features': 13, 'min_samples_leaf': 54}\n",
            "AUC=  0.6499955604750147 {'max_depth': 16, 'max_features': 72, 'min_samples_leaf': 18}\n",
            "AUC=  0.6819876437994256 {'max_depth': 13, 'max_features': 53, 'min_samples_leaf': 34}\n",
            "AUC=  0.6437336441593633 {'max_depth': 13, 'max_features': 71, 'min_samples_leaf': 14}\n",
            "AUC=  0.6336218644691424 {'max_depth': 18, 'max_features': 57, 'min_samples_leaf': 15}\n",
            "AUC=  0.6760317273487242 {'max_depth': 11, 'max_features': 71, 'min_samples_leaf': 40}\n",
            "AUC=  0.6910078033849246 {'max_depth': 8, 'max_features': 62, 'min_samples_leaf': 24}\n",
            "AUC=  0.6779454516425238 {'max_depth': 13, 'max_features': 69, 'min_samples_leaf': 41}\n",
            "AUC=  0.7038419498099369 {'max_depth': 16, 'max_features': 24, 'min_samples_leaf': 45}\n",
            "AUC=  0.7156646601343148 {'max_depth': 4, 'max_features': 18, 'min_samples_leaf': 88}\n",
            "AUC=  0.7325472542447662 {'max_depth': 4, 'max_features': 17, 'min_samples_leaf': 88}\n",
            "AUC=  0.703574136693595 {'max_depth': 18, 'max_features': 20, 'min_samples_leaf': 81}\n",
            "AUC=  0.6862107958001189 {'max_depth': 11, 'max_features': 44, 'min_samples_leaf': 35}\n",
            "AUC=  0.7205390224120043 {'max_depth': 4, 'max_features': 14, 'min_samples_leaf': 41}\n",
            "AUC=  0.7072073166101103 {'max_depth': 15, 'max_features': 16, 'min_samples_leaf': 73}\n",
            "AUC=  0.6779728738077324 {'max_depth': 11, 'max_features': 21, 'min_samples_leaf': 34}\n",
            "AUC=  0.7302985682393226 {'max_depth': 4, 'max_features': 57, 'min_samples_leaf': 23}\n",
            "AUC=  0.7288590460193247 {'max_depth': 17, 'max_features': 46, 'min_samples_leaf': 99}\n",
            "AUC=  0.7010374057429881 {'max_depth': 15, 'max_features': 44, 'min_samples_leaf': 65}\n",
            "AUC=  0.6987137455312623 {'max_depth': 6, 'max_features': 56, 'min_samples_leaf': 78}\n",
            "AUC=  0.680381517918271 {'max_depth': 6, 'max_features': 10, 'min_samples_leaf': 5}\n",
            "AUC=  0.6761234148229367 {'max_depth': 13, 'max_features': 23, 'min_samples_leaf': 27}\n",
            "AUC=  0.7052345183122044 {'max_depth': 12, 'max_features': 24, 'min_samples_leaf': 90}\n",
            "AUC=  0.7048556562693143 {'max_depth': 13, 'max_features': 60, 'min_samples_leaf': 63}\n",
            "AUC=  0.7060744396402635 {'max_depth': 19, 'max_features': 61, 'min_samples_leaf': 96}\n",
            "AUC=  0.6785049878397033 {'max_depth': 7, 'max_features': 32, 'min_samples_leaf': 15}\n",
            "AUC=  0.6922300836264849 {'max_depth': 14, 'max_features': 38, 'min_samples_leaf': 36}\n",
            "AUC=  0.704324605320299 {'max_depth': 16, 'max_features': 41, 'min_samples_leaf': 71}\n",
            "AUC=  0.6930420949567957 {'max_depth': 14, 'max_features': 37, 'min_samples_leaf': 66}\n",
            "AUC=  0.6986659732344712 {'max_depth': 13, 'max_features': 54, 'min_samples_leaf': 62}\n",
            "AUC=  0.6719246240136907 {'max_depth': 12, 'max_features': 15, 'min_samples_leaf': 28}\n",
            "AUC=  0.7037412121312991 {'max_depth': 15, 'max_features': 53, 'min_samples_leaf': 84}\n",
            "AUC=  0.7064227603692974 {'max_depth': 17, 'max_features': 71, 'min_samples_leaf': 75}\n",
            "AUC=  0.713284415012031 {'max_depth': 19, 'max_features': 71, 'min_samples_leaf': 97}\n",
            "AUC=  0.7313099358816318 {'max_depth': 4, 'max_features': 36, 'min_samples_leaf': 62}\n",
            "AUC=  0.7142694283422202 {'max_depth': 12, 'max_features': 12, 'min_samples_leaf': 70}\n",
            "AUC=  0.6308359238527037 {'max_depth': 11, 'max_features': 36, 'min_samples_leaf': 9}\n",
            "AUC=  0.726977086803238 {'max_depth': 17, 'max_features': 46, 'min_samples_leaf': 97}\n",
            "AUC=  0.7000057955390577 {'max_depth': 6, 'max_features': 53, 'min_samples_leaf': 24}\n",
            "AUC=  0.6584358050591032 {'max_depth': 18, 'max_features': 68, 'min_samples_leaf': 32}\n",
            "AUC=  0.7138130077005332 {'max_depth': 19, 'max_features': 61, 'min_samples_leaf': 62}\n",
            "AUC=  0.72975380009813 {'max_depth': 4, 'max_features': 67, 'min_samples_leaf': 52}\n",
            "AUC=  0.5985675616179801 {'max_depth': 15, 'max_features': 48, 'min_samples_leaf': 2}\n",
            "AUC=  0.7159125490435805 {'max_depth': 6, 'max_features': 65, 'min_samples_leaf': 81}\n",
            "AUC=  0.6012876364938629 {'max_depth': 14, 'max_features': 11, 'min_samples_leaf': 2}\n",
            "AUC=  0.7054825988909543 {'max_depth': 15, 'max_features': 63, 'min_samples_leaf': 87}\n",
            "AUC=  0.6773687079155641 {'max_depth': 8, 'max_features': 10, 'min_samples_leaf': 19}\n",
            "AUC=  0.7069423562235609 {'max_depth': 17, 'max_features': 11, 'min_samples_leaf': 53}\n",
            "AUC=  0.7111391709705452 {'max_depth': 15, 'max_features': 41, 'min_samples_leaf': 70}\n",
            "AUC=  0.696823938167044 {'max_depth': 19, 'max_features': 77, 'min_samples_leaf': 55}\n",
            "AUC=  0.6676040863899474 {'max_depth': 14, 'max_features': 65, 'min_samples_leaf': 17}\n",
            "AUC=  0.6327811017137759 {'max_depth': 18, 'max_features': 47, 'min_samples_leaf': 24}\n",
            "AUC=  0.7236197127242561 {'max_depth': 8, 'max_features': 79, 'min_samples_leaf': 86}\n",
            "AUC=  0.7197810842405703 {'max_depth': 14, 'max_features': 25, 'min_samples_leaf': 97}\n",
            "AUC=  0.6999021654486495 {'max_depth': 12, 'max_features': 68, 'min_samples_leaf': 70}\n",
            "AUC=  0.6595665892021225 {'max_depth': 19, 'max_features': 12, 'min_samples_leaf': 20}\n",
            "AUC=  0.6884160259435794 {'max_depth': 15, 'max_features': 68, 'min_samples_leaf': 36}\n",
            "AUC=  0.7110626949154648 {'max_depth': 6, 'max_features': 76, 'min_samples_leaf': 19}\n",
            "AUC=  0.6979156261770325 {'max_depth': 7, 'max_features': 61, 'min_samples_leaf': 33}\n",
            "AUC=  0.7208259251867857 {'max_depth': 11, 'max_features': 48, 'min_samples_leaf': 82}\n",
            "AUC=  0.6420014722255794 {'max_depth': 11, 'max_features': 10, 'min_samples_leaf': 11}\n",
            "AUC=  0.7196112774349418 {'max_depth': 15, 'max_features': 66, 'min_samples_leaf': 89}\n",
            "AUC=  0.7277040914383385 {'max_depth': 5, 'max_features': 32, 'min_samples_leaf': 31}\n",
            "AUC=  0.7238854833248498 {'max_depth': 17, 'max_features': 51, 'min_samples_leaf': 99}\n",
            "AUC=  0.7153464064883905 {'max_depth': 10, 'max_features': 25, 'min_samples_leaf': 90}\n",
            "AUC=  0.5800482692893688 {'max_depth': 19, 'max_features': 69, 'min_samples_leaf': 2}\n",
            "AUC=  0.7252269171048837 {'max_depth': 4, 'max_features': 57, 'min_samples_leaf': 12}\n",
            "AUC=  0.6766239587823157 {'max_depth': 8, 'max_features': 46, 'min_samples_leaf': 32}\n",
            "AUC=  0.6934503740830089 {'max_depth': 14, 'max_features': 18, 'min_samples_leaf': 99}\n",
            "AUC=  0.718066387949164 {'max_depth': 6, 'max_features': 57, 'min_samples_leaf': 80}\n",
            "AUC=  0.6935633239940692 {'max_depth': 6, 'max_features': 29, 'min_samples_leaf': 24}\n",
            "AUC=  0.6821014960952572 {'max_depth': 9, 'max_features': 42, 'min_samples_leaf': 24}\n",
            "AUC=  0.6951974979821558 {'max_depth': 7, 'max_features': 45, 'min_samples_leaf': 38}\n",
            "AUC=  0.7240832607400284 {'max_depth': 11, 'max_features': 34, 'min_samples_leaf': 93}\n",
            "AUC=  0.7210965958721859 {'max_depth': 5, 'max_features': 75, 'min_samples_leaf': 54}\n",
            "AUC=  0.7074842525371449 {'max_depth': 6, 'max_features': 70, 'min_samples_leaf': 41}\n",
            "AUC=  0.7149230671355292 {'max_depth': 7, 'max_features': 42, 'min_samples_leaf': 68}\n",
            "AUC=  0.705777211065209 {'max_depth': 4, 'max_features': 23, 'min_samples_leaf': 21}\n",
            "AUC=  0.6367403282740021 {'max_depth': 19, 'max_features': 29, 'min_samples_leaf': 8}\n",
            "AUC=  0.658327631831576 {'max_depth': 10, 'max_features': 76, 'min_samples_leaf': 17}\n",
            "AUC=  0.7100203232218089 {'max_depth': 19, 'max_features': 42, 'min_samples_leaf': 48}\n",
            "AUC=  0.7152997203993314 {'max_depth': 15, 'max_features': 68, 'min_samples_leaf': 86}\n",
            "AUC=  0.6832735222572256 {'max_depth': 10, 'max_features': 31, 'min_samples_leaf': 30}\n",
            "AUC=  0.7009599310017509 {'max_depth': 9, 'max_features': 60, 'min_samples_leaf': 54}\n",
            "AUC=  0.6763451788185553 {'max_depth': 11, 'max_features': 36, 'min_samples_leaf': 27}\n",
            "AUC=  0.7108720516666267 {'max_depth': 5, 'max_features': 30, 'min_samples_leaf': 30}\n",
            "AUC=  0.7384436694706237 {'max_depth': 4, 'max_features': 37, 'min_samples_leaf': 64}\n",
            "AUC=  0.731260602092094 {'max_depth': 4, 'max_features': 78, 'min_samples_leaf': 61}\n",
            "AUC=  0.5946289168173278 {'max_depth': 19, 'max_features': 28, 'min_samples_leaf': 4}\n",
            "AUC=  0.6976642965153537 {'max_depth': 6, 'max_features': 73, 'min_samples_leaf': 49}\n",
            "AUC=  0.6998365269461803 {'max_depth': 19, 'max_features': 26, 'min_samples_leaf': 44}\n",
            "AUC=  0.728722706261123 {'max_depth': 15, 'max_features': 39, 'min_samples_leaf': 93}\n",
            "AUC=  0.7102688624246735 {'max_depth': 17, 'max_features': 15, 'min_samples_leaf': 99}\n",
            "AUC=  0.6673913340920266 {'max_depth': 15, 'max_features': 46, 'min_samples_leaf': 24}\n",
            "AUC=  0.6985493195914781 {'max_depth': 16, 'max_features': 55, 'min_samples_leaf': 53}\n",
            "AUC=  0.7242416333980118 {'max_depth': 18, 'max_features': 69, 'min_samples_leaf': 97}\n",
            "AUC=  0.7141593130655558 {'max_depth': 7, 'max_features': 72, 'min_samples_leaf': 85}\n",
            "AUC=  0.7051087907351015 {'max_depth': 19, 'max_features': 42, 'min_samples_leaf': 67}\n",
            "AUC=  0.6736032027918968 {'max_depth': 19, 'max_features': 27, 'min_samples_leaf': 25}\n",
            "AUC=  0.6902956248769984 {'max_depth': 13, 'max_features': 63, 'min_samples_leaf': 58}\n",
            "AUC=  0.6933339561122509 {'max_depth': 6, 'max_features': 55, 'min_samples_leaf': 24}\n",
            "AUC=  0.7171505661621023 {'max_depth': 5, 'max_features': 41, 'min_samples_leaf': 47}\n",
            "AUC=  0.6994219663495098 {'max_depth': 9, 'max_features': 32, 'min_samples_leaf': 66}\n",
            "AUC=  0.5734955845417196 {'max_depth': 18, 'max_features': 36, 'min_samples_leaf': 2}\n",
            "AUC=  0.6846831741448269 {'max_depth': 13, 'max_features': 26, 'min_samples_leaf': 33}\n",
            "AUC=  0.7032939846079207 {'max_depth': 12, 'max_features': 52, 'min_samples_leaf': 48}\n",
            "AUC=  0.675745873795859 {'max_depth': 10, 'max_features': 51, 'min_samples_leaf': 26}\n",
            "AUC=  0.6905368990459543 {'max_depth': 6, 'max_features': 59, 'min_samples_leaf': 25}\n",
            "AUC=  0.7164725459734121 {'max_depth': 11, 'max_features': 22, 'min_samples_leaf': 60}\n",
            "AUC=  0.6955476733943002 {'max_depth': 13, 'max_features': 16, 'min_samples_leaf': 57}\n",
            "AUC=  0.68782778363761 {'max_depth': 7, 'max_features': 54, 'min_samples_leaf': 20}\n",
            "AUC=  0.7264520812549335 {'max_depth': 4, 'max_features': 17, 'min_samples_leaf': 16}\n",
            "AUC=  0.7017234629667163 {'max_depth': 17, 'max_features': 24, 'min_samples_leaf': 92}\n",
            "AUC=  0.7083722197360496 {'max_depth': 5, 'max_features': 75, 'min_samples_leaf': 32}\n",
            "AUC=  0.7183326399702704 {'max_depth': 10, 'max_features': 72, 'min_samples_leaf': 86}\n",
            "AUC=  0.7023571068478217 {'max_depth': 6, 'max_features': 34, 'min_samples_leaf': 58}\n",
            "AUC=  0.6637977552340588 {'max_depth': 18, 'max_features': 71, 'min_samples_leaf': 22}\n",
            "AUC=  0.7072140435004005 {'max_depth': 13, 'max_features': 67, 'min_samples_leaf': 86}\n",
            "AUC=  0.7325397016029325 {'max_depth': 4, 'max_features': 61, 'min_samples_leaf': 42}\n",
            "AUC=  0.6811325037587699 {'max_depth': 9, 'max_features': 24, 'min_samples_leaf': 54}\n",
            "AUC=  0.7242416333980118 {'max_depth': 14, 'max_features': 69, 'min_samples_leaf': 97}\n",
            "AUC=  0.7141142649642063 {'max_depth': 11, 'max_features': 62, 'min_samples_leaf': 60}\n",
            "AUC=  0.7040839788006291 {'max_depth': 15, 'max_features': 14, 'min_samples_leaf': 68}\n",
            "AUC=  0.7214622854686583 {'max_depth': 9, 'max_features': 56, 'min_samples_leaf': 99}\n",
            "AUC=  0.6856746756685304 {'max_depth': 10, 'max_features': 49, 'min_samples_leaf': 52}\n",
            "AUC=  0.6626974911294101 {'max_depth': 19, 'max_features': 22, 'min_samples_leaf': 30}\n",
            "AUC=  0.7168905360712031 {'max_depth': 6, 'max_features': 26, 'min_samples_leaf': 63}\n",
            "AUC=  0.7175275463528624 {'max_depth': 6, 'max_features': 67, 'min_samples_leaf': 55}\n",
            "AUC=  0.6601414621726965 {'max_depth': 13, 'max_features': 71, 'min_samples_leaf': 23}\n",
            "AUC=  0.623167375109227 {'max_depth': 18, 'max_features': 18, 'min_samples_leaf': 12}\n",
            "AUC=  0.6908180076643251 {'max_depth': 8, 'max_features': 10, 'min_samples_leaf': 58}\n",
            "AUC=  0.6637230645396089 {'max_depth': 13, 'max_features': 10, 'min_samples_leaf': 34}\n",
            "AUC=  0.7280795729949553 {'max_depth': 19, 'max_features': 57, 'min_samples_leaf': 89}\n",
            "AUC=  0.649893308538319 {'max_depth': 11, 'max_features': 10, 'min_samples_leaf': 16}\n",
            "AUC=  0.7010143641501397 {'max_depth': 16, 'max_features': 73, 'min_samples_leaf': 63}\n",
            "AUC=  0.72599872193267 {'max_depth': 8, 'max_features': 31, 'min_samples_leaf': 93}\n",
            "AUC=  0.7115882360149242 {'max_depth': 10, 'max_features': 76, 'min_samples_leaf': 76}\n",
            "AUC=  0.7128703995413481 {'max_depth': 13, 'max_features': 25, 'min_samples_leaf': 51}\n",
            "AUC=  0.6885685678741309 {'max_depth': 8, 'max_features': 66, 'min_samples_leaf': 29}\n",
            "AUC=  0.6967414816265443 {'max_depth': 17, 'max_features': 78, 'min_samples_leaf': 47}\n",
            "AUC=  0.7369038722403461 {'max_depth': 4, 'max_features': 71, 'min_samples_leaf': 69}\n",
            "AUC=  0.7153464064883905 {'max_depth': 15, 'max_features': 25, 'min_samples_leaf': 90}\n",
            "AUC=  0.7018755802517106 {'max_depth': 13, 'max_features': 57, 'min_samples_leaf': 85}\n",
            "AUC=  0.7136636813409963 {'max_depth': 10, 'max_features': 42, 'min_samples_leaf': 94}\n",
            "AUC=  0.6664140544786201 {'max_depth': 8, 'max_features': 32, 'min_samples_leaf': 10}\n",
            "AUC=  0.6868393529563134 {'max_depth': 9, 'max_features': 78, 'min_samples_leaf': 34}\n",
            "AUC=  0.6872469706758997 {'max_depth': 7, 'max_features': 19, 'min_samples_leaf': 19}\n",
            "AUC=  0.7003117368488938 {'max_depth': 13, 'max_features': 10, 'min_samples_leaf': 69}\n",
            "AUC=  0.6306778856571064 {'max_depth': 16, 'max_features': 13, 'min_samples_leaf': 16}\n",
            "AUC=  0.7309797505251424 {'max_depth': 11, 'max_features': 11, 'min_samples_leaf': 92}\n",
            "AUC=  0.723356731960285 {'max_depth': 19, 'max_features': 41, 'min_samples_leaf': 91}\n",
            "AUC=  0.6757595680706568 {'max_depth': 7, 'max_features': 33, 'min_samples_leaf': 12}\n",
            "AUC=  0.7111027033883276 {'max_depth': 5, 'max_features': 44, 'min_samples_leaf': 33}\n",
            "AUC=  0.7375926088963088 {'max_depth': 4, 'max_features': 70, 'min_samples_leaf': 51}\n",
            "AUC=  0.6852832435640921 {'max_depth': 14, 'max_features': 21, 'min_samples_leaf': 67}\n",
            "AUC=  0.7402536107877876 {'max_depth': 4, 'max_features': 42, 'min_samples_leaf': 40}\n",
            "AUC=  0.6838657928024532 {'max_depth': 13, 'max_features': 52, 'min_samples_leaf': 44}\n",
            "AUC=  0.6236415955031055 {'max_depth': 16, 'max_features': 22, 'min_samples_leaf': 12}\n",
            "AUC=  0.5902171387292493 {'max_depth': 18, 'max_features': 55, 'min_samples_leaf': 2}\n",
            "AUC=  0.7181738042809837 {'max_depth': 16, 'max_features': 44, 'min_samples_leaf': 87}\n",
            "AUC=  0.7325472542447662 {'max_depth': 4, 'max_features': 17, 'min_samples_leaf': 93}\n",
            "AUC=  0.6078060992513674 {'max_depth': 13, 'max_features': 43, 'min_samples_leaf': 7}\n",
            "AUC=  0.702063732436728 {'max_depth': 7, 'max_features': 67, 'min_samples_leaf': 75}\n",
            "AUC=  0.7199256585449791 {'max_depth': 16, 'max_features': 45, 'min_samples_leaf': 89}\n",
            "AUC=  0.6473300455708457 {'max_depth': 8, 'max_features': 45, 'min_samples_leaf': 10}\n",
            "AUC=  0.6952768469882459 {'max_depth': 8, 'max_features': 33, 'min_samples_leaf': 64}\n",
            "AUC=  0.714870557647069 {'max_depth': 6, 'max_features': 58, 'min_samples_leaf': 99}\n",
            "AUC=  0.7026207342068104 {'max_depth': 19, 'max_features': 45, 'min_samples_leaf': 82}\n",
            "AUC=  0.7204548940607849 {'max_depth': 4, 'max_features': 33, 'min_samples_leaf': 23}\n",
            "AUC=  0.619556420989077 {'max_depth': 17, 'max_features': 46, 'min_samples_leaf': 12}\n",
            "AUC=  0.7297985857038866 {'max_depth': 4, 'max_features': 64, 'min_samples_leaf': 13}\n",
            "AUC=  0.6459297833967181 {'max_depth': 10, 'max_features': 39, 'min_samples_leaf': 17}\n",
            "AUC=  0.7414137926743509 {'max_depth': 4, 'max_features': 71, 'min_samples_leaf': 84}\n",
            "AUC=  0.7145682378534995 {'max_depth': 19, 'max_features': 22, 'min_samples_leaf': 59}\n",
            "AUC=  0.6926446321077081 {'max_depth': 6, 'max_features': 58, 'min_samples_leaf': 12}\n",
            "AUC=  0.7123691642755942 {'max_depth': 16, 'max_features': 28, 'min_samples_leaf': 76}\n"
          ]
        }
      ]
    },
    {
      "cell_type": "code",
      "metadata": {
        "colab": {
          "base_uri": "https://localhost:8080/"
        },
        "id": "oezSEeNvimNh",
        "outputId": "f541ce68-ba85-4bd4-ddf2-e208fb357d0e"
      },
      "source": [
        "feature_importances_rnd = rnd_search.best_estimator_.feature_importances_\n",
        "sorted(zip(feature_importances_rnd, features_name), reverse=True)"
      ],
      "execution_count": 66,
      "outputs": [
        {
          "output_type": "execute_result",
          "data": {
            "text/plain": [
              "[(0.4302585847235291, 'PPERSAUT'),\n",
              " (0.20588586817956814, 'MOPLLAAG'),\n",
              " (0.19427417015303497, 'PBRAND'),\n",
              " (0.04040894284898786, 'MINKGEM'),\n",
              " (0.032820963576132546, 'MGEMLEEF'),\n",
              " (0.023686421671867148, 'MINKM30'),\n",
              " (0.023077701904005442, 'MKOOPKLA'),\n",
              " (0.019490483324525954, 'MBERARBG'),\n",
              " (0.012601117257260234, 'MGODGE'),\n",
              " (0.006486270288703682, 'MRELGE'),\n",
              " (0.005831837477573022, 'MBERMIDD'),\n",
              " (0.005177638594811744, 'MFWEKIND'),\n",
              " (0.0, 'PZEILPL'),\n",
              " (0.0, 'PWERKT'),\n",
              " (0.0, 'PWAPART'),\n",
              " (0.0, 'PWAOREG'),\n",
              " (0.0, 'PWALAND'),\n",
              " (0.0, 'PWABEDR'),\n",
              " (0.0, 'PVRAAUT'),\n",
              " (0.0, 'PTRACTOR'),\n",
              " (0.0, 'PPLEZIER'),\n",
              " (0.0, 'PPERSONG'),\n",
              " (0.0, 'PMOTSCO'),\n",
              " (0.0, 'PLEVEN'),\n",
              " (0.0, 'PINBOED'),\n",
              " (0.0, 'PGEZONG'),\n",
              " (0.0, 'PFIETS'),\n",
              " (0.0, 'PBYSTAND'),\n",
              " (0.0, 'PBROM'),\n",
              " (0.0, 'PBESAUT'),\n",
              " (0.0, 'PAANHANG'),\n",
              " (0.0, 'MZPART'),\n",
              " (0.0, 'MZFONDS'),\n",
              " (0.0, 'MSKD'),\n",
              " (0.0, 'MSKC'),\n",
              " (0.0, 'MSKB2'),\n",
              " (0.0, 'MSKB1'),\n",
              " (0.0, 'MSKA'),\n",
              " (0.0, 'MRELSA'),\n",
              " (0.0, 'MRELOV'),\n",
              " (0.0, 'MOPLMIDD'),\n",
              " (0.0, 'MOPLHOOG'),\n",
              " (0.0, 'MINK7512'),\n",
              " (0.0, 'MINK4575'),\n",
              " (0.0, 'MINK3045'),\n",
              " (0.0, 'MINK123M'),\n",
              " (0.0, 'MHKOOP'),\n",
              " (0.0, 'MHHUUR'),\n",
              " (0.0, 'MGODRK'),\n",
              " (0.0, 'MGODPR'),\n",
              " (0.0, 'MGODOV'),\n",
              " (0.0, 'MGEMOMV'),\n",
              " (0.0, 'MFGEKIND'),\n",
              " (0.0, 'MFALLEEN'),\n",
              " (0.0, 'MBERZELF'),\n",
              " (0.0, 'MBERHOOG'),\n",
              " (0.0, 'MBERBOER'),\n",
              " (0.0, 'MBERARBO'),\n",
              " (0.0, 'MAUT2'),\n",
              " (0.0, 'MAUT1'),\n",
              " (0.0, 'MAUT0'),\n",
              " (0.0, 'MAANTHUI'),\n",
              " (0.0, 'AZEILPL'),\n",
              " (0.0, 'AWERKT'),\n",
              " (0.0, 'AWAPART'),\n",
              " (0.0, 'AWAOREG'),\n",
              " (0.0, 'AWALAND'),\n",
              " (0.0, 'AWABEDR'),\n",
              " (0.0, 'AVRAAUT'),\n",
              " (0.0, 'ATRACTOR'),\n",
              " (0.0, 'APLEZIER'),\n",
              " (0.0, 'APERSONG'),\n",
              " (0.0, 'APERSAUT'),\n",
              " (0.0, 'AMOTSCO'),\n",
              " (0.0, 'ALEVEN'),\n",
              " (0.0, 'AINBOED'),\n",
              " (0.0, 'AGEZONG'),\n",
              " (0.0, 'AFIETS'),\n",
              " (0.0, 'ABYSTAND'),\n",
              " (0.0, 'ABROM'),\n",
              " (0.0, 'ABRAND'),\n",
              " (0.0, 'ABESAUT'),\n",
              " (0.0, 'AAANHANG')]"
            ]
          },
          "metadata": {},
          "execution_count": 66
        }
      ]
    },
    {
      "cell_type": "code",
      "metadata": {
        "colab": {
          "base_uri": "https://localhost:8080/"
        },
        "id": "MvNWVSNTimKz",
        "outputId": "da48b851-bc7a-4073-d717-dcddce835ed4"
      },
      "source": [
        "clf_best_dt = grid_search_dt.best_estimator_\n",
        "clf_best_dt"
      ],
      "execution_count": 67,
      "outputs": [
        {
          "output_type": "execute_result",
          "data": {
            "text/plain": [
              "DecisionTreeClassifier(ccp_alpha=0.0, class_weight=None, criterion='gini',\n",
              "                       max_depth=5, max_features=80, max_leaf_nodes=None,\n",
              "                       min_impurity_decrease=0.0, min_impurity_split=None,\n",
              "                       min_samples_leaf=0.001, min_samples_split=2,\n",
              "                       min_weight_fraction_leaf=0.0, presort='deprecated',\n",
              "                       random_state=42, splitter='best')"
            ]
          },
          "metadata": {},
          "execution_count": 67
        }
      ]
    },
    {
      "cell_type": "code",
      "metadata": {
        "id": "tep05FxRimIC"
      },
      "source": [
        "y_pred_dt = cross_val_predict(clf_best_dt, X_train, y_train, cv=10, n_jobs=-1)\n",
        "y_proba_dt = cross_val_predict(clf_best_dt, X_train, y_train, cv=10, method='predict_proba', n_jobs=-1)\n",
        "ranking_profit_dt = create_ranking_profit_df(\"Decision Tree\", y_train, y_proba_dt)"
      ],
      "execution_count": 73,
      "outputs": []
    },
    {
      "cell_type": "code",
      "metadata": {
        "colab": {
          "base_uri": "https://localhost:8080/",
          "height": 206
        },
        "id": "AbmjFIh1imFL",
        "outputId": "471f266a-de88-485f-ccd9-f5554dc4c8c5"
      },
      "source": [
        "ranking_profit_dt.head()"
      ],
      "execution_count": 74,
      "outputs": [
        {
          "output_type": "execute_result",
          "data": {
            "text/html": [
              "<div>\n",
              "<style scoped>\n",
              "    .dataframe tbody tr th:only-of-type {\n",
              "        vertical-align: middle;\n",
              "    }\n",
              "\n",
              "    .dataframe tbody tr th {\n",
              "        vertical-align: top;\n",
              "    }\n",
              "\n",
              "    .dataframe thead th {\n",
              "        text-align: right;\n",
              "    }\n",
              "</style>\n",
              "<table border=\"1\" class=\"dataframe\">\n",
              "  <thead>\n",
              "    <tr style=\"text-align: right;\">\n",
              "      <th></th>\n",
              "      <th>score</th>\n",
              "      <th>actual</th>\n",
              "      <th>profit</th>\n",
              "      <th>cum_profit</th>\n",
              "    </tr>\n",
              "  </thead>\n",
              "  <tbody>\n",
              "    <tr>\n",
              "      <th>5630</th>\n",
              "      <td>1.000000</td>\n",
              "      <td>0</td>\n",
              "      <td>-10</td>\n",
              "      <td>-10</td>\n",
              "    </tr>\n",
              "    <tr>\n",
              "      <th>2955</th>\n",
              "      <td>0.818182</td>\n",
              "      <td>0</td>\n",
              "      <td>-10</td>\n",
              "      <td>-20</td>\n",
              "    </tr>\n",
              "    <tr>\n",
              "      <th>1595</th>\n",
              "      <td>0.818182</td>\n",
              "      <td>0</td>\n",
              "      <td>-10</td>\n",
              "      <td>-30</td>\n",
              "    </tr>\n",
              "    <tr>\n",
              "      <th>5092</th>\n",
              "      <td>0.714286</td>\n",
              "      <td>0</td>\n",
              "      <td>-10</td>\n",
              "      <td>-40</td>\n",
              "    </tr>\n",
              "    <tr>\n",
              "      <th>811</th>\n",
              "      <td>0.714286</td>\n",
              "      <td>1</td>\n",
              "      <td>90</td>\n",
              "      <td>50</td>\n",
              "    </tr>\n",
              "  </tbody>\n",
              "</table>\n",
              "</div>"
            ],
            "text/plain": [
              "         score  actual  profit  cum_profit\n",
              "5630  1.000000       0     -10         -10\n",
              "2955  0.818182       0     -10         -20\n",
              "1595  0.818182       0     -10         -30\n",
              "5092  0.714286       0     -10         -40\n",
              "811   0.714286       1      90          50"
            ]
          },
          "metadata": {},
          "execution_count": 74
        }
      ]
    },
    {
      "cell_type": "code",
      "metadata": {
        "colab": {
          "base_uri": "https://localhost:8080/"
        },
        "id": "jZXryZG5imCr",
        "outputId": "60faf501-f8d2-4a2c-9800-49bf23493409"
      },
      "source": [
        "from sklearn.metrics import confusion_matrix\n",
        "cm_dt = confusion_matrix(y_train, y_pred_dt)\n",
        "display_conf_matrix(y_train, y_pred_dt)\n",
        "display_perf_metrics(y_train, y_pred_dt, y_proba_dt[:,1])"
      ],
      "execution_count": 75,
      "outputs": [
        {
          "output_type": "stream",
          "name": "stdout",
          "text": [
            "[[5460   14]\n",
            " [ 344    4]]\n",
            "Accuracy           93.85%\n",
            "Precision          22.22%\n",
            "Recall             1.15%\n",
            "F1                 0.02\n",
            "AUC                0.73\n",
            "Cohen Kappa        0.02\n"
          ]
        }
      ]
    },
    {
      "cell_type": "code",
      "metadata": {
        "colab": {
          "base_uri": "https://localhost:8080/"
        },
        "id": "r3v8jeK8il_9",
        "outputId": "781edb77-d42d-4b76-b7a6-b4363d2481d8"
      },
      "source": [
        "from sklearn.metrics import precision_recall_curve\n",
        "precisions, recalls, thresholds = precision_recall_curve(y_train, y_proba_dt[:,1])\n",
        "print(precisions)\n",
        "print(recalls)\n",
        "print(thresholds)"
      ],
      "execution_count": 76,
      "outputs": [
        {
          "output_type": "stream",
          "name": "stdout",
          "text": [
            "[0.05977327 0.06081318 0.06141593 0.06209735 0.06314056 0.06441374\n",
            " 0.06540977 0.0669049  0.06656038 0.06860922 0.07116827 0.07323628\n",
            " 0.07427785 0.07599717 0.07787482 0.07838304 0.07836836 0.07848477\n",
            " 0.079155   0.07981462 0.08057366 0.08063674 0.08069992 0.08188248\n",
            " 0.08347627 0.08592814 0.08984868 0.09388573 0.09781844 0.10082151\n",
            " 0.10143288 0.10109807 0.10225505 0.10367084 0.10230489 0.10408765\n",
            " 0.10715854 0.11018519 0.11170732 0.11538462 0.11546392 0.11512648\n",
            " 0.11895709 0.12227325 0.12772397 0.13402733 0.13781399 0.13764625\n",
            " 0.13802622 0.13953488 0.14070352 0.14131218 0.14202899 0.14735226\n",
            " 0.14883721 0.14840715 0.15205149 0.15121136 0.15496575 0.15599639\n",
            " 0.15719697 0.16164659 0.16578108 0.17366629 0.17312073 0.17276888\n",
            " 0.17345751 0.17386231 0.17948718 0.17981889 0.1796875  0.18169761\n",
            " 0.18218085 0.18463612 0.18269231 0.18857143 0.18944099 0.19085174\n",
            " 0.19047619 0.19323671 0.19312602 0.19376026 0.19072165 0.19279279\n",
            " 0.19813084 0.19736842 0.19465649 0.19729207 0.2        0.20286885\n",
            " 0.20496894 0.2        0.19518072 0.19098143 0.19346049 0.19113573\n",
            " 0.19435737 0.19256757 0.19230769 0.19285714 0.19133574 0.19776119\n",
            " 0.19298246 0.1938326  0.18461538 0.18556701 0.18518519 0.18716578\n",
            " 0.18817204 0.19230769 0.19886364 0.19512195 0.19496855 0.19620253\n",
            " 0.17985612 0.17557252 0.17886179 0.17948718 0.1754386  0.18269231\n",
            " 0.19101124 0.1875     0.19178082 0.1971831  0.17857143 0.17073171\n",
            " 0.17241379 0.14814815 0.17391304 0.18181818 0.22222222 0.25\n",
            " 0.30769231 0.36363636 0.22222222 0.         0.         1.        ]\n",
            "[1.         0.99712644 0.99712644 0.99712644 0.99137931 0.99137931\n",
            " 0.97701149 0.9683908  0.95977011 0.95402299 0.95402299 0.93965517\n",
            " 0.93103448 0.92528736 0.92241379 0.9137931  0.91091954 0.91091954\n",
            " 0.89367816 0.8908046  0.88793103 0.88793103 0.88793103 0.86494253\n",
            " 0.83908046 0.82471264 0.81896552 0.80747126 0.79885057 0.77586207\n",
            " 0.77298851 0.76724138 0.75574713 0.73850575 0.72701149 0.70977011\n",
            " 0.70114943 0.68390805 0.65804598 0.64655172 0.64367816 0.6408046\n",
            " 0.62931034 0.61206897 0.60632184 0.59195402 0.58333333 0.57471264\n",
            " 0.57471264 0.56896552 0.56321839 0.56321839 0.56321839 0.55172414\n",
            " 0.55172414 0.54885057 0.54310345 0.52011494 0.52011494 0.49712644\n",
            " 0.47701149 0.46264368 0.44827586 0.43965517 0.43678161 0.43390805\n",
            " 0.42816092 0.42816092 0.40229885 0.39942529 0.39655172 0.39367816\n",
            " 0.39367816 0.39367816 0.38218391 0.37931034 0.35057471 0.34770115\n",
            " 0.34482759 0.34482759 0.33908046 0.33908046 0.31896552 0.30747126\n",
            " 0.3045977  0.30172414 0.29310345 0.29310345 0.29310345 0.28448276\n",
            " 0.28448276 0.25862069 0.23275862 0.20689655 0.20402299 0.19827586\n",
            " 0.17816092 0.1637931  0.15804598 0.15517241 0.15229885 0.15229885\n",
            " 0.12643678 0.12643678 0.10344828 0.10344828 0.10057471 0.10057471\n",
            " 0.10057471 0.10057471 0.10057471 0.09195402 0.08908046 0.08908046\n",
            " 0.07183908 0.06609195 0.06321839 0.06034483 0.05747126 0.0545977\n",
            " 0.04885057 0.04310345 0.04022989 0.04022989 0.02873563 0.02011494\n",
            " 0.01436782 0.01149425 0.01149425 0.01149425 0.01149425 0.01149425\n",
            " 0.01149425 0.01149425 0.00574713 0.         0.         0.        ]\n",
            "[0.         0.00177305 0.00179211 0.00448833 0.00620018 0.0073187\n",
            " 0.00862069 0.00904977 0.00939597 0.01070234 0.01088732 0.01489573\n",
            " 0.01624365 0.01708543 0.02052786 0.0212766  0.02173913 0.02231668\n",
            " 0.02307692 0.02325581 0.02564103 0.03030303 0.03200523 0.03219448\n",
            " 0.03497409 0.03511141 0.03550296 0.03562176 0.03666921 0.03886926\n",
            " 0.03960396 0.0397351  0.04026846 0.04166667 0.04550626 0.04634994\n",
            " 0.04640371 0.0466805  0.04778157 0.04807692 0.04878049 0.04909561\n",
            " 0.04923077 0.05022321 0.05109489 0.05128205 0.05238095 0.05263158\n",
            " 0.05349794 0.05416667 0.05454545 0.05714286 0.06020558 0.0625\n",
            " 0.06666667 0.06725146 0.07077626 0.07968127 0.08       0.08163265\n",
            " 0.08617234 0.08984375 0.09018036 0.09090909 0.09375    0.0974026\n",
            " 0.1        0.1086351  0.109375   0.11290323 0.11702128 0.11764706\n",
            " 0.12244898 0.13173653 0.14285714 0.14350797 0.14444444 0.14545455\n",
            " 0.1509434  0.15384615 0.15517241 0.1588785  0.16317992 0.16326531\n",
            " 0.16923077 0.16949153 0.17105263 0.17241379 0.17351598 0.17647059\n",
            " 0.17857143 0.17955801 0.1810585  0.1827957  0.18367347 0.18670886\n",
            " 0.18888889 0.19444444 0.19736842 0.2        0.20192308 0.20652174\n",
            " 0.20833333 0.21180556 0.22222222 0.23529412 0.23809524 0.25\n",
            " 0.26666667 0.27272727 0.2952381  0.3        0.30769231 0.33333333\n",
            " 0.33684211 0.34       0.34615385 0.35294118 0.36065574 0.36170213\n",
            " 0.36363636 0.375      0.38888889 0.39393939 0.4        0.40449438\n",
            " 0.42857143 0.44444444 0.48387097 0.5        0.57692308 0.58333333\n",
            " 0.63636364 0.66666667 0.71428571 0.81818182 1.        ]\n"
          ]
        }
      ]
    },
    {
      "cell_type": "code",
      "metadata": {
        "colab": {
          "base_uri": "https://localhost:8080/",
          "height": 315
        },
        "id": "DJdixHH5il9f",
        "outputId": "231a6536-dff4-45cb-e07f-9fb98f1b27ea"
      },
      "source": [
        "plot_precision_vs_recall(precisions, recalls)\n",
        "save_fig(\"precision_vs_recall_plot_optimized_model_dt\")\n",
        "plt.show()"
      ],
      "execution_count": 77,
      "outputs": [
        {
          "output_type": "stream",
          "name": "stdout",
          "text": [
            "Saving figure precision_vs_recall_plot_optimized_model_dt\n"
          ]
        },
        {
          "output_type": "display_data",
          "data": {
            "image/png": "[encoded data removed]",
            "text/plain": [
              "<Figure size 432x288 with 1 Axes>"
            ]
          },
          "metadata": {
            "needs_background": "light"
          }
        }
      ]
    },
    {
      "cell_type": "code",
      "metadata": {
        "colab": {
          "base_uri": "https://localhost:8080/",
          "height": 291
        },
        "id": "4jeUXUSkjJsa",
        "outputId": "42dc3e34-c4c5-4202-d5d9-7d032809f007"
      },
      "source": [
        "plot_precision_recall_vs_threshold(precisions, recalls, thresholds)\n",
        "plt.show()"
      ],
      "execution_count": 78,
      "outputs": [
        {
          "output_type": "display_data",
          "data": {
            "image/png": "[encoded data removed]",
            "text/plain": [
              "<Figure size 432x288 with 1 Axes>"
            ]
          },
          "metadata": {
            "needs_background": "light"
          }
        }
      ]
    },
    {
      "cell_type": "code",
      "metadata": {
        "colab": {
          "base_uri": "https://localhost:8080/",
          "height": 315
        },
        "id": "ckjQMa-EjJpA",
        "outputId": "0120ab97-242f-49f8-b080-b6fd8296e164"
      },
      "source": [
        "from sklearn.metrics import roc_curve\n",
        "\n",
        "fpr, tpr, thresholds = roc_curve(y_train, y_proba_dt[:,1])\n",
        "\n",
        "#plt.figure(figsize=(8, 6))\n",
        "plot_roc_curve(fpr, tpr, \"Decision tree\")\n",
        "save_fig(\"roc_curve_plot_optimized_model_dt\")\n",
        "plt.show()"
      ],
      "execution_count": 79,
      "outputs": [
        {
          "output_type": "stream",
          "name": "stdout",
          "text": [
            "Saving figure roc_curve_plot_optimized_model_dt\n"
          ]
        },
        {
          "output_type": "display_data",
          "data": {
            "image/png": "[encoded data removed]",
            "text/plain": [
              "<Figure size 432x288 with 1 Axes>"
            ]
          },
          "metadata": {
            "needs_background": "light"
          }
        }
      ]
    },
    {
      "cell_type": "code",
      "metadata": {
        "colab": {
          "base_uri": "https://localhost:8080/"
        },
        "id": "IHtJUMw4jJkT",
        "outputId": "8188d17f-455c-4817-ada1-22c8b7d944e7"
      },
      "source": [
        "from sklearn.model_selection import GridSearchCV\n",
        "from scipy.stats import randint\n",
        "\n",
        "param_grid = [\n",
        "        {'solver' : ['newton-cg', 'lbfgs', 'sag'], 'penalty': ['l2'], 'C': [0.001, 0.01, 0.1, 1, 10, 100, 1000] },\n",
        "        {'solver' : ['liblinear'], 'penalty': ['l1','l2'], 'C': [0.001, 0.01, 0.1, 1, 10, 100, 1000] }\n",
        "    ]\n",
        "\n",
        "grid_search_log = GridSearchCV(clf_log, param_grid, cv=5, scoring='precision', n_jobs=-1)\n",
        "grid_search_log.fit(X_train, y_train)\n",
        "\n",
        "print(\"Precision= \", grid_search_log.best_score_, grid_search_log.best_params_)\n",
        "grid_search_log.best_estimator_"
      ],
      "execution_count": 80,
      "outputs": [
        {
          "output_type": "stream",
          "name": "stderr",
          "text": [
            "/usr/local/lib/python3.7/dist-packages/sklearn/linear_model/_logistic.py:1539: UserWarning: 'n_jobs' > 1 does not have any effect when 'solver' is set to 'liblinear'. Got 'n_jobs' = 2.\n",
            "  \" = {}.\".format(effective_n_jobs(self.n_jobs)))\n"
          ]
        },
        {
          "output_type": "stream",
          "name": "stdout",
          "text": [
            "Precision=  0.25 {'C': 10, 'penalty': 'l1', 'solver': 'liblinear'}\n"
          ]
        },
        {
          "output_type": "execute_result",
          "data": {
            "text/plain": [
              "LogisticRegression(C=10, class_weight=None, dual=False, fit_intercept=True,\n",
              "                   intercept_scaling=1, l1_ratio=None, max_iter=100,\n",
              "                   multi_class='auto', n_jobs=-1, penalty='l1', random_state=42,\n",
              "                   solver='liblinear', tol=0.0001, verbose=0, warm_start=False)"
            ]
          },
          "metadata": {},
          "execution_count": 80
        }
      ]
    },
    {
      "cell_type": "code",
      "metadata": {
        "colab": {
          "base_uri": "https://localhost:8080/"
        },
        "id": "dX-ilmm8jJgu",
        "outputId": "d179b008-43d4-4908-e1eb-0748841d8d74"
      },
      "source": [
        "cvres_grid_log = grid_search_log.cv_results_\n",
        "for mean_score, params in zip(cvres_grid_log[\"mean_test_score\"], cvres_grid_log[\"params\"]):\n",
        "    print(\"Precision= \", mean_score, params)"
      ],
      "execution_count": 81,
      "outputs": [
        {
          "output_type": "stream",
          "name": "stdout",
          "text": [
            "Precision=  0.0 {'C': 0.001, 'penalty': 'l2', 'solver': 'newton-cg'}\n",
            "Precision=  0.0 {'C': 0.001, 'penalty': 'l2', 'solver': 'lbfgs'}\n",
            "Precision=  0.0 {'C': 0.001, 'penalty': 'l2', 'solver': 'sag'}\n",
            "Precision=  0.0 {'C': 0.01, 'penalty': 'l2', 'solver': 'newton-cg'}\n",
            "Precision=  0.0 {'C': 0.01, 'penalty': 'l2', 'solver': 'lbfgs'}\n",
            "Precision=  0.0 {'C': 0.01, 'penalty': 'l2', 'solver': 'sag'}\n",
            "Precision=  0.0 {'C': 0.1, 'penalty': 'l2', 'solver': 'newton-cg'}\n",
            "Precision=  0.0 {'C': 0.1, 'penalty': 'l2', 'solver': 'lbfgs'}\n",
            "Precision=  0.0 {'C': 0.1, 'penalty': 'l2', 'solver': 'sag'}\n",
            "Precision=  0.2 {'C': 1, 'penalty': 'l2', 'solver': 'newton-cg'}\n",
            "Precision=  0.2 {'C': 1, 'penalty': 'l2', 'solver': 'lbfgs'}\n",
            "Precision=  0.2 {'C': 1, 'penalty': 'l2', 'solver': 'sag'}\n",
            "Precision=  0.15 {'C': 10, 'penalty': 'l2', 'solver': 'newton-cg'}\n",
            "Precision=  0.15 {'C': 10, 'penalty': 'l2', 'solver': 'lbfgs'}\n",
            "Precision=  0.15 {'C': 10, 'penalty': 'l2', 'solver': 'sag'}\n",
            "Precision=  0.22000000000000003 {'C': 100, 'penalty': 'l2', 'solver': 'newton-cg'}\n",
            "Precision=  0.2 {'C': 100, 'penalty': 'l2', 'solver': 'lbfgs'}\n",
            "Precision=  0.12 {'C': 100, 'penalty': 'l2', 'solver': 'sag'}\n",
            "Precision=  0.22000000000000003 {'C': 1000, 'penalty': 'l2', 'solver': 'newton-cg'}\n",
            "Precision=  0.2 {'C': 1000, 'penalty': 'l2', 'solver': 'lbfgs'}\n",
            "Precision=  0.22000000000000003 {'C': 1000, 'penalty': 'l2', 'solver': 'sag'}\n",
            "Precision=  0.0 {'C': 0.001, 'penalty': 'l1', 'solver': 'liblinear'}\n",
            "Precision=  0.0 {'C': 0.001, 'penalty': 'l2', 'solver': 'liblinear'}\n",
            "Precision=  0.0 {'C': 0.01, 'penalty': 'l1', 'solver': 'liblinear'}\n",
            "Precision=  0.0 {'C': 0.01, 'penalty': 'l2', 'solver': 'liblinear'}\n",
            "Precision=  0.0 {'C': 0.1, 'penalty': 'l1', 'solver': 'liblinear'}\n",
            "Precision=  0.0 {'C': 0.1, 'penalty': 'l2', 'solver': 'liblinear'}\n",
            "Precision=  0.2 {'C': 1, 'penalty': 'l1', 'solver': 'liblinear'}\n",
            "Precision=  0.2 {'C': 1, 'penalty': 'l2', 'solver': 'liblinear'}\n",
            "Precision=  0.25 {'C': 10, 'penalty': 'l1', 'solver': 'liblinear'}\n",
            "Precision=  0.15 {'C': 10, 'penalty': 'l2', 'solver': 'liblinear'}\n",
            "Precision=  0.22000000000000003 {'C': 100, 'penalty': 'l1', 'solver': 'liblinear'}\n",
            "Precision=  0.22000000000000003 {'C': 100, 'penalty': 'l2', 'solver': 'liblinear'}\n",
            "Precision=  0.22000000000000003 {'C': 1000, 'penalty': 'l1', 'solver': 'liblinear'}\n",
            "Precision=  0.22000000000000003 {'C': 1000, 'penalty': 'l2', 'solver': 'liblinear'}\n"
          ]
        }
      ]
    },
    {
      "cell_type": "code",
      "metadata": {
        "colab": {
          "base_uri": "https://localhost:8080/"
        },
        "id": "07HtQP7GjJaR",
        "outputId": "f446b8cd-1d9c-4828-eba3-3a79c2e7d172"
      },
      "source": [
        "clf_best_log = grid_search_log.best_estimator_\n",
        "clf_best_log"
      ],
      "execution_count": 82,
      "outputs": [
        {
          "output_type": "execute_result",
          "data": {
            "text/plain": [
              "LogisticRegression(C=10, class_weight=None, dual=False, fit_intercept=True,\n",
              "                   intercept_scaling=1, l1_ratio=None, max_iter=100,\n",
              "                   multi_class='auto', n_jobs=-1, penalty='l1', random_state=42,\n",
              "                   solver='liblinear', tol=0.0001, verbose=0, warm_start=False)"
            ]
          },
          "metadata": {},
          "execution_count": 82
        }
      ]
    },
    {
      "cell_type": "code",
      "metadata": {
        "id": "_yIaAdskjJWq"
      },
      "source": [
        "y_pred_log = cross_val_predict(clf_best_log, X_train, y_train, cv=10, n_jobs=-1)\n",
        "y_proba_log = cross_val_predict(clf_best_log, X_train, y_train, cv=10, method='predict_proba', n_jobs=-1)\n",
        "ranking_profit_log = create_ranking_profit_df(\"Logistic Regression\", y_train, y_proba_log)"
      ],
      "execution_count": 83,
      "outputs": []
    },
    {
      "cell_type": "code",
      "metadata": {
        "colab": {
          "base_uri": "https://localhost:8080/",
          "height": 206
        },
        "id": "tFnOHWiejY1Y",
        "outputId": "246a826d-6455-44a8-9966-b67966b63a87"
      },
      "source": [
        "ranking_profit_log.head()"
      ],
      "execution_count": 84,
      "outputs": [
        {
          "output_type": "execute_result",
          "data": {
            "text/html": [
              "<div>\n",
              "<style scoped>\n",
              "    .dataframe tbody tr th:only-of-type {\n",
              "        vertical-align: middle;\n",
              "    }\n",
              "\n",
              "    .dataframe tbody tr th {\n",
              "        vertical-align: top;\n",
              "    }\n",
              "\n",
              "    .dataframe thead th {\n",
              "        text-align: right;\n",
              "    }\n",
              "</style>\n",
              "<table border=\"1\" class=\"dataframe\">\n",
              "  <thead>\n",
              "    <tr style=\"text-align: right;\">\n",
              "      <th></th>\n",
              "      <th>score</th>\n",
              "      <th>actual</th>\n",
              "      <th>profit</th>\n",
              "      <th>cum_profit</th>\n",
              "    </tr>\n",
              "  </thead>\n",
              "  <tbody>\n",
              "    <tr>\n",
              "      <th>2953</th>\n",
              "      <td>0.960082</td>\n",
              "      <td>1</td>\n",
              "      <td>90</td>\n",
              "      <td>90</td>\n",
              "    </tr>\n",
              "    <tr>\n",
              "      <th>4618</th>\n",
              "      <td>0.834794</td>\n",
              "      <td>0</td>\n",
              "      <td>-10</td>\n",
              "      <td>80</td>\n",
              "    </tr>\n",
              "    <tr>\n",
              "      <th>130</th>\n",
              "      <td>0.820525</td>\n",
              "      <td>0</td>\n",
              "      <td>-10</td>\n",
              "      <td>70</td>\n",
              "    </tr>\n",
              "    <tr>\n",
              "      <th>206</th>\n",
              "      <td>0.761757</td>\n",
              "      <td>0</td>\n",
              "      <td>-10</td>\n",
              "      <td>60</td>\n",
              "    </tr>\n",
              "    <tr>\n",
              "      <th>2188</th>\n",
              "      <td>0.739595</td>\n",
              "      <td>0</td>\n",
              "      <td>-10</td>\n",
              "      <td>50</td>\n",
              "    </tr>\n",
              "  </tbody>\n",
              "</table>\n",
              "</div>"
            ],
            "text/plain": [
              "         score  actual  profit  cum_profit\n",
              "2953  0.960082       1      90          90\n",
              "4618  0.834794       0     -10          80\n",
              "130   0.820525       0     -10          70\n",
              "206   0.761757       0     -10          60\n",
              "2188  0.739595       0     -10          50"
            ]
          },
          "metadata": {},
          "execution_count": 84
        }
      ]
    },
    {
      "cell_type": "code",
      "metadata": {
        "colab": {
          "base_uri": "https://localhost:8080/"
        },
        "id": "4zqJjLPJjYxc",
        "outputId": "eeb1d1b9-6fc8-4292-a8b6-aeb2a6982807"
      },
      "source": [
        "cm_log = confusion_matrix(y_train, y_pred_log)\n",
        "display_conf_matrix(y_train, y_pred_log)\n",
        "display_perf_metrics(y_train, y_pred_log, y_proba_log[:,1])"
      ],
      "execution_count": 85,
      "outputs": [
        {
          "output_type": "stream",
          "name": "stdout",
          "text": [
            "[[5460   14]\n",
            " [ 346    2]]\n",
            "Accuracy           93.82%\n",
            "Precision          12.50%\n",
            "Recall             0.57%\n",
            "F1                 0.01\n",
            "AUC                0.74\n",
            "Cohen Kappa        0.01\n"
          ]
        }
      ]
    },
    {
      "cell_type": "code",
      "metadata": {
        "id": "w-KM6-yPjYvX"
      },
      "source": [
        "from sklearn.metrics import precision_recall_curve\n",
        "precisions, recalls, thresholds = precision_recall_curve(y_train, y_proba_log[:,1])"
      ],
      "execution_count": 86,
      "outputs": []
    },
    {
      "cell_type": "code",
      "metadata": {
        "colab": {
          "base_uri": "https://localhost:8080/",
          "height": 315
        },
        "id": "V4AyLgyejYtM",
        "outputId": "04b00f29-daff-4e69-f22a-9ca68c136366"
      },
      "source": [
        "plot_precision_vs_recall(precisions, recalls)\n",
        "save_fig(\"precision_vs_recall_plot_optimized_model_dt\")\n",
        "plt.show()"
      ],
      "execution_count": 87,
      "outputs": [
        {
          "output_type": "stream",
          "name": "stdout",
          "text": [
            "Saving figure precision_vs_recall_plot_optimized_model_dt\n"
          ]
        },
        {
          "output_type": "display_data",
          "data": {
            "image/png": "[encoded data removed]",
            "text/plain": [
              "<Figure size 432x288 with 1 Axes>"
            ]
          },
          "metadata": {
            "needs_background": "light"
          }
        }
      ]
    },
    {
      "cell_type": "code",
      "metadata": {
        "colab": {
          "base_uri": "https://localhost:8080/",
          "height": 291
        },
        "id": "l8Qq_oM0jYq9",
        "outputId": "ff59383b-f455-44e9-b971-cb9d1a734049"
      },
      "source": [
        "plot_precision_recall_vs_threshold(precisions, recalls, thresholds)\n",
        "plt.show()"
      ],
      "execution_count": 88,
      "outputs": [
        {
          "output_type": "display_data",
          "data": {
            "image/png": "[encoded data removed]",
            "text/plain": [
              "<Figure size 432x288 with 1 Axes>"
            ]
          },
          "metadata": {
            "needs_background": "light"
          }
        }
      ]
    },
    {
      "cell_type": "code",
      "metadata": {
        "colab": {
          "base_uri": "https://localhost:8080/",
          "height": 315
        },
        "id": "KyBU0JySjYoy",
        "outputId": "4b2b99f5-5c55-4578-abe9-37bb2b7852c1"
      },
      "source": [
        "from sklearn.metrics import roc_curve\n",
        "\n",
        "fpr, tpr, thresholds = roc_curve(y_train, y_proba_log[:,1])\n",
        "\n",
        "plot_roc_curve(fpr, tpr, \"Decision tree\")\n",
        "save_fig(\"roc_curve_plot_optimized_model_dt\")\n",
        "plt.show()"
      ],
      "execution_count": 89,
      "outputs": [
        {
          "output_type": "stream",
          "name": "stdout",
          "text": [
            "Saving figure roc_curve_plot_optimized_model_dt\n"
          ]
        },
        {
          "output_type": "display_data",
          "data": {
            "image/png": "[encoded data removed]",
            "text/plain": [
              "<Figure size 432x288 with 1 Axes>"
            ]
          },
          "metadata": {
            "needs_background": "light"
          }
        }
      ]
    },
    {
      "cell_type": "code",
      "metadata": {
        "colab": {
          "base_uri": "https://localhost:8080/"
        },
        "id": "EhzBuwkGp-2t",
        "outputId": "26e7fa07-63fa-4258-98f3-81e552c661fc"
      },
      "source": [
        "model = SelectFromModel(clf_best_dt, prefit=True)\n",
        "X_new = model.transform(X_train)\n",
        "print(\"Nb of features selected: \", X_new.shape)"
      ],
      "execution_count": 90,
      "outputs": [
        {
          "output_type": "stream",
          "name": "stdout",
          "text": [
            "Nb of features selected:  (5822, 14)\n"
          ]
        }
      ]
    },
    {
      "cell_type": "code",
      "metadata": {
        "colab": {
          "base_uri": "https://localhost:8080/"
        },
        "id": "B1psH3W3p-zG",
        "outputId": "cd797f85-4ac2-4f31-9686-71f8527f0cb6"
      },
      "source": [
        "from sklearn.model_selection import GridSearchCV\n",
        "from scipy.stats import randint\n",
        "\n",
        "param_grid = [\n",
        "        {'max_depth': [5, 8, 10, 15, 20], 'max_features': [5, 8, 13], 'min_samples_leaf': [0.0001, 0.001, 0.01, 0.1, 0.2]},\n",
        "    ]\n",
        "\n",
        "grid_search_rf = GridSearchCV(clf_rf, param_grid, cv=5, scoring='f1', n_jobs=-1)\n",
        "grid_search_rf.fit(X_new, y_train)\n",
        "\n",
        "print(\"F1= \", grid_search_rf.best_score_, grid_search_rf.best_params_)\n",
        "clf_rf2 = grid_search_rf.best_estimator_\n",
        "clf_rf2"
      ],
      "execution_count": 91,
      "outputs": [
        {
          "output_type": "stream",
          "name": "stdout",
          "text": [
            "F1=  0.0927705963395279 {'max_depth': 20, 'max_features': 8, 'min_samples_leaf': 0.0001}\n"
          ]
        },
        {
          "output_type": "execute_result",
          "data": {
            "text/plain": [
              "RandomForestClassifier(bootstrap=True, ccp_alpha=0.0, class_weight=None,\n",
              "                       criterion='gini', max_depth=20, max_features=8,\n",
              "                       max_leaf_nodes=None, max_samples=None,\n",
              "                       min_impurity_decrease=0.0, min_impurity_split=None,\n",
              "                       min_samples_leaf=0.0001, min_samples_split=2,\n",
              "                       min_weight_fraction_leaf=0.0, n_estimators=100,\n",
              "                       n_jobs=-1, oob_score=False, random_state=42, verbose=0,\n",
              "                       warm_start=False)"
            ]
          },
          "metadata": {},
          "execution_count": 91
        }
      ]
    },
    {
      "cell_type": "code",
      "metadata": {
        "colab": {
          "base_uri": "https://localhost:8080/"
        },
        "id": "5orsQVEap-wQ",
        "outputId": "6cac6776-cc97-42d1-e66a-3a70aab10adb"
      },
      "source": [
        "cvres_grid_rf = grid_search_rf.cv_results_\n",
        "for mean_score, params in zip(cvres_grid_rf[\"mean_test_score\"], cvres_grid_rf[\"params\"]):\n",
        "    print(\"F1= \", mean_score, params)"
      ],
      "execution_count": 92,
      "outputs": [
        {
          "output_type": "stream",
          "name": "stdout",
          "text": [
            "F1=  0.005714285714285714 {'max_depth': 5, 'max_features': 5, 'min_samples_leaf': 0.0001}\n",
            "F1=  0.0 {'max_depth': 5, 'max_features': 5, 'min_samples_leaf': 0.001}\n",
            "F1=  0.0 {'max_depth': 5, 'max_features': 5, 'min_samples_leaf': 0.01}\n",
            "F1=  0.0 {'max_depth': 5, 'max_features': 5, 'min_samples_leaf': 0.1}\n",
            "F1=  0.0 {'max_depth': 5, 'max_features': 5, 'min_samples_leaf': 0.2}\n",
            "F1=  0.011428571428571429 {'max_depth': 5, 'max_features': 8, 'min_samples_leaf': 0.0001}\n",
            "F1=  0.0 {'max_depth': 5, 'max_features': 8, 'min_samples_leaf': 0.001}\n",
            "F1=  0.0 {'max_depth': 5, 'max_features': 8, 'min_samples_leaf': 0.01}\n",
            "F1=  0.0 {'max_depth': 5, 'max_features': 8, 'min_samples_leaf': 0.1}\n",
            "F1=  0.0 {'max_depth': 5, 'max_features': 8, 'min_samples_leaf': 0.2}\n",
            "F1=  0.00563380281690141 {'max_depth': 5, 'max_features': 13, 'min_samples_leaf': 0.0001}\n",
            "F1=  0.0 {'max_depth': 5, 'max_features': 13, 'min_samples_leaf': 0.001}\n",
            "F1=  0.0 {'max_depth': 5, 'max_features': 13, 'min_samples_leaf': 0.01}\n",
            "F1=  0.0 {'max_depth': 5, 'max_features': 13, 'min_samples_leaf': 0.1}\n",
            "F1=  0.0 {'max_depth': 5, 'max_features': 13, 'min_samples_leaf': 0.2}\n",
            "F1=  0.011348088531187123 {'max_depth': 8, 'max_features': 5, 'min_samples_leaf': 0.0001}\n",
            "F1=  0.0 {'max_depth': 8, 'max_features': 5, 'min_samples_leaf': 0.001}\n",
            "F1=  0.0 {'max_depth': 8, 'max_features': 5, 'min_samples_leaf': 0.01}\n",
            "F1=  0.0 {'max_depth': 8, 'max_features': 5, 'min_samples_leaf': 0.1}\n",
            "F1=  0.0 {'max_depth': 8, 'max_features': 5, 'min_samples_leaf': 0.2}\n",
            "F1=  0.0165226917057903 {'max_depth': 8, 'max_features': 8, 'min_samples_leaf': 0.0001}\n",
            "F1=  0.0 {'max_depth': 8, 'max_features': 8, 'min_samples_leaf': 0.001}\n",
            "F1=  0.0 {'max_depth': 8, 'max_features': 8, 'min_samples_leaf': 0.01}\n",
            "F1=  0.0 {'max_depth': 8, 'max_features': 8, 'min_samples_leaf': 0.1}\n",
            "F1=  0.0 {'max_depth': 8, 'max_features': 8, 'min_samples_leaf': 0.2}\n",
            "F1=  0.03748127074442864 {'max_depth': 8, 'max_features': 13, 'min_samples_leaf': 0.0001}\n",
            "F1=  0.0 {'max_depth': 8, 'max_features': 13, 'min_samples_leaf': 0.001}\n",
            "F1=  0.0 {'max_depth': 8, 'max_features': 13, 'min_samples_leaf': 0.01}\n",
            "F1=  0.0 {'max_depth': 8, 'max_features': 13, 'min_samples_leaf': 0.1}\n",
            "F1=  0.0 {'max_depth': 8, 'max_features': 13, 'min_samples_leaf': 0.2}\n",
            "F1=  0.042570706287132776 {'max_depth': 10, 'max_features': 5, 'min_samples_leaf': 0.0001}\n",
            "F1=  0.0 {'max_depth': 10, 'max_features': 5, 'min_samples_leaf': 0.001}\n",
            "F1=  0.0 {'max_depth': 10, 'max_features': 5, 'min_samples_leaf': 0.01}\n",
            "F1=  0.0 {'max_depth': 10, 'max_features': 5, 'min_samples_leaf': 0.1}\n",
            "F1=  0.0 {'max_depth': 10, 'max_features': 5, 'min_samples_leaf': 0.2}\n",
            "F1=  0.051408626843618424 {'max_depth': 10, 'max_features': 8, 'min_samples_leaf': 0.0001}\n",
            "F1=  0.0 {'max_depth': 10, 'max_features': 8, 'min_samples_leaf': 0.001}\n",
            "F1=  0.0 {'max_depth': 10, 'max_features': 8, 'min_samples_leaf': 0.01}\n",
            "F1=  0.0 {'max_depth': 10, 'max_features': 8, 'min_samples_leaf': 0.1}\n",
            "F1=  0.0 {'max_depth': 10, 'max_features': 8, 'min_samples_leaf': 0.2}\n",
            "F1=  0.054545640118395536 {'max_depth': 10, 'max_features': 13, 'min_samples_leaf': 0.0001}\n",
            "F1=  0.011039208222306815 {'max_depth': 10, 'max_features': 13, 'min_samples_leaf': 0.001}\n",
            "F1=  0.0 {'max_depth': 10, 'max_features': 13, 'min_samples_leaf': 0.01}\n",
            "F1=  0.0 {'max_depth': 10, 'max_features': 13, 'min_samples_leaf': 0.1}\n",
            "F1=  0.0 {'max_depth': 10, 'max_features': 13, 'min_samples_leaf': 0.2}\n",
            "F1=  0.0821415443982246 {'max_depth': 15, 'max_features': 5, 'min_samples_leaf': 0.0001}\n",
            "F1=  0.0 {'max_depth': 15, 'max_features': 5, 'min_samples_leaf': 0.001}\n",
            "F1=  0.0 {'max_depth': 15, 'max_features': 5, 'min_samples_leaf': 0.01}\n",
            "F1=  0.0 {'max_depth': 15, 'max_features': 5, 'min_samples_leaf': 0.1}\n",
            "F1=  0.0 {'max_depth': 15, 'max_features': 5, 'min_samples_leaf': 0.2}\n",
            "F1=  0.07602036126057055 {'max_depth': 15, 'max_features': 8, 'min_samples_leaf': 0.0001}\n",
            "F1=  0.00563380281690141 {'max_depth': 15, 'max_features': 8, 'min_samples_leaf': 0.001}\n",
            "F1=  0.0 {'max_depth': 15, 'max_features': 8, 'min_samples_leaf': 0.01}\n",
            "F1=  0.0 {'max_depth': 15, 'max_features': 8, 'min_samples_leaf': 0.1}\n",
            "F1=  0.0 {'max_depth': 15, 'max_features': 8, 'min_samples_leaf': 0.2}\n",
            "F1=  0.0731670708232345 {'max_depth': 15, 'max_features': 13, 'min_samples_leaf': 0.0001}\n",
            "F1=  0.01608187134502924 {'max_depth': 15, 'max_features': 13, 'min_samples_leaf': 0.001}\n",
            "F1=  0.0 {'max_depth': 15, 'max_features': 13, 'min_samples_leaf': 0.01}\n",
            "F1=  0.0 {'max_depth': 15, 'max_features': 13, 'min_samples_leaf': 0.1}\n",
            "F1=  0.0 {'max_depth': 15, 'max_features': 13, 'min_samples_leaf': 0.2}\n",
            "F1=  0.09103556587687558 {'max_depth': 20, 'max_features': 5, 'min_samples_leaf': 0.0001}\n",
            "F1=  0.0 {'max_depth': 20, 'max_features': 5, 'min_samples_leaf': 0.001}\n",
            "F1=  0.0 {'max_depth': 20, 'max_features': 5, 'min_samples_leaf': 0.01}\n",
            "F1=  0.0 {'max_depth': 20, 'max_features': 5, 'min_samples_leaf': 0.1}\n",
            "F1=  0.0 {'max_depth': 20, 'max_features': 5, 'min_samples_leaf': 0.2}\n",
            "F1=  0.0927705963395279 {'max_depth': 20, 'max_features': 8, 'min_samples_leaf': 0.0001}\n",
            "F1=  0.00563380281690141 {'max_depth': 20, 'max_features': 8, 'min_samples_leaf': 0.001}\n",
            "F1=  0.0 {'max_depth': 20, 'max_features': 8, 'min_samples_leaf': 0.01}\n",
            "F1=  0.0 {'max_depth': 20, 'max_features': 8, 'min_samples_leaf': 0.1}\n",
            "F1=  0.0 {'max_depth': 20, 'max_features': 8, 'min_samples_leaf': 0.2}\n",
            "F1=  0.08979438854834587 {'max_depth': 20, 'max_features': 13, 'min_samples_leaf': 0.0001}\n",
            "F1=  0.016160118606375094 {'max_depth': 20, 'max_features': 13, 'min_samples_leaf': 0.001}\n",
            "F1=  0.0 {'max_depth': 20, 'max_features': 13, 'min_samples_leaf': 0.01}\n",
            "F1=  0.0 {'max_depth': 20, 'max_features': 13, 'min_samples_leaf': 0.1}\n",
            "F1=  0.0 {'max_depth': 20, 'max_features': 13, 'min_samples_leaf': 0.2}\n"
          ]
        }
      ]
    },
    {
      "cell_type": "code",
      "metadata": {
        "colab": {
          "base_uri": "https://localhost:8080/"
        },
        "id": "fNPMmLXzqKo9",
        "outputId": "3bcd720d-eb56-4904-ab4a-de1950578cfd"
      },
      "source": [
        "clf_best_rf = grid_search_rf.best_estimator_\n",
        "clf_best_rf"
      ],
      "execution_count": 93,
      "outputs": [
        {
          "output_type": "execute_result",
          "data": {
            "text/plain": [
              "RandomForestClassifier(bootstrap=True, ccp_alpha=0.0, class_weight=None,\n",
              "                       criterion='gini', max_depth=20, max_features=8,\n",
              "                       max_leaf_nodes=None, max_samples=None,\n",
              "                       min_impurity_decrease=0.0, min_impurity_split=None,\n",
              "                       min_samples_leaf=0.0001, min_samples_split=2,\n",
              "                       min_weight_fraction_leaf=0.0, n_estimators=100,\n",
              "                       n_jobs=-1, oob_score=False, random_state=42, verbose=0,\n",
              "                       warm_start=False)"
            ]
          },
          "metadata": {},
          "execution_count": 93
        }
      ]
    },
    {
      "cell_type": "code",
      "metadata": {
        "id": "myvHUpVnqKlr"
      },
      "source": [
        "y_pred_rf = cross_val_predict(clf_best_rf, X_new, y_train, cv=10, n_jobs=-1)\n",
        "y_proba_rf = cross_val_predict(clf_best_rf, X_new, y_train, cv=10, method='predict_proba', n_jobs=-1)\n",
        "ranking_profit_rf = create_ranking_profit_df(\"Random Forest\", y_train, y_proba_rf)"
      ],
      "execution_count": 94,
      "outputs": []
    },
    {
      "cell_type": "code",
      "metadata": {
        "colab": {
          "base_uri": "https://localhost:8080/"
        },
        "id": "vVHrb7MJqKhf",
        "outputId": "b1bc2222-ddc2-44f1-f0b6-70d8646c6aed"
      },
      "source": [
        "cm_rf = confusion_matrix(y_train, y_pred_rf)\n",
        "display_conf_matrix(y_train, y_pred_rf)\n",
        "display_perf_metrics(y_train, y_pred_rf, y_proba_rf[:,1])\n"
      ],
      "execution_count": 95,
      "outputs": [
        {
          "output_type": "stream",
          "name": "stdout",
          "text": [
            "[[5337  137]\n",
            " [ 326   22]]\n",
            "Accuracy           92.05%\n",
            "Precision          13.84%\n",
            "Recall             6.32%\n",
            "F1                 0.09\n",
            "AUC                0.72\n",
            "Cohen Kappa        0.05\n"
          ]
        }
      ]
    },
    {
      "cell_type": "code",
      "metadata": {
        "id": "gCA_0iwpqKa_"
      },
      "source": [
        "from sklearn.metrics import precision_recall_curve\n",
        "precisions, recalls, thresholds = precision_recall_curve(y_train, y_proba_rf[:,1])"
      ],
      "execution_count": 97,
      "outputs": []
    },
    {
      "cell_type": "code",
      "metadata": {
        "colab": {
          "base_uri": "https://localhost:8080/",
          "height": 315
        },
        "id": "srh702xnqKNv",
        "outputId": "246493e3-ea21-442d-dba1-dec84a61e33a"
      },
      "source": [
        "plot_precision_vs_recall(precisions, recalls)\n",
        "save_fig(\"precision_vs_recall_plot_optimized_model_rf\")\n",
        "plt.show()"
      ],
      "execution_count": 96,
      "outputs": [
        {
          "output_type": "stream",
          "name": "stdout",
          "text": [
            "Saving figure precision_vs_recall_plot_optimized_model_rf\n"
          ]
        },
        {
          "output_type": "display_data",
          "data": {
            "image/png": "[encoded data removed]",
            "text/plain": [
              "<Figure size 432x288 with 1 Axes>"
            ]
          },
          "metadata": {
            "needs_background": "light"
          }
        }
      ]
    },
    {
      "cell_type": "code",
      "metadata": {
        "colab": {
          "base_uri": "https://localhost:8080/",
          "height": 315
        },
        "id": "vCyt-86HqX33",
        "outputId": "618a6edd-359e-4b42-df59-8632c7aa541e"
      },
      "source": [
        "plot_precision_recall_vs_threshold(precisions, recalls, thresholds)\n",
        "save_fig(\"precision_recall_vs_threshold_plot_optimized_model_rf\")\n",
        "plt.show()"
      ],
      "execution_count": 98,
      "outputs": [
        {
          "output_type": "stream",
          "name": "stdout",
          "text": [
            "Saving figure precision_recall_vs_threshold_plot_optimized_model_rf\n"
          ]
        },
        {
          "output_type": "display_data",
          "data": {
            "image/png": "[encoded data removed]",
            "text/plain": [
              "<Figure size 432x288 with 1 Axes>"
            ]
          },
          "metadata": {
            "needs_background": "light"
          }
        }
      ]
    },
    {
      "cell_type": "code",
      "metadata": {
        "colab": {
          "base_uri": "https://localhost:8080/",
          "height": 315
        },
        "id": "PXOvwppnqX1V",
        "outputId": "c58a3505-25ef-4976-cbb6-c8aed42772a0"
      },
      "source": [
        "from sklearn.metrics import roc_curve\n",
        "\n",
        "fpr, tpr, thresholds = roc_curve(y_train, y_proba_rf[:,1])\n",
        "\n",
        "plot_roc_curve(fpr, tpr, \"Decision tree\")\n",
        "save_fig(\"roc_curve_plot_optimized_model_rf\")\n",
        "plt.show()"
      ],
      "execution_count": 99,
      "outputs": [
        {
          "output_type": "stream",
          "name": "stdout",
          "text": [
            "Saving figure roc_curve_plot_optimized_model_rf\n"
          ]
        },
        {
          "output_type": "display_data",
          "data": {
            "image/png": "[encoded data removed]",
            "text/plain": [
              "<Figure size 432x288 with 1 Axes>"
            ]
          },
          "metadata": {
            "needs_background": "light"
          }
        }
      ]
    },
    {
      "cell_type": "code",
      "metadata": {
        "colab": {
          "base_uri": "https://localhost:8080/",
          "height": 302
        },
        "id": "gqsGIgkfqXzu",
        "outputId": "6749cffa-b259-41cd-af33-2c552f740e2a"
      },
      "source": [
        "from sklearn.model_selection import learning_curve\n",
        "from sklearn.model_selection import ShuffleSplit\n",
        "\n",
        "title = \"Learning Curves (Decision Tree)\"\n",
        "\n",
        "plot_learning_curve(clf_best_dt, title, X_train, y_train, (0.8, 1.01), cv=10, n_jobs=7, train_sizes=[ 0.1, 0.33, 0.55, 0.78, 1.])\n",
        "\n",
        "plt.show()"
      ],
      "execution_count": 100,
      "outputs": [
        {
          "output_type": "display_data",
          "data": {
            "image/png": "[encoded data removed]",
            "text/plain": [
              "<Figure size 432x288 with 1 Axes>"
            ]
          },
          "metadata": {
            "needs_background": "light"
          }
        }
      ]
    },
    {
      "cell_type": "code",
      "metadata": {
        "colab": {
          "base_uri": "https://localhost:8080/",
          "height": 1000
        },
        "id": "b75DhrBSqXw_",
        "outputId": "b4b267db-d94c-41f7-c6db-81f96555a0f9"
      },
      "source": [
        "from sklearn.model_selection import learning_curve\n",
        "from sklearn.model_selection import ShuffleSplit\n",
        "\n",
        "title = \"Learning Curves (Logistic Regression)\"\n",
        "\n",
        "plot_learning_curve(clf_best_log, title, X_train, y_train, (0.8, 1.01), cv=10, n_jobs=1, train_sizes=[ 0.1, 0.33, 0.55, 0.78, 1.])\n",
        "\n",
        "plt.show()"
      ],
      "execution_count": 101,
      "outputs": [
        {
          "output_type": "stream",
          "name": "stderr",
          "text": [
            "/usr/local/lib/python3.7/dist-packages/sklearn/linear_model/_logistic.py:1539: UserWarning: 'n_jobs' > 1 does not have any effect when 'solver' is set to 'liblinear'. Got 'n_jobs' = 2.\n",
            "  \" = {}.\".format(effective_n_jobs(self.n_jobs)))\n",
            "/usr/local/lib/python3.7/dist-packages/sklearn/linear_model/_logistic.py:1539: UserWarning: 'n_jobs' > 1 does not have any effect when 'solver' is set to 'liblinear'. Got 'n_jobs' = 2.\n",
            "  \" = {}.\".format(effective_n_jobs(self.n_jobs)))\n",
            "/usr/local/lib/python3.7/dist-packages/sklearn/linear_model/_logistic.py:1539: UserWarning: 'n_jobs' > 1 does not have any effect when 'solver' is set to 'liblinear'. Got 'n_jobs' = 2.\n",
            "  \" = {}.\".format(effective_n_jobs(self.n_jobs)))\n",
            "/usr/local/lib/python3.7/dist-packages/sklearn/linear_model/_logistic.py:1539: UserWarning: 'n_jobs' > 1 does not have any effect when 'solver' is set to 'liblinear'. Got 'n_jobs' = 2.\n",
            "  \" = {}.\".format(effective_n_jobs(self.n_jobs)))\n",
            "/usr/local/lib/python3.7/dist-packages/sklearn/linear_model/_logistic.py:1539: UserWarning: 'n_jobs' > 1 does not have any effect when 'solver' is set to 'liblinear'. Got 'n_jobs' = 2.\n",
            "  \" = {}.\".format(effective_n_jobs(self.n_jobs)))\n",
            "/usr/local/lib/python3.7/dist-packages/sklearn/linear_model/_logistic.py:1539: UserWarning: 'n_jobs' > 1 does not have any effect when 'solver' is set to 'liblinear'. Got 'n_jobs' = 2.\n",
            "  \" = {}.\".format(effective_n_jobs(self.n_jobs)))\n",
            "/usr/local/lib/python3.7/dist-packages/sklearn/linear_model/_logistic.py:1539: UserWarning: 'n_jobs' > 1 does not have any effect when 'solver' is set to 'liblinear'. Got 'n_jobs' = 2.\n",
            "  \" = {}.\".format(effective_n_jobs(self.n_jobs)))\n",
            "/usr/local/lib/python3.7/dist-packages/sklearn/linear_model/_logistic.py:1539: UserWarning: 'n_jobs' > 1 does not have any effect when 'solver' is set to 'liblinear'. Got 'n_jobs' = 2.\n",
            "  \" = {}.\".format(effective_n_jobs(self.n_jobs)))\n",
            "/usr/local/lib/python3.7/dist-packages/sklearn/linear_model/_logistic.py:1539: UserWarning: 'n_jobs' > 1 does not have any effect when 'solver' is set to 'liblinear'. Got 'n_jobs' = 2.\n",
            "  \" = {}.\".format(effective_n_jobs(self.n_jobs)))\n",
            "/usr/local/lib/python3.7/dist-packages/sklearn/linear_model/_logistic.py:1539: UserWarning: 'n_jobs' > 1 does not have any effect when 'solver' is set to 'liblinear'. Got 'n_jobs' = 2.\n",
            "  \" = {}.\".format(effective_n_jobs(self.n_jobs)))\n",
            "/usr/local/lib/python3.7/dist-packages/sklearn/linear_model/_logistic.py:1539: UserWarning: 'n_jobs' > 1 does not have any effect when 'solver' is set to 'liblinear'. Got 'n_jobs' = 2.\n",
            "  \" = {}.\".format(effective_n_jobs(self.n_jobs)))\n",
            "/usr/local/lib/python3.7/dist-packages/sklearn/linear_model/_logistic.py:1539: UserWarning: 'n_jobs' > 1 does not have any effect when 'solver' is set to 'liblinear'. Got 'n_jobs' = 2.\n",
            "  \" = {}.\".format(effective_n_jobs(self.n_jobs)))\n",
            "/usr/local/lib/python3.7/dist-packages/sklearn/linear_model/_logistic.py:1539: UserWarning: 'n_jobs' > 1 does not have any effect when 'solver' is set to 'liblinear'. Got 'n_jobs' = 2.\n",
            "  \" = {}.\".format(effective_n_jobs(self.n_jobs)))\n",
            "/usr/local/lib/python3.7/dist-packages/sklearn/linear_model/_logistic.py:1539: UserWarning: 'n_jobs' > 1 does not have any effect when 'solver' is set to 'liblinear'. Got 'n_jobs' = 2.\n",
            "  \" = {}.\".format(effective_n_jobs(self.n_jobs)))\n",
            "/usr/local/lib/python3.7/dist-packages/sklearn/linear_model/_logistic.py:1539: UserWarning: 'n_jobs' > 1 does not have any effect when 'solver' is set to 'liblinear'. Got 'n_jobs' = 2.\n",
            "  \" = {}.\".format(effective_n_jobs(self.n_jobs)))\n",
            "/usr/local/lib/python3.7/dist-packages/sklearn/linear_model/_logistic.py:1539: UserWarning: 'n_jobs' > 1 does not have any effect when 'solver' is set to 'liblinear'. Got 'n_jobs' = 2.\n",
            "  \" = {}.\".format(effective_n_jobs(self.n_jobs)))\n",
            "/usr/local/lib/python3.7/dist-packages/sklearn/linear_model/_logistic.py:1539: UserWarning: 'n_jobs' > 1 does not have any effect when 'solver' is set to 'liblinear'. Got 'n_jobs' = 2.\n",
            "  \" = {}.\".format(effective_n_jobs(self.n_jobs)))\n",
            "/usr/local/lib/python3.7/dist-packages/sklearn/linear_model/_logistic.py:1539: UserWarning: 'n_jobs' > 1 does not have any effect when 'solver' is set to 'liblinear'. Got 'n_jobs' = 2.\n",
            "  \" = {}.\".format(effective_n_jobs(self.n_jobs)))\n",
            "/usr/local/lib/python3.7/dist-packages/sklearn/linear_model/_logistic.py:1539: UserWarning: 'n_jobs' > 1 does not have any effect when 'solver' is set to 'liblinear'. Got 'n_jobs' = 2.\n",
            "  \" = {}.\".format(effective_n_jobs(self.n_jobs)))\n",
            "/usr/local/lib/python3.7/dist-packages/sklearn/linear_model/_logistic.py:1539: UserWarning: 'n_jobs' > 1 does not have any effect when 'solver' is set to 'liblinear'. Got 'n_jobs' = 2.\n",
            "  \" = {}.\".format(effective_n_jobs(self.n_jobs)))\n",
            "/usr/local/lib/python3.7/dist-packages/sklearn/linear_model/_logistic.py:1539: UserWarning: 'n_jobs' > 1 does not have any effect when 'solver' is set to 'liblinear'. Got 'n_jobs' = 2.\n",
            "  \" = {}.\".format(effective_n_jobs(self.n_jobs)))\n",
            "/usr/local/lib/python3.7/dist-packages/sklearn/linear_model/_logistic.py:1539: UserWarning: 'n_jobs' > 1 does not have any effect when 'solver' is set to 'liblinear'. Got 'n_jobs' = 2.\n",
            "  \" = {}.\".format(effective_n_jobs(self.n_jobs)))\n",
            "/usr/local/lib/python3.7/dist-packages/sklearn/linear_model/_logistic.py:1539: UserWarning: 'n_jobs' > 1 does not have any effect when 'solver' is set to 'liblinear'. Got 'n_jobs' = 2.\n",
            "  \" = {}.\".format(effective_n_jobs(self.n_jobs)))\n",
            "/usr/local/lib/python3.7/dist-packages/sklearn/linear_model/_logistic.py:1539: UserWarning: 'n_jobs' > 1 does not have any effect when 'solver' is set to 'liblinear'. Got 'n_jobs' = 2.\n",
            "  \" = {}.\".format(effective_n_jobs(self.n_jobs)))\n",
            "/usr/local/lib/python3.7/dist-packages/sklearn/linear_model/_logistic.py:1539: UserWarning: 'n_jobs' > 1 does not have any effect when 'solver' is set to 'liblinear'. Got 'n_jobs' = 2.\n",
            "  \" = {}.\".format(effective_n_jobs(self.n_jobs)))\n",
            "/usr/local/lib/python3.7/dist-packages/sklearn/linear_model/_logistic.py:1539: UserWarning: 'n_jobs' > 1 does not have any effect when 'solver' is set to 'liblinear'. Got 'n_jobs' = 2.\n",
            "  \" = {}.\".format(effective_n_jobs(self.n_jobs)))\n",
            "/usr/local/lib/python3.7/dist-packages/sklearn/linear_model/_logistic.py:1539: UserWarning: 'n_jobs' > 1 does not have any effect when 'solver' is set to 'liblinear'. Got 'n_jobs' = 2.\n",
            "  \" = {}.\".format(effective_n_jobs(self.n_jobs)))\n",
            "/usr/local/lib/python3.7/dist-packages/sklearn/linear_model/_logistic.py:1539: UserWarning: 'n_jobs' > 1 does not have any effect when 'solver' is set to 'liblinear'. Got 'n_jobs' = 2.\n",
            "  \" = {}.\".format(effective_n_jobs(self.n_jobs)))\n",
            "/usr/local/lib/python3.7/dist-packages/sklearn/linear_model/_logistic.py:1539: UserWarning: 'n_jobs' > 1 does not have any effect when 'solver' is set to 'liblinear'. Got 'n_jobs' = 2.\n",
            "  \" = {}.\".format(effective_n_jobs(self.n_jobs)))\n",
            "/usr/local/lib/python3.7/dist-packages/sklearn/linear_model/_logistic.py:1539: UserWarning: 'n_jobs' > 1 does not have any effect when 'solver' is set to 'liblinear'. Got 'n_jobs' = 2.\n",
            "  \" = {}.\".format(effective_n_jobs(self.n_jobs)))\n",
            "/usr/local/lib/python3.7/dist-packages/sklearn/linear_model/_logistic.py:1539: UserWarning: 'n_jobs' > 1 does not have any effect when 'solver' is set to 'liblinear'. Got 'n_jobs' = 2.\n",
            "  \" = {}.\".format(effective_n_jobs(self.n_jobs)))\n",
            "/usr/local/lib/python3.7/dist-packages/sklearn/linear_model/_logistic.py:1539: UserWarning: 'n_jobs' > 1 does not have any effect when 'solver' is set to 'liblinear'. Got 'n_jobs' = 2.\n",
            "  \" = {}.\".format(effective_n_jobs(self.n_jobs)))\n",
            "/usr/local/lib/python3.7/dist-packages/sklearn/linear_model/_logistic.py:1539: UserWarning: 'n_jobs' > 1 does not have any effect when 'solver' is set to 'liblinear'. Got 'n_jobs' = 2.\n",
            "  \" = {}.\".format(effective_n_jobs(self.n_jobs)))\n",
            "/usr/local/lib/python3.7/dist-packages/sklearn/linear_model/_logistic.py:1539: UserWarning: 'n_jobs' > 1 does not have any effect when 'solver' is set to 'liblinear'. Got 'n_jobs' = 2.\n",
            "  \" = {}.\".format(effective_n_jobs(self.n_jobs)))\n",
            "/usr/local/lib/python3.7/dist-packages/sklearn/linear_model/_logistic.py:1539: UserWarning: 'n_jobs' > 1 does not have any effect when 'solver' is set to 'liblinear'. Got 'n_jobs' = 2.\n",
            "  \" = {}.\".format(effective_n_jobs(self.n_jobs)))\n",
            "/usr/local/lib/python3.7/dist-packages/sklearn/linear_model/_logistic.py:1539: UserWarning: 'n_jobs' > 1 does not have any effect when 'solver' is set to 'liblinear'. Got 'n_jobs' = 2.\n",
            "  \" = {}.\".format(effective_n_jobs(self.n_jobs)))\n",
            "/usr/local/lib/python3.7/dist-packages/sklearn/linear_model/_logistic.py:1539: UserWarning: 'n_jobs' > 1 does not have any effect when 'solver' is set to 'liblinear'. Got 'n_jobs' = 2.\n",
            "  \" = {}.\".format(effective_n_jobs(self.n_jobs)))\n",
            "/usr/local/lib/python3.7/dist-packages/sklearn/linear_model/_logistic.py:1539: UserWarning: 'n_jobs' > 1 does not have any effect when 'solver' is set to 'liblinear'. Got 'n_jobs' = 2.\n",
            "  \" = {}.\".format(effective_n_jobs(self.n_jobs)))\n",
            "/usr/local/lib/python3.7/dist-packages/sklearn/linear_model/_logistic.py:1539: UserWarning: 'n_jobs' > 1 does not have any effect when 'solver' is set to 'liblinear'. Got 'n_jobs' = 2.\n",
            "  \" = {}.\".format(effective_n_jobs(self.n_jobs)))\n",
            "/usr/local/lib/python3.7/dist-packages/sklearn/linear_model/_logistic.py:1539: UserWarning: 'n_jobs' > 1 does not have any effect when 'solver' is set to 'liblinear'. Got 'n_jobs' = 2.\n",
            "  \" = {}.\".format(effective_n_jobs(self.n_jobs)))\n",
            "/usr/local/lib/python3.7/dist-packages/sklearn/linear_model/_logistic.py:1539: UserWarning: 'n_jobs' > 1 does not have any effect when 'solver' is set to 'liblinear'. Got 'n_jobs' = 2.\n",
            "  \" = {}.\".format(effective_n_jobs(self.n_jobs)))\n",
            "/usr/local/lib/python3.7/dist-packages/sklearn/linear_model/_logistic.py:1539: UserWarning: 'n_jobs' > 1 does not have any effect when 'solver' is set to 'liblinear'. Got 'n_jobs' = 2.\n",
            "  \" = {}.\".format(effective_n_jobs(self.n_jobs)))\n",
            "/usr/local/lib/python3.7/dist-packages/sklearn/linear_model/_logistic.py:1539: UserWarning: 'n_jobs' > 1 does not have any effect when 'solver' is set to 'liblinear'. Got 'n_jobs' = 2.\n",
            "  \" = {}.\".format(effective_n_jobs(self.n_jobs)))\n",
            "/usr/local/lib/python3.7/dist-packages/sklearn/linear_model/_logistic.py:1539: UserWarning: 'n_jobs' > 1 does not have any effect when 'solver' is set to 'liblinear'. Got 'n_jobs' = 2.\n",
            "  \" = {}.\".format(effective_n_jobs(self.n_jobs)))\n",
            "/usr/local/lib/python3.7/dist-packages/sklearn/linear_model/_logistic.py:1539: UserWarning: 'n_jobs' > 1 does not have any effect when 'solver' is set to 'liblinear'. Got 'n_jobs' = 2.\n",
            "  \" = {}.\".format(effective_n_jobs(self.n_jobs)))\n",
            "/usr/local/lib/python3.7/dist-packages/sklearn/linear_model/_logistic.py:1539: UserWarning: 'n_jobs' > 1 does not have any effect when 'solver' is set to 'liblinear'. Got 'n_jobs' = 2.\n",
            "  \" = {}.\".format(effective_n_jobs(self.n_jobs)))\n",
            "/usr/local/lib/python3.7/dist-packages/sklearn/linear_model/_logistic.py:1539: UserWarning: 'n_jobs' > 1 does not have any effect when 'solver' is set to 'liblinear'. Got 'n_jobs' = 2.\n",
            "  \" = {}.\".format(effective_n_jobs(self.n_jobs)))\n",
            "/usr/local/lib/python3.7/dist-packages/sklearn/linear_model/_logistic.py:1539: UserWarning: 'n_jobs' > 1 does not have any effect when 'solver' is set to 'liblinear'. Got 'n_jobs' = 2.\n",
            "  \" = {}.\".format(effective_n_jobs(self.n_jobs)))\n",
            "/usr/local/lib/python3.7/dist-packages/sklearn/linear_model/_logistic.py:1539: UserWarning: 'n_jobs' > 1 does not have any effect when 'solver' is set to 'liblinear'. Got 'n_jobs' = 2.\n",
            "  \" = {}.\".format(effective_n_jobs(self.n_jobs)))\n",
            "/usr/local/lib/python3.7/dist-packages/sklearn/linear_model/_logistic.py:1539: UserWarning: 'n_jobs' > 1 does not have any effect when 'solver' is set to 'liblinear'. Got 'n_jobs' = 2.\n",
            "  \" = {}.\".format(effective_n_jobs(self.n_jobs)))\n"
          ]
        },
        {
          "output_type": "display_data",
          "data": {
            "image/png": "[encoded data removed]",
            "text/plain": [
              "<Figure size 432x288 with 1 Axes>"
            ]
          },
          "metadata": {
            "needs_background": "light"
          }
        }
      ]
    },
    {
      "cell_type": "code",
      "metadata": {
        "colab": {
          "base_uri": "https://localhost:8080/",
          "height": 302
        },
        "id": "iL-VktqlqXuQ",
        "outputId": "5b5d6d28-e2a7-4b49-f88a-78a044bce8a2"
      },
      "source": [
        "from sklearn.model_selection import learning_curve\n",
        "from sklearn.model_selection import ShuffleSplit\n",
        "\n",
        "title = \"Learning Curves (Random Forest)\"\n",
        "plot_learning_curve(clf_best_rf, title, X_train, y_train, (0.8, 1.01), cv=10, n_jobs=7, train_sizes=[ 0.1, 0.33, 0.55, 0.78, 1.])\n",
        "\n",
        "plt.show()"
      ],
      "execution_count": 102,
      "outputs": [
        {
          "output_type": "display_data",
          "data": {
            "image/png": "[encoded data removed]",
            "text/plain": [
              "<Figure size 432x288 with 1 Axes>"
            ]
          },
          "metadata": {
            "needs_background": "light"
          }
        }
      ]
    },
    {
      "cell_type": "code",
      "metadata": {
        "colab": {
          "base_uri": "https://localhost:8080/"
        },
        "id": "-rAgtygUqXr6",
        "outputId": "b675b5a4-0f44-4bbc-8b69-7abc2345baf9"
      },
      "source": [
        "print(cm_dt)\n",
        "print(cm_log)\n",
        "print(cm_rf)"
      ],
      "execution_count": 103,
      "outputs": [
        {
          "output_type": "stream",
          "name": "stdout",
          "text": [
            "[[5460   14]\n",
            " [ 344    4]]\n",
            "[[5460   14]\n",
            " [ 346    2]]\n",
            "[[5337  137]\n",
            " [ 326   22]]\n"
          ]
        }
      ]
    },
    {
      "cell_type": "code",
      "metadata": {
        "colab": {
          "base_uri": "https://localhost:8080/"
        },
        "id": "9-kNSG7BqXpL",
        "outputId": "57ee91ab-263e-4d36-aacf-35931f0435d7"
      },
      "source": [
        "print('Compare Profit from Models')\n",
        "print('-------------------------------------')\n",
        "\n",
        "Profit_DT = calculate_profit(cm_dt, FN_amount, TP_amount, TN_amount, FP_amount)\n",
        "print('Decision Tree Profit:        ' + str(Profit_DT))\n",
        "\n",
        "Profit_LOG = calculate_profit(cm_log, FN_amount, TP_amount, TN_amount, FP_amount)\n",
        "print('Logistic Regression Profit:  ' + str(Profit_LOG))\n",
        "\n",
        "Profit_RF = calculate_profit(cm_rf, FN_amount, TP_amount, TN_amount, FP_amount)\n",
        "print('Random Forest Profit:        ' + str(Profit_RF))"
      ],
      "execution_count": 104,
      "outputs": [
        {
          "output_type": "stream",
          "name": "stdout",
          "text": [
            "Compare Profit from Models\n",
            "-------------------------------------\n",
            "Decision Tree Profit:        220\n",
            "Logistic Regression Profit:  40\n",
            "Random Forest Profit:        610\n"
          ]
        }
      ]
    },
    {
      "cell_type": "code",
      "metadata": {
        "colab": {
          "base_uri": "https://localhost:8080/",
          "height": 459
        },
        "id": "h3Y2YfIKqXm7",
        "outputId": "4ae37e54-a4a9-495d-de49-626ad907f31a"
      },
      "source": [
        "plt.figure(figsize=(8, 6))\n",
        "plot_profit_curve(\"Decision tree\", ranking_profit_dt)\n",
        "plot_profit_curve(\"Logistic regression\", ranking_profit_log)\n",
        "plot_profit_curve(\"Random forest\", ranking_profit_rf)\n",
        "save_fig(\"profit_curve\")\n",
        "plt.show()"
      ],
      "execution_count": 105,
      "outputs": [
        {
          "output_type": "stream",
          "name": "stdout",
          "text": [
            "Saving figure profit_curve\n"
          ]
        },
        {
          "output_type": "display_data",
          "data": {
            "image/png": "[encoded data removed]",
            "text/plain": [
              "<Figure size 576x432 with 1 Axes>"
            ]
          },
          "metadata": {
            "needs_background": "light"
          }
        }
      ]
    },
    {
      "cell_type": "code",
      "metadata": {
        "id": "TOpkZLgFrEzA"
      },
      "source": [
        "y_pred_final = cross_val_predict(clf_best_dt, X_test, y_test, cv=10, n_jobs=-1)\n",
        "y_proba_final = cross_val_predict(clf_best_dt, X_test, y_test, cv=10, method='predict_proba', n_jobs=-1)\n",
        "ranking_profit_final = create_ranking_profit_df(\"Decision Tree\", y_test, y_proba_final)"
      ],
      "execution_count": 106,
      "outputs": []
    },
    {
      "cell_type": "code",
      "metadata": {
        "colab": {
          "base_uri": "https://localhost:8080/",
          "height": 423
        },
        "id": "M7UpLHmqrEwU",
        "outputId": "2cb0f6b1-3564-40e1-d939-d7e10dd0e465"
      },
      "source": [
        "ranking_profit_final"
      ],
      "execution_count": 107,
      "outputs": [
        {
          "output_type": "execute_result",
          "data": {
            "text/html": [
              "<div>\n",
              "<style scoped>\n",
              "    .dataframe tbody tr th:only-of-type {\n",
              "        vertical-align: middle;\n",
              "    }\n",
              "\n",
              "    .dataframe tbody tr th {\n",
              "        vertical-align: top;\n",
              "    }\n",
              "\n",
              "    .dataframe thead th {\n",
              "        text-align: right;\n",
              "    }\n",
              "</style>\n",
              "<table border=\"1\" class=\"dataframe\">\n",
              "  <thead>\n",
              "    <tr style=\"text-align: right;\">\n",
              "      <th></th>\n",
              "      <th>score</th>\n",
              "      <th>actual</th>\n",
              "      <th>profit</th>\n",
              "      <th>cum_profit</th>\n",
              "    </tr>\n",
              "  </thead>\n",
              "  <tbody>\n",
              "    <tr>\n",
              "      <th>2403</th>\n",
              "      <td>0.80</td>\n",
              "      <td>0</td>\n",
              "      <td>-10</td>\n",
              "      <td>-10</td>\n",
              "    </tr>\n",
              "    <tr>\n",
              "      <th>1915</th>\n",
              "      <td>0.75</td>\n",
              "      <td>0</td>\n",
              "      <td>-10</td>\n",
              "      <td>-20</td>\n",
              "    </tr>\n",
              "    <tr>\n",
              "      <th>718</th>\n",
              "      <td>0.75</td>\n",
              "      <td>1</td>\n",
              "      <td>90</td>\n",
              "      <td>70</td>\n",
              "    </tr>\n",
              "    <tr>\n",
              "      <th>2880</th>\n",
              "      <td>0.75</td>\n",
              "      <td>0</td>\n",
              "      <td>-10</td>\n",
              "      <td>60</td>\n",
              "    </tr>\n",
              "    <tr>\n",
              "      <th>2603</th>\n",
              "      <td>0.75</td>\n",
              "      <td>0</td>\n",
              "      <td>-10</td>\n",
              "      <td>50</td>\n",
              "    </tr>\n",
              "    <tr>\n",
              "      <th>...</th>\n",
              "      <td>...</td>\n",
              "      <td>...</td>\n",
              "      <td>...</td>\n",
              "      <td>...</td>\n",
              "    </tr>\n",
              "    <tr>\n",
              "      <th>3180</th>\n",
              "      <td>0.00</td>\n",
              "      <td>0</td>\n",
              "      <td>-10</td>\n",
              "      <td>-16260</td>\n",
              "    </tr>\n",
              "    <tr>\n",
              "      <th>328</th>\n",
              "      <td>0.00</td>\n",
              "      <td>0</td>\n",
              "      <td>-10</td>\n",
              "      <td>-16270</td>\n",
              "    </tr>\n",
              "    <tr>\n",
              "      <th>268</th>\n",
              "      <td>0.00</td>\n",
              "      <td>0</td>\n",
              "      <td>-10</td>\n",
              "      <td>-16280</td>\n",
              "    </tr>\n",
              "    <tr>\n",
              "      <th>1846</th>\n",
              "      <td>0.00</td>\n",
              "      <td>1</td>\n",
              "      <td>90</td>\n",
              "      <td>-16190</td>\n",
              "    </tr>\n",
              "    <tr>\n",
              "      <th>1454</th>\n",
              "      <td>0.00</td>\n",
              "      <td>0</td>\n",
              "      <td>-10</td>\n",
              "      <td>-16200</td>\n",
              "    </tr>\n",
              "  </tbody>\n",
              "</table>\n",
              "<p>4000 rows × 4 columns</p>\n",
              "</div>"
            ],
            "text/plain": [
              "      score  actual  profit  cum_profit\n",
              "2403   0.80       0     -10         -10\n",
              "1915   0.75       0     -10         -20\n",
              "718    0.75       1      90          70\n",
              "2880   0.75       0     -10          60\n",
              "2603   0.75       0     -10          50\n",
              "...     ...     ...     ...         ...\n",
              "3180   0.00       0     -10      -16260\n",
              "328    0.00       0     -10      -16270\n",
              "268    0.00       0     -10      -16280\n",
              "1846   0.00       1      90      -16190\n",
              "1454   0.00       0     -10      -16200\n",
              "\n",
              "[4000 rows x 4 columns]"
            ]
          },
          "metadata": {},
          "execution_count": 107
        }
      ]
    },
    {
      "cell_type": "code",
      "metadata": {
        "colab": {
          "base_uri": "https://localhost:8080/",
          "height": 292
        },
        "id": "VK2imgcZrEt6",
        "outputId": "cac8a812-87b2-4fd9-9559-06c2a9f754ca"
      },
      "source": [
        "plot_profit_curve(\"Decision tree on the test data set\", ranking_profit_final)"
      ],
      "execution_count": 108,
      "outputs": [
        {
          "output_type": "display_data",
          "data": {
            "image/png": "[encoded data removed]",
            "text/plain": [
              "<Figure size 432x288 with 1 Axes>"
            ]
          },
          "metadata": {
            "needs_background": "light"
          }
        }
      ]
    },
    {
      "cell_type": "code",
      "metadata": {
        "id": "bXn66my2rEnZ"
      },
      "source": [
        ""
      ],
      "execution_count": null,
      "outputs": []
    }
  ]
}